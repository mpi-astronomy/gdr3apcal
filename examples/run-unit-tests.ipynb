{
 "cells": [
  {
   "cell_type": "code",
   "execution_count": null,
   "metadata": {
    "cell_id": "00002-d9f22110-8273-4701-b484-1d6eab390435",
    "deepnote_cell_type": "code",
    "deepnote_to_be_reexecuted": false,
    "execution_millis": 48413,
    "execution_start": 1634212032146,
    "source_hash": "8da99b2d",
    "tags": []
   },
   "outputs": [
    {
     "name": "stdout",
     "output_type": "stream",
     "text": [
      "/work/gdr3calib/models/GSPPhot-Teff-calibration-extratrees-2021-Oct-07.joblib.gz c92ccbe47bdf1fd2bf4e1823aafc134e\n",
      "/shared-libs/python3.7/py/lib/python3.7/site-packages/sklearn/base.py:333: UserWarning: Trying to unpickle estimator ExtraTreeRegressor from version 0.24.2 when using version 1.0. This might lead to breaking code or invalid results. Use at your own risk. For more info please refer to:\n",
      "https://scikit-learn.org/stable/modules/model_persistence.html#security-maintainability-limitations\n",
      "  UserWarning,\n",
      "/shared-libs/python3.7/py/lib/python3.7/site-packages/sklearn/base.py:333: UserWarning: Trying to unpickle estimator ExtraTreesRegressor from version 0.24.2 when using version 1.0. This might lead to breaking code or invalid results. Use at your own risk. For more info please refer to:\n",
      "https://scikit-learn.org/stable/modules/model_persistence.html#security-maintainability-limitations\n",
      "  UserWarning,\n",
      "/work/gdr3calib/models/GSPPhot-Teff-calibration-extratrees-2021-Oct-07.joblib.gz c92ccbe47bdf1fd2bf4e1823aafc134e\n",
      "/shared-libs/python3.7/py/lib/python3.7/site-packages/sklearn/base.py:333: UserWarning: Trying to unpickle estimator ExtraTreeRegressor from version 0.24.2 when using version 1.0. This might lead to breaking code or invalid results. Use at your own risk. For more info please refer to:\n",
      "https://scikit-learn.org/stable/modules/model_persistence.html#security-maintainability-limitations\n",
      "  UserWarning,\n",
      "/shared-libs/python3.7/py/lib/python3.7/site-packages/sklearn/base.py:333: UserWarning: Trying to unpickle estimator ExtraTreesRegressor from version 0.24.2 when using version 1.0. This might lead to breaking code or invalid results. Use at your own risk. For more info please refer to:\n",
      "https://scikit-learn.org/stable/modules/model_persistence.html#security-maintainability-limitations\n",
      "  UserWarning,\n",
      "/work/gdr3calib/models/GSPPhot-Teff-calibration-extratrees-2021-Oct-07.joblib.gz c92ccbe47bdf1fd2bf4e1823aafc134e\n",
      "/work/gdr3calib/models/GSPPhot-metal-calibration-extratrees-LAMOST-DR6-flat-2021-Oct-12.joblib.gz 3dfe3b02a871cf9ee444955afc9cd109\n",
      "/shared-libs/python3.7/py/lib/python3.7/site-packages/sklearn/base.py:333: UserWarning: Trying to unpickle estimator ExtraTreeRegressor from version 0.24.2 when using version 1.0. This might lead to breaking code or invalid results. Use at your own risk. For more info please refer to:\n",
      "https://scikit-learn.org/stable/modules/model_persistence.html#security-maintainability-limitations\n",
      "  UserWarning,\n",
      "/shared-libs/python3.7/py/lib/python3.7/site-packages/sklearn/base.py:333: UserWarning: Trying to unpickle estimator ExtraTreesRegressor from version 0.24.2 when using version 1.0. This might lead to breaking code or invalid results. Use at your own risk. For more info please refer to:\n",
      "https://scikit-learn.org/stable/modules/model_persistence.html#security-maintainability-limitations\n",
      "  UserWarning,\n",
      "Automatically adding \"cos(b)\" from \"b\" [assuming radians].\n",
      "Automatically adding \"cos(b)\" from \"b\" [assuming degrees].\n",
      "/work/gdr3calib/models/GSPPhot-metal-calibration-extratrees-LAMOST-DR6-flat-2021-Oct-12.joblib.gz 3dfe3b02a871cf9ee444955afc9cd109\n",
      "/shared-libs/python3.7/py/lib/python3.7/site-packages/sklearn/base.py:333: UserWarning: Trying to unpickle estimator ExtraTreeRegressor from version 0.24.2 when using version 1.0. This might lead to breaking code or invalid results. Use at your own risk. For more info please refer to:\n",
      "https://scikit-learn.org/stable/modules/model_persistence.html#security-maintainability-limitations\n",
      "  UserWarning,\n",
      "/shared-libs/python3.7/py/lib/python3.7/site-packages/sklearn/base.py:333: UserWarning: Trying to unpickle estimator ExtraTreesRegressor from version 0.24.2 when using version 1.0. This might lead to breaking code or invalid results. Use at your own risk. For more info please refer to:\n",
      "https://scikit-learn.org/stable/modules/model_persistence.html#security-maintainability-limitations\n",
      "  UserWarning,\n",
      "Automatically adding cos(b) form given ra and dec assuming degrees.\n"
     ]
    }
   ],
   "source": [
    "from gdr3apcal import unittests\n",
    "# Confirm reproducibility of results on valid data.\n",
    "unittests.test_result_with_all_columns_available()\n",
    "# Confirm recognition of missing columns.\n",
    "unittests.test_result_missing_columns_in_DataFrame()\n",
    "# Confirm stability for missing input values.\n",
    "unittests.test_with_some_features_NaN()\n",
    "# Confirm automatic addition of cosb from given b.\n",
    "unittests.test_automatic_addtion_of_cosb_from_b()\n",
    "# Confirm automatic addition of cosb from given ra and dec.\n",
    "unittests.test_automatic_addtion_of_cosb_from_ra_dec()"
   ]
  }
 ],
 "metadata": {
  "deepnote": {
   "is_reactive": false
  },
  "deepnote_execution_queue": [],
  "deepnote_notebook_id": "6110a777-cfd7-43cd-bec9-739a0813d0ec",
  "language_info": {
   "name": "python"
  },
  "orig_nbformat": 2
 },
 "nbformat": 4,
 "nbformat_minor": 2
}
