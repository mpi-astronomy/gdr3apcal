{
 "cells": [
  {
   "cell_type": "markdown",
   "metadata": {
    "cell_id": "00000-a53d1b8e-6f4b-4790-ad19-c4a90b5d2777",
    "deepnote_cell_type": "markdown",
    "tags": []
   },
   "source": [
    "# GDR3 Calibration Tool\n",
    "\n",
    "### Contributors: René Andrae, Morgan Fouesneau"
   ]
  },
  {
   "cell_type": "markdown",
   "metadata": {
    "cell_id": "00001-4948e89c-662b-4d53-9196-7c8e08f4c09c",
    "deepnote_cell_type": "markdown",
    "tags": []
   },
   "source": [
    "## Requirements\n",
    "\n",
    "This package relies on input data and some astronomical tools\n",
    "\n",
    "* `pandas` is necessary for reading the input data. Most functions assume `pandas.DataFrame` as inputs.\n",
    "* `astropy` is used to compute Galactic coordinates when they are not provided. (some models use `cos(b)` as feature)\n",
    "* `scikit-learn` (optional) when calibration models are based upon `BaseEstimator` (e.g, Extratrees, SVM)\n",
    "* `joblib` (optional; requirement of scikit-learn) allows the package to load trained models from binary files\n",
    "* `numpy` for usual array operations\n",
    "* `git+https://github.com/scikit-learn-contrib/py-earth@v0.2dev` (optional) to support operations on MARS models (e.g., training, conversion)"
   ]
  },
  {
   "cell_type": "markdown",
   "metadata": {
    "cell_id": "00001-d670091a-b0aa-4a10-9549-29cffb7f0344",
    "deepnote_cell_type": "markdown",
    "tags": []
   },
   "source": [
    "## Preliminary verfications\n",
    "\n",
    "In this section, we check the package installation and configuration."
   ]
  },
  {
   "cell_type": "code",
   "execution_count": 1,
   "metadata": {
    "cell_id": "00004-c5000143-18b4-430c-98e3-76a70c7a0194",
    "deepnote_cell_type": "code",
    "deepnote_to_be_reexecuted": false,
    "execution_millis": 13,
    "execution_start": 1636465756533,
    "source_hash": "371ed427",
    "tags": []
   },
   "outputs": [],
   "source": [
    "import sys\n",
    "\n",
    "# uncommented, this line allows us to work with the \n",
    "# trunk version without installing the package.\n",
    "sys.path.insert(0, '../src/')"
   ]
  },
  {
   "cell_type": "code",
   "execution_count": 2,
   "metadata": {
    "cell_id": "00001-ce6d4cfd-01ba-47c2-bffa-b916d4b2d09a",
    "deepnote_cell_type": "code",
    "deepnote_to_be_reexecuted": false,
    "execution_millis": 2808,
    "execution_start": 1636465758282,
    "source_hash": "770401ff",
    "tags": []
   },
   "outputs": [
    {
     "name": "stdout",
     "output_type": "stream",
     "text": [
      " \n",
      "Code version 1.6\n",
      "Package installed in: /root/work/gdr3calib/gdr3calib\n",
      "Model directory: /root/work/gdr3calib/gdr3calib/models\n",
      "\n"
     ]
    }
   ],
   "source": [
    "import gdr3apcal\n",
    "print(\"\"\" \n",
    "Code version {0}\n",
    "Package installed in: {1}\n",
    "Model directory: {2}\n",
    "\"\"\".format(gdr3apcal.__VERSION__, \n",
    "           gdr3apcal.config.__PACKAGE_DIR__, \n",
    "           gdr3apcal.config.modelsdir))"
   ]
  },
  {
   "cell_type": "markdown",
   "metadata": {
    "cell_id": "00005-90830f9b-3a78-42c0-8123-d866b181b736",
    "deepnote_cell_type": "markdown",
    "tags": []
   },
   "source": [
    "## Converting a pyearth.Earth model to functions\n",
    "In this section, we convert an `pyearth.Earth` model into python functions.\n",
    "\n",
    "`py-Earth` is a Python implementation of _Jerome Friedman_'s Multivariate Adaptive Regression Splines (MARS) algorithm.\n",
    "The main issue with this package is that it is often a pain to install. For instance, it is not compatible with `python 3.9` at the moment.\n",
    "Therefore, we replace trained models by their functional forms.\n",
    "\n",
    "We could eventually compile the resulting functions to gain some speed.\n",
    "\n",
    "**references** \n",
    "\n",
    "[_friedman91]: Friedman, J. (1991). _Multivariate adaptive regression splines_. The annals of statistics, 19(1), 1–67. http://www.jstor.org/stable/10.2307/2241837"
   ]
  },
  {
   "cell_type": "code",
   "execution_count": null,
   "metadata": {
    "cell_id": "00008-b673d52e-c255-4459-8735-95d2ef01b9ef",
    "deepnote_cell_type": "code",
    "deepnote_to_be_reexecuted": false,
    "execution_millis": 370,
    "execution_start": 1636465360653,
    "source_hash": "1200ea33",
    "tags": []
   },
   "outputs": [
    {
     "name": "stdout",
     "output_type": "stream",
     "text": [
      "model mh configuration \n",
      "\n",
      "mh:\n",
      "  callable: true\n",
      "  features:\n",
      "  - teff_gspphot\n",
      "  - logg_gspphot\n",
      "  - mh_gspphot\n",
      "  - azero_gspphot\n",
      "  - ebpminrp_gspphot\n",
      "  - ag_gspphot\n",
      "  - mg_gspphot\n",
      "  - cosb\n",
      "  - libname_gspphot\n",
      "  filename: mars_mh.py\n",
      "  groupby: libname_gspphot\n",
      "  label: mh_gspphot\n",
      "  md5sum: 799524bd242bf2b2ffa08c3a349dfebb\n",
      "  version: '0.7'\n",
      "\n"
     ]
    }
   ],
   "source": [
    "from glob import glob\n",
    "from gdr3apcal.mars_converter import convert_pyearth_models_from_dumps\n",
    "\n",
    "# converting files from the package model directory\n",
    "# This is not necessarily the place you have the models\n",
    "#\n",
    "# Note: you can directly convert models from the `pyearth.Earth` objects\n",
    "#       with `mars_converter.dump_pyearth_models`\n",
    "flist = glob(gdr3apcal.config.modelsdir + '/mars*joblib')\n",
    "\n",
    "# final source code exported into the following file\n",
    "output_python_file = 'mars_mh.py'\n",
    "\n",
    "# necessary description that is not stored with the model\n",
    "modelname = 'mh'\n",
    "features = ['teff_gspphot', 'logg_gspphot', 'mh_gspphot',\n",
    "            'azero_gspphot', 'ebpminrp_gspphot', 'ag_gspphot',\n",
    "            'mg_gspphot', 'cosb', 'libname_gspphot']\n",
    "label = 'mh_gspphot'\n",
    "groupby = 'libname_gspphot'    # multilib model applies on those groups.\n",
    "version = '0.7'                # to keep track\n",
    "\n",
    "# The following calls the conversion and prints the configuration of this model\n",
    "# One can copy-paste the output to the `configuration.yaml` and the source file\n",
    "# to the `modeldir`.\n",
    "if flist:  # run only if some models were found.\n",
    "    fname, md5sum = convert_pyearth_models_from_dumps(flist, output_python_file)\n",
    "\n",
    "    models = __import__(fname.replace('.py', '')).models\n",
    "    models, md5sum\n",
    "\n",
    "    config_ = {modelname: {'features': features,\n",
    "                           'label': label,\n",
    "                           'filename': fname, \n",
    "                           'md5sum': md5sum,\n",
    "                           'groupby': groupby,\n",
    "                           'callable': True,    # def model as functions\n",
    "                           'version': version}}\n",
    "    import yaml\n",
    "    print(f'model {modelname:s} configuration \\n')\n",
    "    print(yaml.dump(config_))"
   ]
  },
  {
   "cell_type": "markdown",
   "metadata": {
    "cell_id": "00007-c6f789c9-5224-4e61-90e6-9292c387da04",
    "deepnote_cell_type": "markdown",
    "tags": []
   },
   "source": [
    "## Using fake data\n",
    "\n",
    "In this section, we check that the code runs on fake data. The results are meaningless but this provides an operational test\n"
   ]
  },
  {
   "cell_type": "code",
   "execution_count": 3,
   "metadata": {
    "cell_id": "00011-453da0f6-088e-4bbc-8144-b64d0f80ae06",
    "deepnote_cell_type": "code",
    "deepnote_to_be_reexecuted": false,
    "execution_millis": 409,
    "execution_start": 1636465762882,
    "source_hash": "6a305806",
    "tags": []
   },
   "outputs": [
    {
     "data": {
      "application/vnd.deepnote.dataframe.v2+json": {
       "column_count": 9,
       "columns": [
        {
         "dtype": "float64",
         "name": "teff_gspphot",
         "stats": {
          "histogram": [
           {
            "bin_end": 0.10076546092246777,
            "bin_start": 0.001032932657734631,
            "count": 97
           },
           {
            "bin_end": 0.2004979891872009,
            "bin_start": 0.10076546092246777,
            "count": 87
           },
           {
            "bin_end": 0.3002305174519341,
            "bin_start": 0.2004979891872009,
            "count": 117
           },
           {
            "bin_end": 0.3999630457166672,
            "bin_start": 0.3002305174519341,
            "count": 103
           },
           {
            "bin_end": 0.4996955739814003,
            "bin_start": 0.3999630457166672,
            "count": 102
           },
           {
            "bin_end": 0.5994281022461335,
            "bin_start": 0.4996955739814003,
            "count": 104
           },
           {
            "bin_end": 0.6991606305108666,
            "bin_start": 0.5994281022461335,
            "count": 97
           },
           {
            "bin_end": 0.7988931587755997,
            "bin_start": 0.6991606305108666,
            "count": 100
           },
           {
            "bin_end": 0.8986256870403329,
            "bin_start": 0.7988931587755997,
            "count": 96
           },
           {
            "bin_end": 0.998358215305066,
            "bin_start": 0.8986256870403329,
            "count": 97
           }
          ],
          "max": "0.998358215305066",
          "min": "0.001032932657734631",
          "nan_count": 0,
          "unique_count": 1000
         }
        },
        {
         "dtype": "float64",
         "name": "logg_gspphot",
         "stats": {
          "histogram": [
           {
            "bin_end": 0.10064542436073104,
            "bin_start": 0.0007865415296364198,
            "count": 96
           },
           {
            "bin_end": 0.20050430719182566,
            "bin_start": 0.10064542436073104,
            "count": 100
           },
           {
            "bin_end": 0.3003631900229203,
            "bin_start": 0.20050430719182566,
            "count": 102
           },
           {
            "bin_end": 0.4002220728540149,
            "bin_start": 0.3003631900229203,
            "count": 97
           },
           {
            "bin_end": 0.5000809556851096,
            "bin_start": 0.4002220728540149,
            "count": 103
           },
           {
            "bin_end": 0.5999398385162041,
            "bin_start": 0.5000809556851096,
            "count": 119
           },
           {
            "bin_end": 0.6997987213472987,
            "bin_start": 0.5999398385162041,
            "count": 107
           },
           {
            "bin_end": 0.7996576041783934,
            "bin_start": 0.6997987213472987,
            "count": 90
           },
           {
            "bin_end": 0.899516487009488,
            "bin_start": 0.7996576041783934,
            "count": 106
           },
           {
            "bin_end": 0.9993753698405826,
            "bin_start": 0.899516487009488,
            "count": 80
           }
          ],
          "max": "0.9993753698405826",
          "min": "0.0007865415296364198",
          "nan_count": 0,
          "unique_count": 1000
         }
        },
        {
         "dtype": "float64",
         "name": "mh_gspphot",
         "stats": {
          "histogram": [
           {
            "bin_end": 0.09995498804459099,
            "bin_start": 0.00011437481734488664,
            "count": 95
           },
           {
            "bin_end": 0.1997956012718371,
            "bin_start": 0.09995498804459099,
            "count": 104
           },
           {
            "bin_end": 0.2996362144990832,
            "bin_start": 0.1997956012718371,
            "count": 116
           },
           {
            "bin_end": 0.3994768277263293,
            "bin_start": 0.2996362144990832,
            "count": 101
           },
           {
            "bin_end": 0.49931744095357544,
            "bin_start": 0.3994768277263293,
            "count": 82
           },
           {
            "bin_end": 0.5991580541808215,
            "bin_start": 0.49931744095357544,
            "count": 103
           },
           {
            "bin_end": 0.6989986674080676,
            "bin_start": 0.5991580541808215,
            "count": 100
           },
           {
            "bin_end": 0.7988392806353137,
            "bin_start": 0.6989986674080676,
            "count": 104
           },
           {
            "bin_end": 0.8986798938625599,
            "bin_start": 0.7988392806353137,
            "count": 111
           },
           {
            "bin_end": 0.9985205070898059,
            "bin_start": 0.8986798938625599,
            "count": 84
           }
          ],
          "max": "0.9985205070898059",
          "min": "0.00011437481734488664",
          "nan_count": 0,
          "unique_count": 1000
         }
        },
        {
         "dtype": "float64",
         "name": "azero_gspphot",
         "stats": {
          "histogram": [
           {
            "bin_end": 0.10124280666453528,
            "bin_start": 0.0018096254757870023,
            "count": 95
           },
           {
            "bin_end": 0.20067598785328356,
            "bin_start": 0.10124280666453528,
            "count": 104
           },
           {
            "bin_end": 0.30010916904203183,
            "bin_start": 0.20067598785328356,
            "count": 102
           },
           {
            "bin_end": 0.3995423502307801,
            "bin_start": 0.30010916904203183,
            "count": 83
           },
           {
            "bin_end": 0.4989755314195284,
            "bin_start": 0.3995423502307801,
            "count": 98
           },
           {
            "bin_end": 0.5984087126082767,
            "bin_start": 0.4989755314195284,
            "count": 102
           },
           {
            "bin_end": 0.6978418937970249,
            "bin_start": 0.5984087126082767,
            "count": 110
           },
           {
            "bin_end": 0.7972750749857732,
            "bin_start": 0.6978418937970249,
            "count": 97
           },
           {
            "bin_end": 0.8967082561745215,
            "bin_start": 0.7972750749857732,
            "count": 97
           },
           {
            "bin_end": 0.9961414373632698,
            "bin_start": 0.8967082561745215,
            "count": 112
           }
          ],
          "max": "0.9961414373632698",
          "min": "0.0018096254757870023",
          "nan_count": 0,
          "unique_count": 1000
         }
        },
        {
         "dtype": "float64",
         "name": "ebpminrp_gspphot",
         "stats": {
          "histogram": [
           {
            "bin_end": 0.10211671255977883,
            "bin_start": 0.0025075596679231538,
            "count": 103
           },
           {
            "bin_end": 0.2017258654516345,
            "bin_start": 0.10211671255977883,
            "count": 108
           },
           {
            "bin_end": 0.3013350183434902,
            "bin_start": 0.2017258654516345,
            "count": 100
           },
           {
            "bin_end": 0.40094417123534587,
            "bin_start": 0.3013350183434902,
            "count": 91
           },
           {
            "bin_end": 0.5005533241272015,
            "bin_start": 0.40094417123534587,
            "count": 100
           },
           {
            "bin_end": 0.6001624770190572,
            "bin_start": 0.5005533241272015,
            "count": 101
           },
           {
            "bin_end": 0.6997716299109129,
            "bin_start": 0.6001624770190572,
            "count": 105
           },
           {
            "bin_end": 0.7993807828027686,
            "bin_start": 0.6997716299109129,
            "count": 105
           },
           {
            "bin_end": 0.8989899356946243,
            "bin_start": 0.7993807828027686,
            "count": 98
           },
           {
            "bin_end": 0.9985990885864799,
            "bin_start": 0.8989899356946243,
            "count": 89
           }
          ],
          "max": "0.9985990885864799",
          "min": "0.0025075596679231538",
          "nan_count": 0,
          "unique_count": 1000
         }
        },
        {
         "dtype": "float64",
         "name": "ag_gspphot",
         "stats": {
          "histogram": [
           {
            "bin_end": 0.10340188392583458,
            "bin_start": 0.0037936724093425855,
            "count": 115
           },
           {
            "bin_end": 0.20301009544232657,
            "bin_start": 0.10340188392583458,
            "count": 99
           },
           {
            "bin_end": 0.30261830695881853,
            "bin_start": 0.20301009544232657,
            "count": 91
           },
           {
            "bin_end": 0.40222651847531055,
            "bin_start": 0.30261830695881853,
            "count": 92
           },
           {
            "bin_end": 0.5018347299918026,
            "bin_start": 0.40222651847531055,
            "count": 105
           },
           {
            "bin_end": 0.6014429415082945,
            "bin_start": 0.5018347299918026,
            "count": 100
           },
           {
            "bin_end": 0.7010511530247865,
            "bin_start": 0.6014429415082945,
            "count": 95
           },
           {
            "bin_end": 0.8006593645412785,
            "bin_start": 0.7010511530247865,
            "count": 102
           },
           {
            "bin_end": 0.9002675760577705,
            "bin_start": 0.8006593645412785,
            "count": 102
           },
           {
            "bin_end": 0.9998757875742624,
            "bin_start": 0.9002675760577705,
            "count": 99
           }
          ],
          "max": "0.9998757875742624",
          "min": "0.0037936724093425855",
          "nan_count": 0,
          "unique_count": 1000
         }
        },
        {
         "dtype": "float64",
         "name": "mg_gspphot",
         "stats": {
          "histogram": [
           {
            "bin_end": 0.10025659949070169,
            "bin_start": 0.00039838005475179017,
            "count": 106
           },
           {
            "bin_end": 0.2001148189266516,
            "bin_start": 0.10025659949070169,
            "count": 100
           },
           {
            "bin_end": 0.2999730383626015,
            "bin_start": 0.2001148189266516,
            "count": 87
           },
           {
            "bin_end": 0.3998312577985514,
            "bin_start": 0.2999730383626015,
            "count": 90
           },
           {
            "bin_end": 0.4996894772345013,
            "bin_start": 0.3998312577985514,
            "count": 113
           },
           {
            "bin_end": 0.5995476966704512,
            "bin_start": 0.4996894772345013,
            "count": 106
           },
           {
            "bin_end": 0.6994059161064011,
            "bin_start": 0.5995476966704512,
            "count": 104
           },
           {
            "bin_end": 0.799264135542351,
            "bin_start": 0.6994059161064011,
            "count": 108
           },
           {
            "bin_end": 0.8991223549783008,
            "bin_start": 0.799264135542351,
            "count": 86
           },
           {
            "bin_end": 0.9989805744142508,
            "bin_start": 0.8991223549783008,
            "count": 100
           }
          ],
          "max": "0.9989805744142508",
          "min": "0.00039838005475179017",
          "nan_count": 0,
          "unique_count": 1000
         }
        },
        {
         "dtype": "float64",
         "name": "cosb",
         "stats": {
          "histogram": [
           {
            "bin_end": 0.09985359174616584,
            "bin_start": 0.00009695068767479054,
            "count": 95
           },
           {
            "bin_end": 0.1996102328046569,
            "bin_start": 0.09985359174616584,
            "count": 93
           },
           {
            "bin_end": 0.299366873863148,
            "bin_start": 0.1996102328046569,
            "count": 114
           },
           {
            "bin_end": 0.399123514921639,
            "bin_start": 0.299366873863148,
            "count": 90
           },
           {
            "bin_end": 0.49888015598013,
            "bin_start": 0.399123514921639,
            "count": 96
           },
           {
            "bin_end": 0.5986367970386212,
            "bin_start": 0.49888015598013,
            "count": 106
           },
           {
            "bin_end": 0.6983934380971122,
            "bin_start": 0.5986367970386212,
            "count": 98
           },
           {
            "bin_end": 0.7981500791556032,
            "bin_start": 0.6983934380971122,
            "count": 93
           },
           {
            "bin_end": 0.8979067202140942,
            "bin_start": 0.7981500791556032,
            "count": 111
           },
           {
            "bin_end": 0.9976633612725854,
            "bin_start": 0.8979067202140942,
            "count": 104
           }
          ],
          "max": "0.9976633612725854",
          "min": "9.695068767479054e-05",
          "nan_count": 0,
          "unique_count": 1000
         }
        },
        {
         "dtype": "object",
         "name": "libname_gspphot",
         "stats": {
          "categories": [
           {
            "count": 465,
            "name": "MARCS"
           },
           {
            "count": 422,
            "name": "PHOENIX"
           },
           {
            "count": 113,
            "name": "2 others"
           }
          ],
          "nan_count": 0,
          "unique_count": 4
         }
        },
        {
         "dtype": "int64",
         "name": "_deepnote_index_column"
        }
       ],
       "row_count": 1000,
       "rows_bottom": [
        {
         "_deepnote_index_column": 944,
         "ag_gspphot": 0.45103666336142967,
         "azero_gspphot": 0.06441455558999432,
         "cosb": 0.0738371214671103,
         "ebpminrp_gspphot": 0.5383369738276937,
         "libname_gspphot": "PHOENIX",
         "logg_gspphot": 0.45604890526821484,
         "mg_gspphot": 0.40235758085061735,
         "mh_gspphot": 0.37693032552866945,
         "teff_gspphot": 0.7263294207538828
        },
        {
         "_deepnote_index_column": 945,
         "ag_gspphot": 0.34238010486750714,
         "azero_gspphot": 0.6315193751584096,
         "cosb": 0.508387052071505,
         "ebpminrp_gspphot": 0.5776757092668451,
         "libname_gspphot": "PHOENIX",
         "logg_gspphot": 0.6084318435625956,
         "mg_gspphot": 0.13547209354428358,
         "mh_gspphot": 0.9150842044818704,
         "teff_gspphot": 0.19381527773177742
        },
        {
         "_deepnote_index_column": 946,
         "ag_gspphot": 0.9570051593071168,
         "azero_gspphot": 0.18299838466551555,
         "cosb": 0.1929202498652035,
         "ebpminrp_gspphot": 0.239661038667916,
         "libname_gspphot": "PHOENIX",
         "logg_gspphot": 0.9675160512217241,
         "mg_gspphot": 0.7579994325513983,
         "mh_gspphot": 0.7619527551460046,
         "teff_gspphot": 0.646264386510034
        },
        {
         "_deepnote_index_column": 947,
         "ag_gspphot": 0.06973537318191225,
         "azero_gspphot": 0.009476728336672902,
         "cosb": 0.09703096659416077,
         "ebpminrp_gspphot": 0.6681102630115944,
         "libname_gspphot": "PHOENIX",
         "logg_gspphot": 0.8334745764952222,
         "mg_gspphot": 0.23780283351735532,
         "mh_gspphot": 0.4362504921837924,
         "teff_gspphot": 0.7019515256116091
        },
        {
         "_deepnote_index_column": 948,
         "ag_gspphot": 0.42115512383964726,
         "azero_gspphot": 0.7543831454273469,
         "cosb": 0.22165770944842889,
         "ebpminrp_gspphot": 0.5083634914837105,
         "libname_gspphot": "MARCS",
         "logg_gspphot": 0.8340376858241484,
         "mg_gspphot": 0.21872045870972412,
         "mh_gspphot": 0.23516079445795335,
         "teff_gspphot": 0.8704678489581614
        },
        {
         "_deepnote_index_column": 949,
         "ag_gspphot": 0.26187922041592226,
         "azero_gspphot": 0.8822147521600333,
         "cosb": 0.1011961778485243,
         "ebpminrp_gspphot": 0.15504790708048177,
         "libname_gspphot": "PHOENIX",
         "logg_gspphot": 0.2488172644444101,
         "mg_gspphot": 0.6335788899144427,
         "mh_gspphot": 0.5896510407183438,
         "teff_gspphot": 0.09080224189977038
        },
        {
         "_deepnote_index_column": 950,
         "ag_gspphot": 0.33837041141726376,
         "azero_gspphot": 0.7657758892176267,
         "cosb": 0.8508533185750283,
         "ebpminrp_gspphot": 0.09519516474853629,
         "libname_gspphot": "MARCS",
         "logg_gspphot": 0.44685383989224614,
         "mg_gspphot": 0.5789653809689242,
         "mh_gspphot": 0.0504344253698894,
         "teff_gspphot": 0.5153436626309549
        },
        {
         "_deepnote_index_column": 951,
         "ag_gspphot": 0.43820436885450265,
         "azero_gspphot": 0.827617609689202,
         "cosb": 0.4614412714413426,
         "ebpminrp_gspphot": 0.9215921398800737,
         "libname_gspphot": "PHOENIX",
         "logg_gspphot": 0.8102817876920854,
         "mg_gspphot": 0.26205727220066743,
         "mh_gspphot": 0.4366646847601863,
         "teff_gspphot": 0.2608540595703396
        },
        {
         "_deepnote_index_column": 952,
         "ag_gspphot": 0.12850655738010353,
         "azero_gspphot": 0.49679987628811106,
         "cosb": 0.26859625661778563,
         "ebpminrp_gspphot": 0.47015558320993156,
         "libname_gspphot": "MARCS",
         "logg_gspphot": 0.6587777496016949,
         "mg_gspphot": 0.33438845358569713,
         "mh_gspphot": 0.6323467659345259,
         "teff_gspphot": 0.09481196613008325
        },
        {
         "_deepnote_index_column": 953,
         "ag_gspphot": 0.5995208688771461,
         "azero_gspphot": 0.7012078961280072,
         "cosb": 0.2174500608079628,
         "ebpminrp_gspphot": 0.4958984257890332,
         "libname_gspphot": "MARCS",
         "logg_gspphot": 0.41980793529182203,
         "mg_gspphot": 0.3967172335932181,
         "mh_gspphot": 0.8360325144622136,
         "teff_gspphot": 0.5358096824399532
        },
        {
         "_deepnote_index_column": 954,
         "ag_gspphot": 0.7370804274734573,
         "azero_gspphot": 0.6322917161742105,
         "cosb": 0.10234366068069578,
         "ebpminrp_gspphot": 0.7095784105620381,
         "libname_gspphot": "MARCS",
         "logg_gspphot": 0.9226379620076153,
         "mg_gspphot": 0.2702196513908227,
         "mh_gspphot": 0.2612865849662258,
         "teff_gspphot": 0.7422382387079779
        },
        {
         "_deepnote_index_column": 955,
         "ag_gspphot": 0.28837762708030035,
         "azero_gspphot": 0.05842915844901253,
         "cosb": 0.16529977323778589,
         "ebpminrp_gspphot": 0.6542826683517684,
         "libname_gspphot": "OB",
         "logg_gspphot": 0.4431945320954932,
         "mg_gspphot": 0.87784612312382,
         "mh_gspphot": 0.6827042322361274,
         "teff_gspphot": 0.7185556977205204
        },
        {
         "_deepnote_index_column": 956,
         "ag_gspphot": 0.08267884225462441,
         "azero_gspphot": 0.4004636287679887,
         "cosb": 0.5624406546832501,
         "ebpminrp_gspphot": 0.285458605613679,
         "libname_gspphot": "MARCS",
         "logg_gspphot": 0.9691536248704717,
         "mg_gspphot": 0.70977290318725,
         "mh_gspphot": 0.08612807479938256,
         "teff_gspphot": 0.44556939941112794
        },
        {
         "_deepnote_index_column": 957,
         "ag_gspphot": 0.20311831652007328,
         "azero_gspphot": 0.46990700090992055,
         "cosb": 0.016449522160534746,
         "ebpminrp_gspphot": 0.7252611363548896,
         "libname_gspphot": "MARCS",
         "logg_gspphot": 0.22760918587366263,
         "mg_gspphot": 0.1934499563193176,
         "mh_gspphot": 0.10466229803072646,
         "teff_gspphot": 0.9880425819623193
        },
        {
         "_deepnote_index_column": 958,
         "ag_gspphot": 0.664980667707614,
         "azero_gspphot": 0.7062021114324124,
         "cosb": 0.13418471890209593,
         "ebpminrp_gspphot": 0.05931474172104623,
         "libname_gspphot": "MARCS",
         "logg_gspphot": 0.5866704043875799,
         "mg_gspphot": 0.18851263000276564,
         "mh_gspphot": 0.4601439312376284,
         "teff_gspphot": 0.6133762322104728
        },
        {
         "_deepnote_index_column": 959,
         "ag_gspphot": 0.41814394508824493,
         "azero_gspphot": 0.06243118298266215,
         "cosb": 0.009260792599712353,
         "ebpminrp_gspphot": 0.10037044284731844,
         "libname_gspphot": "MARCS",
         "logg_gspphot": 0.6885777887392898,
         "mg_gspphot": 0.7761757630254699,
         "mh_gspphot": 0.634781343776063,
         "teff_gspphot": 0.8948720969657141
        },
        {
         "_deepnote_index_column": 960,
         "ag_gspphot": 0.8075743630505015,
         "azero_gspphot": 0.5982848178353359,
         "cosb": 0.847426552438305,
         "ebpminrp_gspphot": 0.6875538059548866,
         "libname_gspphot": "MARCS",
         "logg_gspphot": 0.20022478890014916,
         "mg_gspphot": 0.587895929137139,
         "mh_gspphot": 0.8935831835634025,
         "teff_gspphot": 0.4647392329960919
        },
        {
         "_deepnote_index_column": 961,
         "ag_gspphot": 0.8027078235403018,
         "azero_gspphot": 0.9764457443256467,
         "cosb": 0.5204649305412268,
         "ebpminrp_gspphot": 0.3502420541887973,
         "libname_gspphot": "PHOENIX",
         "logg_gspphot": 0.1743742544301099,
         "mg_gspphot": 0.6772735200470011,
         "mh_gspphot": 0.6415486866239462,
         "teff_gspphot": 0.47045690615576596
        },
        {
         "_deepnote_index_column": 962,
         "ag_gspphot": 0.2505399028495292,
         "azero_gspphot": 0.7829488655110971,
         "cosb": 0.7380434153390356,
         "ebpminrp_gspphot": 0.5916311670413844,
         "libname_gspphot": "A",
         "logg_gspphot": 0.8388341897342522,
         "mg_gspphot": 0.17356085019448353,
         "mh_gspphot": 0.4261749551545053,
         "teff_gspphot": 0.14443378168662324
        },
        {
         "_deepnote_index_column": 963,
         "ag_gspphot": 0.01455531958774392,
         "azero_gspphot": 0.9046026812360445,
         "cosb": 0.12828783997698,
         "ebpminrp_gspphot": 0.09351274709809176,
         "libname_gspphot": "MARCS",
         "logg_gspphot": 0.21762459810863888,
         "mg_gspphot": 0.30403812182122614,
         "mh_gspphot": 0.8653057523789415,
         "teff_gspphot": 0.11211607766439868
        },
        {
         "_deepnote_index_column": 964,
         "ag_gspphot": 0.6793056674854859,
         "azero_gspphot": 0.9805662133474197,
         "cosb": 0.15189076195457607,
         "ebpminrp_gspphot": 0.4295753227898882,
         "libname_gspphot": "PHOENIX",
         "logg_gspphot": 0.502333105638994,
         "mg_gspphot": 0.8894128873162288,
         "mh_gspphot": 0.5614116009801927,
         "teff_gspphot": 0.25704260673116586
        },
        {
         "_deepnote_index_column": 965,
         "ag_gspphot": 0.31133569130415606,
         "azero_gspphot": 0.161024821901793,
         "cosb": 0.9489169636138999,
         "ebpminrp_gspphot": 0.3435796459222342,
         "libname_gspphot": "A",
         "logg_gspphot": 0.2967479654499071,
         "mg_gspphot": 0.7623540929688339,
         "mh_gspphot": 0.12967703404117714,
         "teff_gspphot": 0.09316967577162494
        },
        {
         "_deepnote_index_column": 966,
         "ag_gspphot": 0.8418942568979288,
         "azero_gspphot": 0.2576442080537198,
         "cosb": 0.17505048669094747,
         "ebpminrp_gspphot": 0.30135337283120434,
         "libname_gspphot": "PHOENIX",
         "logg_gspphot": 0.9834718161022173,
         "mg_gspphot": 0.5848888438376766,
         "mh_gspphot": 0.9518297300140469,
         "teff_gspphot": 0.5807172115041802
        },
        {
         "_deepnote_index_column": 967,
         "ag_gspphot": 0.25449550014048417,
         "azero_gspphot": 0.7724330893621765,
         "cosb": 0.29271707506570055,
         "ebpminrp_gspphot": 0.6036394882959618,
         "libname_gspphot": "PHOENIX",
         "logg_gspphot": 0.5451377952541675,
         "mg_gspphot": 0.00971042667849531,
         "mh_gspphot": 0.14794795942461925,
         "teff_gspphot": 0.05212529321481296
        },
        {
         "_deepnote_index_column": 968,
         "ag_gspphot": 0.2304756814040383,
         "azero_gspphot": 0.9826427980672796,
         "cosb": 0.6858331281445118,
         "ebpminrp_gspphot": 0.7796915275949212,
         "libname_gspphot": "PHOENIX",
         "logg_gspphot": 0.19308492057639204,
         "mg_gspphot": 0.27347793278223553,
         "mh_gspphot": 0.2910826897189972,
         "teff_gspphot": 0.6138350318491007
        },
        {
         "_deepnote_index_column": 969,
         "ag_gspphot": 0.5827064341396158,
         "azero_gspphot": 0.8114194768670469,
         "cosb": 0.6310200146846088,
         "ebpminrp_gspphot": 0.45962502138243555,
         "libname_gspphot": "A",
         "logg_gspphot": 0.3678219344504361,
         "mg_gspphot": 0.5514613501568549,
         "mh_gspphot": 0.02373970849643281,
         "teff_gspphot": 0.9729903558283189
        },
        {
         "_deepnote_index_column": 970,
         "ag_gspphot": 0.3294286259850273,
         "azero_gspphot": 0.04493506620366905,
         "cosb": 0.2512244763730329,
         "ebpminrp_gspphot": 0.6326846161404825,
         "libname_gspphot": "MARCS",
         "logg_gspphot": 0.37326337356650985,
         "mg_gspphot": 0.537203662010405,
         "mh_gspphot": 0.8627572746214635,
         "teff_gspphot": 0.7211452759996735
        },
        {
         "_deepnote_index_column": 971,
         "ag_gspphot": 0.9393425480079048,
         "azero_gspphot": 0.48557209339156804,
         "cosb": 0.5299696356006303,
         "ebpminrp_gspphot": 0.7235124207488516,
         "libname_gspphot": "PHOENIX",
         "logg_gspphot": 0.6849177933331294,
         "mg_gspphot": 0.18872175643249733,
         "mh_gspphot": 0.3086669850247702,
         "teff_gspphot": 0.3001550095965593
        },
        {
         "_deepnote_index_column": 972,
         "ag_gspphot": 0.7715512636809257,
         "azero_gspphot": 0.7451722940792243,
         "cosb": 0.4543629996407662,
         "ebpminrp_gspphot": 0.7686177661078851,
         "libname_gspphot": "PHOENIX",
         "logg_gspphot": 0.5344742234982433,
         "mg_gspphot": 0.8841416018493845,
         "mh_gspphot": 0.7852567837369651,
         "teff_gspphot": 0.7416324099203885
        },
        {
         "_deepnote_index_column": 973,
         "ag_gspphot": 0.15701994175187017,
         "azero_gspphot": 0.26969022968661616,
         "cosb": 0.5959401598854732,
         "ebpminrp_gspphot": 0.7374674844405326,
         "libname_gspphot": "MARCS",
         "logg_gspphot": 0.14676480860576868,
         "mg_gspphot": 0.7231511339980125,
         "mh_gspphot": 0.23564001048222405,
         "teff_gspphot": 0.45973320955301544
        },
        {
         "_deepnote_index_column": 974,
         "ag_gspphot": 0.7629625753270766,
         "azero_gspphot": 0.0759626670370882,
         "cosb": 0.4985757767114166,
         "ebpminrp_gspphot": 0.5065128478395181,
         "libname_gspphot": "MARCS",
         "logg_gspphot": 0.7252757813692942,
         "mg_gspphot": 0.2918082136787866,
         "mh_gspphot": 0.6988769650155452,
         "teff_gspphot": 0.930296549200289
        },
        {
         "_deepnote_index_column": 975,
         "ag_gspphot": 0.21789775701444414,
         "azero_gspphot": 0.5656965504954423,
         "cosb": 0.7689410151747503,
         "ebpminrp_gspphot": 0.9496325674539587,
         "libname_gspphot": "MARCS",
         "logg_gspphot": 0.45019852856586473,
         "mg_gspphot": 0.43850164735306585,
         "mh_gspphot": 0.24376701665983158,
         "teff_gspphot": 0.3017664138542656
        },
        {
         "_deepnote_index_column": 976,
         "ag_gspphot": 0.2480702656848114,
         "azero_gspphot": 0.3252482413057569,
         "cosb": 0.8829054331575175,
         "ebpminrp_gspphot": 0.5767290705796181,
         "libname_gspphot": "MARCS",
         "logg_gspphot": 0.9131037583952504,
         "mg_gspphot": 0.8119226749467645,
         "mh_gspphot": 0.3941602561694155,
         "teff_gspphot": 0.14093215059665354
        },
        {
         "_deepnote_index_column": 977,
         "ag_gspphot": 0.8036713715357816,
         "azero_gspphot": 0.6048073860080235,
         "cosb": 0.3866619198088327,
         "ebpminrp_gspphot": 0.9963033501283456,
         "libname_gspphot": "PHOENIX",
         "logg_gspphot": 0.35123729546759486,
         "mg_gspphot": 0.7415439359783439,
         "mh_gspphot": 0.14604385757930216,
         "teff_gspphot": 0.8344120035606956
        },
        {
         "_deepnote_index_column": 978,
         "ag_gspphot": 0.6010334038485287,
         "azero_gspphot": 0.6530671228811312,
         "cosb": 0.38402339775794814,
         "ebpminrp_gspphot": 0.04261712013320562,
         "libname_gspphot": "PHOENIX",
         "logg_gspphot": 0.2946457267244722,
         "mg_gspphot": 0.45500851291727396,
         "mh_gspphot": 0.29923716590750804,
         "teff_gspphot": 0.40617160361488036
        },
        {
         "_deepnote_index_column": 979,
         "ag_gspphot": 0.19789438016061667,
         "azero_gspphot": 0.16058968220353576,
         "cosb": 0.9524791341400045,
         "ebpminrp_gspphot": 0.6725214855355899,
         "libname_gspphot": "PHOENIX",
         "logg_gspphot": 0.09084278978433535,
         "mg_gspphot": 0.4741905075759688,
         "mh_gspphot": 0.24893904711645976,
         "teff_gspphot": 0.7210407639397239
        },
        {
         "_deepnote_index_column": 980,
         "ag_gspphot": 0.019068304911229683,
         "azero_gspphot": 0.28897383683653544,
         "cosb": 0.24771875270793253,
         "ebpminrp_gspphot": 0.7780183154105149,
         "libname_gspphot": "MARCS",
         "logg_gspphot": 0.667898400488555,
         "mg_gspphot": 0.8735325273474475,
         "mh_gspphot": 0.8565373948165286,
         "teff_gspphot": 0.7905925876462667
        },
        {
         "_deepnote_index_column": 981,
         "ag_gspphot": 0.4834859078247933,
         "azero_gspphot": 0.8918912218619655,
         "cosb": 0.9571577633498716,
         "ebpminrp_gspphot": 0.09247225185090102,
         "libname_gspphot": "A",
         "logg_gspphot": 0.12635046996477473,
         "mg_gspphot": 0.8853170454685281,
         "mh_gspphot": 0.587805744380721,
         "teff_gspphot": 0.12307805178907671
        },
        {
         "_deepnote_index_column": 982,
         "ag_gspphot": 0.7615244760627026,
         "azero_gspphot": 0.3849268258539609,
         "cosb": 0.6967967714058799,
         "ebpminrp_gspphot": 0.13586768281242778,
         "libname_gspphot": "PHOENIX",
         "logg_gspphot": 0.3619180806554202,
         "mg_gspphot": 0.22085903712938248,
         "mh_gspphot": 0.585318512218753,
         "teff_gspphot": 0.9907733805475168
        },
        {
         "_deepnote_index_column": 983,
         "ag_gspphot": 0.7416063258422393,
         "azero_gspphot": 0.42229305222570024,
         "cosb": 0.5381318023034241,
         "ebpminrp_gspphot": 0.05466438062411605,
         "libname_gspphot": "MARCS",
         "logg_gspphot": 0.27256100036319986,
         "mg_gspphot": 0.8087170955700695,
         "mh_gspphot": 0.5084999239087201,
         "teff_gspphot": 0.8094607492462642
        },
        {
         "_deepnote_index_column": 984,
         "ag_gspphot": 0.7820188765394223,
         "azero_gspphot": 0.5670984747961159,
         "cosb": 0.5602679703534711,
         "ebpminrp_gspphot": 0.6212051208794244,
         "libname_gspphot": "MARCS",
         "logg_gspphot": 0.0410853843612663,
         "mg_gspphot": 0.6014899356742027,
         "mh_gspphot": 0.1822604090258093,
         "teff_gspphot": 0.7593324793451239
        },
        {
         "_deepnote_index_column": 985,
         "ag_gspphot": 0.626840856603752,
         "azero_gspphot": 0.23339778510514908,
         "cosb": 0.3063987452015421,
         "ebpminrp_gspphot": 0.8866066047703342,
         "libname_gspphot": "MARCS",
         "logg_gspphot": 0.18539194140690685,
         "mg_gspphot": 0.6571730573920647,
         "mh_gspphot": 0.1481317641648029,
         "teff_gspphot": 0.6696219088367484
        },
        {
         "_deepnote_index_column": 986,
         "ag_gspphot": 0.07764744268881363,
         "azero_gspphot": 0.9354903130192457,
         "cosb": 0.4871678287200538,
         "ebpminrp_gspphot": 0.8036757349948541,
         "libname_gspphot": "PHOENIX",
         "logg_gspphot": 0.5970854712152235,
         "mg_gspphot": 0.17487039382724756,
         "mh_gspphot": 0.21492578509404692,
         "teff_gspphot": 0.2590492442320327
        },
        {
         "_deepnote_index_column": 987,
         "ag_gspphot": 0.3445927725865443,
         "azero_gspphot": 0.3420574059042657,
         "cosb": 0.1839924772579591,
         "ebpminrp_gspphot": 0.8358960385877582,
         "libname_gspphot": "PHOENIX",
         "logg_gspphot": 0.2902000637402178,
         "mg_gspphot": 0.7214472826829712,
         "mh_gspphot": 0.9613688629740385,
         "teff_gspphot": 0.26933734728893666
        },
        {
         "_deepnote_index_column": 988,
         "ag_gspphot": 0.98993373676698,
         "azero_gspphot": 0.4368944702095553,
         "cosb": 0.7558642889744805,
         "ebpminrp_gspphot": 0.9488619206015387,
         "libname_gspphot": "MARCS",
         "logg_gspphot": 0.5742532613159245,
         "mg_gspphot": 0.3784051868600159,
         "mh_gspphot": 0.7278777629239127,
         "teff_gspphot": 0.6859522908215363
        },
        {
         "_deepnote_index_column": 989,
         "ag_gspphot": 0.34939166157716794,
         "azero_gspphot": 0.001967313315809349,
         "cosb": 0.24443485487905903,
         "ebpminrp_gspphot": 0.946767974837847,
         "libname_gspphot": "PHOENIX",
         "logg_gspphot": 0.8126646667583345,
         "mg_gspphot": 0.03703511173753948,
         "mh_gspphot": 0.449650087738774,
         "teff_gspphot": 0.9339262744974002
        },
        {
         "_deepnote_index_column": 990,
         "ag_gspphot": 0.7989188305966479,
         "azero_gspphot": 0.6674811374287861,
         "cosb": 0.8502087217194733,
         "ebpminrp_gspphot": 0.01387696297965213,
         "libname_gspphot": "PHOENIX",
         "logg_gspphot": 0.46377053562567894,
         "mg_gspphot": 0.5349330029497574,
         "mh_gspphot": 0.12421156761786689,
         "teff_gspphot": 0.9629413623732076
        },
        {
         "_deepnote_index_column": 991,
         "ag_gspphot": 0.7728260851890291,
         "azero_gspphot": 0.8149915768502317,
         "cosb": 0.8906599714636352,
         "ebpminrp_gspphot": 0.6315433287533713,
         "libname_gspphot": "PHOENIX",
         "logg_gspphot": 0.0901338049271303,
         "mg_gspphot": 0.6311070805966217,
         "mh_gspphot": 0.6927961514517303,
         "teff_gspphot": 0.2292002820712543
        },
        {
         "_deepnote_index_column": 992,
         "ag_gspphot": 0.22810777138660387,
         "azero_gspphot": 0.11999422864908049,
         "cosb": 0.9688212939823716,
         "ebpminrp_gspphot": 0.7671463204539772,
         "libname_gspphot": "MARCS",
         "logg_gspphot": 0.17376943486482732,
         "mg_gspphot": 0.11092072359208072,
         "mh_gspphot": 0.5493890821410513,
         "teff_gspphot": 0.9927595709542888
        },
        {
         "_deepnote_index_column": 993,
         "ag_gspphot": 0.909363689182419,
         "azero_gspphot": 0.09051086822186694,
         "cosb": 0.6502748603356173,
         "ebpminrp_gspphot": 0.8152257780664033,
         "libname_gspphot": "MARCS",
         "logg_gspphot": 0.8299427778664995,
         "mg_gspphot": 0.06824056478908413,
         "mh_gspphot": 0.02597734262616025,
         "teff_gspphot": 0.44752879024022496
        },
        {
         "_deepnote_index_column": 994,
         "ag_gspphot": 0.5449448281591872,
         "azero_gspphot": 0.47260352682401374,
         "cosb": 0.914464174575458,
         "ebpminrp_gspphot": 0.011484095694761609,
         "libname_gspphot": "MARCS",
         "logg_gspphot": 0.20653881914120897,
         "mg_gspphot": 0.7824014326143914,
         "mh_gspphot": 0.42479659743074394,
         "teff_gspphot": 0.5533159529201206
        },
        {
         "_deepnote_index_column": 995,
         "ag_gspphot": 0.9141598048609619,
         "azero_gspphot": 0.7046197857242306,
         "cosb": 0.20457814788675333,
         "ebpminrp_gspphot": 0.6093831788149814,
         "libname_gspphot": "PHOENIX",
         "logg_gspphot": 0.7917762385516411,
         "mg_gspphot": 0.6795394415046571,
         "mh_gspphot": 0.4393889450987575,
         "teff_gspphot": 0.04604306700673422
        },
        {
         "_deepnote_index_column": 996,
         "ag_gspphot": 0.41597456194355076,
         "azero_gspphot": 0.9902462356876611,
         "cosb": 0.7621130650948048,
         "ebpminrp_gspphot": 0.08437382953831885,
         "libname_gspphot": "PHOENIX",
         "logg_gspphot": 0.8083601315760913,
         "mg_gspphot": 0.8880493772812115,
         "mh_gspphot": 0.05115003662590789,
         "teff_gspphot": 0.9896940562241727
        },
        {
         "_deepnote_index_column": 997,
         "ag_gspphot": 0.9458922635696894,
         "azero_gspphot": 0.8999442022772963,
         "cosb": 0.2336218654472415,
         "ebpminrp_gspphot": 0.8189570634610228,
         "libname_gspphot": "PHOENIX",
         "logg_gspphot": 0.5336908954122388,
         "mg_gspphot": 0.39955783482580964,
         "mh_gspphot": 0.34697627084287064,
         "teff_gspphot": 0.6730471756972256
        },
        {
         "_deepnote_index_column": 998,
         "ag_gspphot": 0.7995845221791255,
         "azero_gspphot": 0.5371066489210002,
         "cosb": 0.19036227270886008,
         "ebpminrp_gspphot": 0.8096903038056384,
         "libname_gspphot": "PHOENIX",
         "logg_gspphot": 0.6890987289879855,
         "mg_gspphot": 0.8477747263258465,
         "mh_gspphot": 0.543365274913635,
         "teff_gspphot": 0.7232198067153376
        },
        {
         "_deepnote_index_column": 999,
         "ag_gspphot": 0.6746587928200555,
         "azero_gspphot": 0.2689029565790664,
         "cosb": 0.8213913121406857,
         "ebpminrp_gspphot": 0.4793551966839251,
         "libname_gspphot": "MARCS",
         "logg_gspphot": 0.773663414276347,
         "mg_gspphot": 0.6842307262238536,
         "mh_gspphot": 0.5655340619345856,
         "teff_gspphot": 0.20027392293997848
        }
       ],
       "rows_top": [
        {
         "_deepnote_index_column": 0,
         "ag_gspphot": 0.0923385947687978,
         "azero_gspphot": 0.30233257263183977,
         "cosb": 0.34556072704304774,
         "ebpminrp_gspphot": 0.14675589081711304,
         "libname_gspphot": "MARCS",
         "logg_gspphot": 0.7203244934421581,
         "mg_gspphot": 0.1862602113776709,
         "mh_gspphot": 0.00011437481734488664,
         "teff_gspphot": 0.417022004702574
        },
        {
         "_deepnote_index_column": 1,
         "ag_gspphot": 0.8781174363909454,
         "azero_gspphot": 0.6852195003967595,
         "cosb": 0.6704675101784022,
         "ebpminrp_gspphot": 0.20445224973151743,
         "libname_gspphot": "PHOENIX",
         "logg_gspphot": 0.538816734003357,
         "mg_gspphot": 0.027387593197926163,
         "mh_gspphot": 0.4191945144032948,
         "teff_gspphot": 0.39676747423066994
        },
        {
         "_deepnote_index_column": 2,
         "ag_gspphot": 0.9682615757193975,
         "azero_gspphot": 0.1981014890848788,
         "cosb": 0.6923226156693141,
         "ebpminrp_gspphot": 0.8007445686755367,
         "libname_gspphot": "PHOENIX",
         "logg_gspphot": 0.5586898284457517,
         "mg_gspphot": 0.31342417815924284,
         "mh_gspphot": 0.14038693859523377,
         "teff_gspphot": 0.41730480236712697
        },
        {
         "_deepnote_index_column": 3,
         "ag_gspphot": 0.8781425034294131,
         "azero_gspphot": 0.03905478323288236,
         "cosb": 0.42110762500505217,
         "ebpminrp_gspphot": 0.1698304195645689,
         "libname_gspphot": "MARCS",
         "logg_gspphot": 0.8946066635038473,
         "mg_gspphot": 0.0983468338330501,
         "mh_gspphot": 0.08504421136977791,
         "teff_gspphot": 0.8763891522960383
        },
        {
         "_deepnote_index_column": 4,
         "ag_gspphot": 0.8346256718973729,
         "azero_gspphot": 0.31551563100606295,
         "cosb": 0.7501443149449675,
         "ebpminrp_gspphot": 0.6865009276815837,
         "libname_gspphot": "MARCS",
         "logg_gspphot": 0.5331652849730171,
         "mg_gspphot": 0.018288277344191806,
         "mh_gspphot": 0.6918771139504734,
         "teff_gspphot": 0.9578895301505019
        },
        {
         "_deepnote_index_column": 5,
         "ag_gspphot": 0.44789352617590517,
         "azero_gspphot": 0.7892793284514885,
         "cosb": 0.2936141483736795,
         "ebpminrp_gspphot": 0.10322600657764203,
         "libname_gspphot": "PHOENIX",
         "logg_gspphot": 0.7481656543798394,
         "mg_gspphot": 0.9085955030930956,
         "mh_gspphot": 0.2804439920644052,
         "teff_gspphot": 0.9888610889064947
        },
        {
         "_deepnote_index_column": 6,
         "ag_gspphot": 0.2655466593722262,
         "azero_gspphot": 0.678835532939891,
         "cosb": 0.053362545117080384,
         "ebpminrp_gspphot": 0.21162811600005904,
         "libname_gspphot": "A",
         "logg_gspphot": 0.13002857211827767,
         "mg_gspphot": 0.4915731592803383,
         "mh_gspphot": 0.019366957870297075,
         "teff_gspphot": 0.28777533858634874
        },
        {
         "_deepnote_index_column": 7,
         "ag_gspphot": 0.4140559878195683,
         "azero_gspphot": 0.6997583600209312,
         "cosb": 0.41417926952690265,
         "ebpminrp_gspphot": 0.10233442882782584,
         "libname_gspphot": "PHOENIX",
         "logg_gspphot": 0.14672857490581015,
         "mg_gspphot": 0.6944001577277451,
         "mh_gspphot": 0.5893055369032842,
         "teff_gspphot": 0.5741176054920131
        },
        {
         "_deepnote_index_column": 8,
         "ag_gspphot": 0.5865550405019929,
         "azero_gspphot": 0.5148891120583086,
         "cosb": 0.13747470414623753,
         "ebpminrp_gspphot": 0.9445947559908133,
         "libname_gspphot": "MARCS",
         "logg_gspphot": 0.5358964059155116,
         "mg_gspphot": 0.9034019152878835,
         "mh_gspphot": 0.6637946452197888,
         "teff_gspphot": 0.04995345894608716
        },
        {
         "_deepnote_index_column": 9,
         "ag_gspphot": 0.34776585974550656,
         "azero_gspphot": 0.16535419711693278,
         "cosb": 0.7259979853504515,
         "ebpminrp_gspphot": 0.9275085803960339,
         "libname_gspphot": "MARCS",
         "logg_gspphot": 0.8073912887095238,
         "mg_gspphot": 0.7508121031361555,
         "mh_gspphot": 0.3976768369855336,
         "teff_gspphot": 0.13927634725075855
        },
        {
         "_deepnote_index_column": 10,
         "ag_gspphot": 0.8958862181960668,
         "azero_gspphot": 0.34889834197784253,
         "cosb": 0.9648400471483856,
         "ebpminrp_gspphot": 0.2699278917650261,
         "libname_gspphot": "MARCS",
         "logg_gspphot": 0.6236722070556089,
         "mg_gspphot": 0.4280911898712949,
         "mh_gspphot": 0.7509424340273372,
         "teff_gspphot": 0.8833060912058098
        },
        {
         "_deepnote_index_column": 11,
         "ag_gspphot": 0.5783896143871318,
         "azero_gspphot": 0.9494892587070712,
         "cosb": 0.2370269802430277,
         "ebpminrp_gspphot": 0.4499121334799405,
         "libname_gspphot": "MARCS",
         "logg_gspphot": 0.6216957202091218,
         "mg_gspphot": 0.40813680276128117,
         "mh_gspphot": 0.11474597295337519,
         "teff_gspphot": 0.6634414978184481
        },
        {
         "_deepnote_index_column": 12,
         "ag_gspphot": 0.5270581022576093,
         "azero_gspphot": 0.6171449136207239,
         "cosb": 0.35726976000249977,
         "ebpminrp_gspphot": 0.32664490177209615,
         "libname_gspphot": "MARCS",
         "logg_gspphot": 0.5736794866722859,
         "mg_gspphot": 0.8859420993107745,
         "mh_gspphot": 0.00287032703115897,
         "teff_gspphot": 0.9033795205622538
        },
        {
         "_deepnote_index_column": 13,
         "ag_gspphot": 0.9973228504514805,
         "azero_gspphot": 0.9294372337437613,
         "cosb": 0.13713574962887776,
         "ebpminrp_gspphot": 0.690896917516924,
         "libname_gspphot": "MARCS",
         "logg_gspphot": 0.6233601157918027,
         "mg_gspphot": 0.17234050834532855,
         "mh_gspphot": 0.015821242846556283,
         "teff_gspphot": 0.9085351509197992
        },
        {
         "_deepnote_index_column": 14,
         "ag_gspphot": 0.9230245355464833,
         "azero_gspphot": 0.7554630526024664,
         "cosb": 0.1242709619721647,
         "ebpminrp_gspphot": 0.7538761884612464,
         "libname_gspphot": "PHOENIX",
         "logg_gspphot": 0.6968181614899002,
         "mg_gspphot": 0.7115247586284718,
         "mh_gspphot": 0.06600017272206249,
         "teff_gspphot": 0.9325954630371636
        },
        {
         "_deepnote_index_column": 15,
         "ag_gspphot": 0.5388310643416528,
         "azero_gspphot": 0.2462110676030459,
         "cosb": 0.8420308923596057,
         "ebpminrp_gspphot": 0.860027948682888,
         "libname_gspphot": "A",
         "logg_gspphot": 0.026210986877719278,
         "mg_gspphot": 0.5528219786857659,
         "mh_gspphot": 0.028306488020794607,
         "teff_gspphot": 0.01988013383979559
        },
        {
         "_deepnote_index_column": 16,
         "ag_gspphot": 0.01864728937294302,
         "azero_gspphot": 0.9695957483196745,
         "cosb": 0.23297427384102043,
         "ebpminrp_gspphot": 0.56103021925571,
         "libname_gspphot": "PHOENIX",
         "logg_gspphot": 0.2791836790111395,
         "mg_gspphot": 0.8006326726806163,
         "mh_gspphot": 0.5857592714582879,
         "teff_gspphot": 0.12417331511991114
        },
        {
         "_deepnote_index_column": 17,
         "ag_gspphot": 0.13645522566068502,
         "azero_gspphot": 0.7471216427371846,
         "cosb": 0.12134345574073735,
         "ebpminrp_gspphot": 0.5562402339904189,
         "libname_gspphot": "MARCS",
         "logg_gspphot": 0.38786064406417176,
         "mg_gspphot": 0.05991768951221166,
         "mh_gspphot": 0.8635418545594287,
         "teff_gspphot": 0.8071051956187791
        },
        {
         "_deepnote_index_column": 18,
         "ag_gspphot": 0.012555980159115854,
         "azero_gspphot": 0.7129889803826767,
         "cosb": 0.967276330000272,
         "ebpminrp_gspphot": 0.5597169820541424,
         "libname_gspphot": "MARCS",
         "logg_gspphot": 0.1074941291060929,
         "mg_gspphot": 0.07197427968948678,
         "mh_gspphot": 0.2257093386078547,
         "teff_gspphot": 0.044551878544761725
        },
        {
         "_deepnote_index_column": 19,
         "ag_gspphot": 0.5813589272732578,
         "azero_gspphot": 0.7438258540750929,
         "cosb": 0.8468288014900353,
         "ebpminrp_gspphot": 0.1954294811093188,
         "libname_gspphot": "PHOENIX",
         "logg_gspphot": 0.20329323466099047,
         "mg_gspphot": 0.9700199890883123,
         "mh_gspphot": 0.2523257445703234,
         "teff_gspphot": 0.5681004619199421
        },
        {
         "_deepnote_index_column": 20,
         "ag_gspphot": 0.018576202177409518,
         "azero_gspphot": 0.8289808995501787,
         "cosb": 0.4863451109370318,
         "ebpminrp_gspphot": 0.15679139464608427,
         "libname_gspphot": "PHOENIX",
         "logg_gspphot": 0.49376971426872995,
         "mg_gspphot": 0.07002214371922233,
         "mh_gspphot": 0.6199557183813798,
         "teff_gspphot": 0.23984775914758616
        },
        {
         "_deepnote_index_column": 21,
         "ag_gspphot": 0.3801411726235504,
         "azero_gspphot": 0.9886161544124489,
         "cosb": 0.7453344309065021,
         "ebpminrp_gspphot": 0.5797452192457969,
         "libname_gspphot": "A",
         "logg_gspphot": 0.5688514370864813,
         "mg_gspphot": 0.5509482191178968,
         "mh_gspphot": 0.31736240932216075,
         "teff_gspphot": 0.6063294616533303
        },
        {
         "_deepnote_index_column": 22,
         "ag_gspphot": 0.2101740099148396,
         "azero_gspphot": 0.3700841979141063,
         "cosb": 0.06653648135411494,
         "ebpminrp_gspphot": 0.6297175070215645,
         "libname_gspphot": "PHOENIX",
         "logg_gspphot": 0.2649195576628094,
         "mg_gspphot": 0.7527555537388139,
         "mh_gspphot": 0.06633483442844157,
         "teff_gspphot": 0.6692328934531846
        },
        {
         "_deepnote_index_column": 23,
         "ag_gspphot": 0.9248079703993507,
         "azero_gspphot": 0.6394608808799401,
         "cosb": 0.06596109068402378,
         "ebpminrp_gspphot": 0.5246703091237337,
         "libname_gspphot": "A",
         "logg_gspphot": 0.8047545637433454,
         "mg_gspphot": 0.263296770487111,
         "mh_gspphot": 0.19343428262332774,
         "teff_gspphot": 0.26031509857854096
        },
        {
         "_deepnote_index_column": 24,
         "ag_gspphot": 0.2343620861214205,
         "azero_gspphot": 0.9319720691968373,
         "cosb": 0.9490163206876164,
         "ebpminrp_gspphot": 0.013951572975597015,
         "libname_gspphot": "A",
         "logg_gspphot": 0.7721780295432468,
         "mg_gspphot": 0.6167783570016576,
         "mh_gspphot": 0.907815852503524,
         "teff_gspphot": 0.7350659632886695
        },
        {
         "_deepnote_index_column": 25,
         "ag_gspphot": 0.48599066709690975,
         "azero_gspphot": 0.6415662089463375,
         "cosb": 0.5495479215085626,
         "ebpminrp_gspphot": 0.39000771414124624,
         "libname_gspphot": "MARCS",
         "logg_gspphot": 0.5566531881951564,
         "mg_gspphot": 0.6043104829199732,
         "mh_gspphot": 0.9156063497662745,
         "teff_gspphot": 0.9501761192470797
        },
        {
         "_deepnote_index_column": 26,
         "ag_gspphot": 0.12632951943963733,
         "azero_gspphot": 0.9632625284407118,
         "cosb": 0.5056621656768967,
         "ebpminrp_gspphot": 0.17395566668046436,
         "libname_gspphot": "PHOENIX",
         "logg_gspphot": 0.9187334356336061,
         "mg_gspphot": 0.13507915804673132,
         "mh_gspphot": 0.3948756129235549,
         "teff_gspphot": 0.9261814267064536
        },
        {
         "_deepnote_index_column": 27,
         "ag_gspphot": 0.332063574366837,
         "azero_gspphot": 0.015018980742122379,
         "cosb": 0.8094906921265821,
         "ebpminrp_gspphot": 0.17619625557505525,
         "libname_gspphot": "MARCS",
         "logg_gspphot": 0.947970211217681,
         "mg_gspphot": 0.1309968448109169,
         "mh_gspphot": 0.8271154711707325,
         "teff_gspphot": 0.021524805274197978
        },
        {
         "_deepnote_index_column": 28,
         "ag_gspphot": 0.9053923187086492,
         "azero_gspphot": 0.8788319844118441,
         "cosb": 0.5463468160203733,
         "ebpminrp_gspphot": 0.8447344453922219,
         "libname_gspphot": "MARCS",
         "logg_gspphot": 0.9401074823333672,
         "mg_gspphot": 0.45988026581680697,
         "mh_gspphot": 0.58201417994708,
         "teff_gspphot": 0.34473665268329345
        },
        {
         "_deepnote_index_column": 29,
         "ag_gspphot": 0.5934814081966372,
         "azero_gspphot": 0.5991103076458784,
         "cosb": 0.8073605288848414,
         "ebpminrp_gspphot": 0.015533275550835723,
         "libname_gspphot": "MARCS",
         "logg_gspphot": 0.28571885173414757,
         "mg_gspphot": 0.4336763489894583,
         "mh_gspphot": 0.4902535226199277,
         "teff_gspphot": 0.7986035911520394
        },
        {
         "_deepnote_index_column": 30,
         "ag_gspphot": 0.6120311770449339,
         "azero_gspphot": 0.18401020162746506,
         "cosb": 0.4201936800011322,
         "ebpminrp_gspphot": 0.7879292338255043,
         "libname_gspphot": "PHOENIX",
         "logg_gspphot": 0.8928887085251513,
         "mg_gspphot": 0.053909272073752956,
         "mh_gspphot": 0.5778572152845355,
         "teff_gspphot": 0.31524480309537295
        },
        {
         "_deepnote_index_column": 31,
         "ag_gspphot": 0.9737835383583225,
         "azero_gspphot": 0.9767591490310596,
         "cosb": 0.828845807980693,
         "ebpminrp_gspphot": 0.37658031474577447,
         "libname_gspphot": "PHOENIX",
         "logg_gspphot": 0.9186017779775258,
         "mg_gspphot": 0.604716100974053,
         "mh_gspphot": 0.00040202489135743313,
         "teff_gspphot": 0.6790688365654296
        },
        {
         "_deepnote_index_column": 32,
         "ag_gspphot": 0.8583138364290424,
         "azero_gspphot": 0.586833340656083,
         "cosb": 0.698057248447303,
         "ebpminrp_gspphot": 0.7500217637026599,
         "libname_gspphot": "MARCS",
         "logg_gspphot": 0.6280761983073504,
         "mg_gspphot": 0.7550821884676802,
         "mh_gspphot": 0.28557628169569393,
         "teff_gspphot": 0.5747115047081023
        },
        {
         "_deepnote_index_column": 33,
         "ag_gspphot": 0.4108113499221856,
         "azero_gspphot": 0.45087393641334916,
         "cosb": 0.3173839459582769,
         "ebpminrp_gspphot": 0.3821027520315172,
         "libname_gspphot": "MARCS",
         "logg_gspphot": 0.32268099683674645,
         "mg_gspphot": 0.4014795834695406,
         "mh_gspphot": 0.6707887907875872,
         "teff_gspphot": 0.8644794300545998
        },
        {
         "_deepnote_index_column": 34,
         "ag_gspphot": 0.4267010093480328,
         "azero_gspphot": 0.6778008914343111,
         "cosb": 0.7976388039585666,
         "ebpminrp_gspphot": 0.19856988842711087,
         "libname_gspphot": "PHOENIX",
         "logg_gspphot": 0.43024727082126435,
         "mg_gspphot": 0.343346239774423,
         "mh_gspphot": 0.9738020779272523,
         "teff_gspphot": 0.6219193679203014
        },
        {
         "_deepnote_index_column": 35,
         "ag_gspphot": 0.8548979426974024,
         "azero_gspphot": 0.2702082620297578,
         "cosb": 0.8021610840045981,
         "ebpminrp_gspphot": 0.25236670150458973,
         "libname_gspphot": "PHOENIX",
         "logg_gspphot": 0.903841955826372,
         "mg_gspphot": 0.5277146463087466,
         "mh_gspphot": 0.6627198123752622,
         "teff_gspphot": 0.8799982885634318
        },
        {
         "_deepnote_index_column": 36,
         "ag_gspphot": 0.4657098785919809,
         "azero_gspphot": 0.770883910501888,
         "cosb": 0.06820934841670412,
         "ebpminrp_gspphot": 0.5688579907047155,
         "libname_gspphot": "PHOENIX",
         "logg_gspphot": 0.7331425252875111,
         "mg_gspphot": 0.3426889079532818,
         "mh_gspphot": 0.5190116274640558,
         "teff_gspphot": 0.5724885171916063
        },
        {
         "_deepnote_index_column": 37,
         "ag_gspphot": 0.8749616449558981,
         "azero_gspphot": 0.18161285133076377,
         "cosb": 0.5694944127453757,
         "ebpminrp_gspphot": 0.8118586977205398,
         "libname_gspphot": "A",
         "logg_gspphot": 0.07962607769825236,
         "mg_gspphot": 0.6884132523859433,
         "mh_gspphot": 0.982817113730445,
         "teff_gspphot": 0.37792417932809985
        },
        {
         "_deepnote_index_column": 38,
         "ag_gspphot": 0.31226983770191696,
         "azero_gspphot": 0.2250399578140846,
         "cosb": 0.9096355249515571,
         "ebpminrp_gspphot": 0.5925118687657968,
         "libname_gspphot": "A",
         "logg_gspphot": 0.4668800227633063,
         "mg_gspphot": 0.9163055534683507,
         "mh_gspphot": 0.345172051155215,
         "teff_gspphot": 0.16097143681560877
        },
        {
         "_deepnote_index_column": 39,
         "ag_gspphot": 0.20819443840879148,
         "azero_gspphot": 0.49958417067888605,
         "cosb": 0.851671874936367,
         "ebpminrp_gspphot": 0.7285856679745962,
         "libname_gspphot": "MARCS",
         "logg_gspphot": 0.1108913007440292,
         "mg_gspphot": 0.24803355837723073,
         "mh_gspphot": 0.19296273201911285,
         "teff_gspphot": 0.2571182937821962
        },
        {
         "_deepnote_index_column": 40,
         "ag_gspphot": 0.47714098704978236,
         "azero_gspphot": 0.10196725942579743,
         "cosb": 0.6218062317404155,
         "ebpminrp_gspphot": 0.5158570169685298,
         "libname_gspphot": "A",
         "logg_gspphot": 0.6166850671552362,
         "mg_gspphot": 0.15267164409316325,
         "mh_gspphot": 0.23366613923925006,
         "teff_gspphot": 0.41584871826752734
        },
        {
         "_deepnote_index_column": 41,
         "ag_gspphot": 0.519351824366033,
         "azero_gspphot": 0.7515278171352439,
         "cosb": 0.02233042799180618,
         "ebpminrp_gspphot": 0.2220491397999227,
         "libname_gspphot": "MARCS",
         "logg_gspphot": 0.6541373469707443,
         "mg_gspphot": 0.7852960282216189,
         "mh_gspphot": 0.1445455401246598,
         "teff_gspphot": 0.5440101188139381
        },
        {
         "_deepnote_index_column": 42,
         "ag_gspphot": 0.9498059913536265,
         "azero_gspphot": 0.5384405925945437,
         "cosb": 0.8541154438365387,
         "ebpminrp_gspphot": 0.866608274166513,
         "libname_gspphot": "PHOENIX",
         "logg_gspphot": 0.872922376400111,
         "mg_gspphot": 0.8264069976293413,
         "mh_gspphot": 0.8447096076020696,
         "teff_gspphot": 0.3243624597261865
        },
        {
         "_deepnote_index_column": 43,
         "ag_gspphot": 0.03457121987163425,
         "azero_gspphot": 0.6102408126466297,
         "cosb": 0.731728600739527,
         "ebpminrp_gspphot": 0.799615261736028,
         "libname_gspphot": "MARCS",
         "logg_gspphot": 0.651304332340991,
         "mg_gspphot": 0.7702387345549799,
         "mh_gspphot": 0.703516988152653,
         "teff_gspphot": 0.09874340182034835
        },
        {
         "_deepnote_index_column": 44,
         "ag_gspphot": 0.44614623200345727,
         "azero_gspphot": 0.34529746159108154,
         "cosb": 0.9904717836238407,
         "ebpminrp_gspphot": 0.7965886780072875,
         "libname_gspphot": "PHOENIX",
         "logg_gspphot": 0.2570692988221467,
         "mg_gspphot": 0.7827494147841719,
         "mh_gspphot": 0.6323033174301278,
         "teff_gspphot": 0.2596983932983531
        },
        {
         "_deepnote_index_column": 45,
         "ag_gspphot": 0.6366044000018972,
         "azero_gspphot": 0.5415593788873733,
         "cosb": 0.5460708041429516,
         "ebpminrp_gspphot": 0.9747403708550822,
         "libname_gspphot": "MARCS",
         "logg_gspphot": 0.14300582825809938,
         "mg_gspphot": 0.9939130246104789,
         "mh_gspphot": 0.9013084363492738,
         "teff_gspphot": 0.30024833953390007
        },
        {
         "_deepnote_index_column": 46,
         "ag_gspphot": 0.7456371927074961,
         "azero_gspphot": 0.026218567296373285,
         "cosb": 0.36654309724374434,
         "ebpminrp_gspphot": 0.1603951795196491,
         "libname_gspphot": "MARCS",
         "logg_gspphot": 0.1354279030721699,
         "mg_gspphot": 0.03039968992878883,
         "mh_gspphot": 0.3557051709838811,
         "teff_gspphot": 0.5264259339055213
        },
        {
         "_deepnote_index_column": 47,
         "ag_gspphot": 0.5815774073442912,
         "azero_gspphot": 0.18863680095531088,
         "cosb": 0.20390622523312185,
         "ebpminrp_gspphot": 0.44190428074842336,
         "libname_gspphot": "MARCS",
         "logg_gspphot": 0.6926777175073543,
         "mg_gspphot": 0.9897517076637052,
         "mh_gspphot": 0.6909421420661686,
         "teff_gspphot": 0.8623462528380441
        },
        {
         "_deepnote_index_column": 48,
         "ag_gspphot": 0.5085162406102396,
         "azero_gspphot": 0.4569753274356928,
         "cosb": 0.7986042447602102,
         "ebpminrp_gspphot": 0.05692943841109499,
         "libname_gspphot": "PHOENIX",
         "logg_gspphot": 0.26217308377291193,
         "mg_gspphot": 0.21196016464367595,
         "mh_gspphot": 0.7501724132979928,
         "teff_gspphot": 0.24773290176235485
        },
        {
         "_deepnote_index_column": 49,
         "ag_gspphot": 0.7498583107261434,
         "azero_gspphot": 0.8438404289311888,
         "cosb": 0.5409518049621886,
         "ebpminrp_gspphot": 0.3810161240622142,
         "libname_gspphot": "PHOENIX",
         "logg_gspphot": 0.02760601195450363,
         "mg_gspphot": 0.5111414782971282,
         "mh_gspphot": 0.593432449464621,
         "teff_gspphot": 0.29733138150727223
        },
        {
         "_deepnote_index_column": 50,
         "ag_gspphot": 0.9475489413950998,
         "azero_gspphot": 0.7093872512312951,
         "cosb": 0.2670720196843658,
         "ebpminrp_gspphot": 0.46500148156350607,
         "libname_gspphot": "MARCS",
         "logg_gspphot": 0.8039608914986468,
         "mg_gspphot": 0.2214327343234883,
         "mh_gspphot": 0.03232306662357398,
         "teff_gspphot": 0.9594343210617524
        },
        {
         "_deepnote_index_column": 51,
         "ag_gspphot": 0.6968004961201785,
         "azero_gspphot": 0.6337867606119179,
         "cosb": 0.3424541198435198,
         "ebpminrp_gspphot": 0.8029632373737379,
         "libname_gspphot": "PHOENIX",
         "logg_gspphot": 0.42861882866378653,
         "mg_gspphot": 0.7662113810757705,
         "mh_gspphot": 0.10901876401906829,
         "teff_gspphot": 0.081473964877262
        },
        {
         "_deepnote_index_column": 52,
         "ag_gspphot": 0.07838689985494796,
         "azero_gspphot": 0.6264961586242938,
         "cosb": 0.06672499763935646,
         "ebpminrp_gspphot": 0.1434230486702449,
         "libname_gspphot": "PHOENIX",
         "logg_gspphot": 0.42876877499944255,
         "mg_gspphot": 0.01833264291300729,
         "mh_gspphot": 0.8240098704123188,
         "teff_gspphot": 0.8458514830276777
        },
        {
         "_deepnote_index_column": 53,
         "ag_gspphot": 0.7469384956075251,
         "azero_gspphot": 0.7548614813904674,
         "cosb": 0.4500867470007611,
         "ebpminrp_gspphot": 0.3948504804606394,
         "libname_gspphot": "PHOENIX",
         "logg_gspphot": 0.11334192276759048,
         "mg_gspphot": 0.45240482674645155,
         "mh_gspphot": 0.027783348848669953,
         "teff_gspphot": 0.4585838137084318
        },
        {
         "_deepnote_index_column": 54,
         "ag_gspphot": 0.037061047954035864,
         "azero_gspphot": 0.40239251985773583,
         "cosb": 0.12564138113773882,
         "ebpminrp_gspphot": 0.904686160343623,
         "libname_gspphot": "PHOENIX",
         "logg_gspphot": 0.47400392656219403,
         "mg_gspphot": 0.7738743427204187,
         "mh_gspphot": 0.8031633421141696,
         "teff_gspphot": 0.47807250671783097
        }
       ]
      },
      "text/html": [
       "<div>\n",
       "<style scoped>\n",
       "    .dataframe tbody tr th:only-of-type {\n",
       "        vertical-align: middle;\n",
       "    }\n",
       "\n",
       "    .dataframe tbody tr th {\n",
       "        vertical-align: top;\n",
       "    }\n",
       "\n",
       "    .dataframe thead th {\n",
       "        text-align: right;\n",
       "    }\n",
       "</style>\n",
       "<table border=\"1\" class=\"dataframe\">\n",
       "  <thead>\n",
       "    <tr style=\"text-align: right;\">\n",
       "      <th></th>\n",
       "      <th>teff_gspphot</th>\n",
       "      <th>logg_gspphot</th>\n",
       "      <th>mh_gspphot</th>\n",
       "      <th>azero_gspphot</th>\n",
       "      <th>ebpminrp_gspphot</th>\n",
       "      <th>ag_gspphot</th>\n",
       "      <th>mg_gspphot</th>\n",
       "      <th>cosb</th>\n",
       "      <th>libname_gspphot</th>\n",
       "    </tr>\n",
       "  </thead>\n",
       "  <tbody>\n",
       "    <tr>\n",
       "      <th>0</th>\n",
       "      <td>0.417022</td>\n",
       "      <td>0.720324</td>\n",
       "      <td>0.000114</td>\n",
       "      <td>0.302333</td>\n",
       "      <td>0.146756</td>\n",
       "      <td>0.092339</td>\n",
       "      <td>0.186260</td>\n",
       "      <td>0.345561</td>\n",
       "      <td>MARCS</td>\n",
       "    </tr>\n",
       "    <tr>\n",
       "      <th>1</th>\n",
       "      <td>0.396767</td>\n",
       "      <td>0.538817</td>\n",
       "      <td>0.419195</td>\n",
       "      <td>0.685220</td>\n",
       "      <td>0.204452</td>\n",
       "      <td>0.878117</td>\n",
       "      <td>0.027388</td>\n",
       "      <td>0.670468</td>\n",
       "      <td>PHOENIX</td>\n",
       "    </tr>\n",
       "    <tr>\n",
       "      <th>2</th>\n",
       "      <td>0.417305</td>\n",
       "      <td>0.558690</td>\n",
       "      <td>0.140387</td>\n",
       "      <td>0.198101</td>\n",
       "      <td>0.800745</td>\n",
       "      <td>0.968262</td>\n",
       "      <td>0.313424</td>\n",
       "      <td>0.692323</td>\n",
       "      <td>PHOENIX</td>\n",
       "    </tr>\n",
       "    <tr>\n",
       "      <th>3</th>\n",
       "      <td>0.876389</td>\n",
       "      <td>0.894607</td>\n",
       "      <td>0.085044</td>\n",
       "      <td>0.039055</td>\n",
       "      <td>0.169830</td>\n",
       "      <td>0.878143</td>\n",
       "      <td>0.098347</td>\n",
       "      <td>0.421108</td>\n",
       "      <td>MARCS</td>\n",
       "    </tr>\n",
       "    <tr>\n",
       "      <th>4</th>\n",
       "      <td>0.957890</td>\n",
       "      <td>0.533165</td>\n",
       "      <td>0.691877</td>\n",
       "      <td>0.315516</td>\n",
       "      <td>0.686501</td>\n",
       "      <td>0.834626</td>\n",
       "      <td>0.018288</td>\n",
       "      <td>0.750144</td>\n",
       "      <td>MARCS</td>\n",
       "    </tr>\n",
       "    <tr>\n",
       "      <th>...</th>\n",
       "      <td>...</td>\n",
       "      <td>...</td>\n",
       "      <td>...</td>\n",
       "      <td>...</td>\n",
       "      <td>...</td>\n",
       "      <td>...</td>\n",
       "      <td>...</td>\n",
       "      <td>...</td>\n",
       "      <td>...</td>\n",
       "    </tr>\n",
       "    <tr>\n",
       "      <th>995</th>\n",
       "      <td>0.046043</td>\n",
       "      <td>0.791776</td>\n",
       "      <td>0.439389</td>\n",
       "      <td>0.704620</td>\n",
       "      <td>0.609383</td>\n",
       "      <td>0.914160</td>\n",
       "      <td>0.679539</td>\n",
       "      <td>0.204578</td>\n",
       "      <td>PHOENIX</td>\n",
       "    </tr>\n",
       "    <tr>\n",
       "      <th>996</th>\n",
       "      <td>0.989694</td>\n",
       "      <td>0.808360</td>\n",
       "      <td>0.051150</td>\n",
       "      <td>0.990246</td>\n",
       "      <td>0.084374</td>\n",
       "      <td>0.415975</td>\n",
       "      <td>0.888049</td>\n",
       "      <td>0.762113</td>\n",
       "      <td>PHOENIX</td>\n",
       "    </tr>\n",
       "    <tr>\n",
       "      <th>997</th>\n",
       "      <td>0.673047</td>\n",
       "      <td>0.533691</td>\n",
       "      <td>0.346976</td>\n",
       "      <td>0.899944</td>\n",
       "      <td>0.818957</td>\n",
       "      <td>0.945892</td>\n",
       "      <td>0.399558</td>\n",
       "      <td>0.233622</td>\n",
       "      <td>PHOENIX</td>\n",
       "    </tr>\n",
       "    <tr>\n",
       "      <th>998</th>\n",
       "      <td>0.723220</td>\n",
       "      <td>0.689099</td>\n",
       "      <td>0.543365</td>\n",
       "      <td>0.537107</td>\n",
       "      <td>0.809690</td>\n",
       "      <td>0.799585</td>\n",
       "      <td>0.847775</td>\n",
       "      <td>0.190362</td>\n",
       "      <td>PHOENIX</td>\n",
       "    </tr>\n",
       "    <tr>\n",
       "      <th>999</th>\n",
       "      <td>0.200274</td>\n",
       "      <td>0.773663</td>\n",
       "      <td>0.565534</td>\n",
       "      <td>0.268903</td>\n",
       "      <td>0.479355</td>\n",
       "      <td>0.674659</td>\n",
       "      <td>0.684231</td>\n",
       "      <td>0.821391</td>\n",
       "      <td>MARCS</td>\n",
       "    </tr>\n",
       "  </tbody>\n",
       "</table>\n",
       "<p>1000 rows × 9 columns</p>\n",
       "</div>"
      ],
      "text/plain": [
       "     teff_gspphot  logg_gspphot  mh_gspphot  azero_gspphot  ebpminrp_gspphot  \\\n",
       "0        0.417022      0.720324    0.000114       0.302333          0.146756   \n",
       "1        0.396767      0.538817    0.419195       0.685220          0.204452   \n",
       "2        0.417305      0.558690    0.140387       0.198101          0.800745   \n",
       "3        0.876389      0.894607    0.085044       0.039055          0.169830   \n",
       "4        0.957890      0.533165    0.691877       0.315516          0.686501   \n",
       "..            ...           ...         ...            ...               ...   \n",
       "995      0.046043      0.791776    0.439389       0.704620          0.609383   \n",
       "996      0.989694      0.808360    0.051150       0.990246          0.084374   \n",
       "997      0.673047      0.533691    0.346976       0.899944          0.818957   \n",
       "998      0.723220      0.689099    0.543365       0.537107          0.809690   \n",
       "999      0.200274      0.773663    0.565534       0.268903          0.479355   \n",
       "\n",
       "     ag_gspphot  mg_gspphot      cosb libname_gspphot  \n",
       "0      0.092339    0.186260  0.345561           MARCS  \n",
       "1      0.878117    0.027388  0.670468         PHOENIX  \n",
       "2      0.968262    0.313424  0.692323         PHOENIX  \n",
       "3      0.878143    0.098347  0.421108           MARCS  \n",
       "4      0.834626    0.018288  0.750144           MARCS  \n",
       "..          ...         ...       ...             ...  \n",
       "995    0.914160    0.679539  0.204578         PHOENIX  \n",
       "996    0.415975    0.888049  0.762113         PHOENIX  \n",
       "997    0.945892    0.399558  0.233622         PHOENIX  \n",
       "998    0.799585    0.847775  0.190362         PHOENIX  \n",
       "999    0.674659    0.684231  0.821391           MARCS  \n",
       "\n",
       "[1000 rows x 9 columns]"
      ]
     },
     "execution_count": 3,
     "metadata": {},
     "output_type": "execute_result"
    }
   ],
   "source": [
    "import numpy as np\n",
    "import pandas as pd\n",
    "\n",
    "np.random.seed(1)\n",
    "\n",
    "def generate_random_data(n_rows: int = 2) -> pd.DataFrame:\n",
    "    \"\"\" Convenient data generator for tests \"\"\"\n",
    "    # Create pandas data frame with random data.\n",
    "    columns = ['teff_gspphot', 'logg_gspphot', 'mh_gspphot', 'azero_gspphot', \n",
    "               'ebpminrp_gspphot', 'ag_gspphot', 'mg_gspphot', 'cosb']\n",
    "    table = np.random.uniform(0.0, 1.0, [n_rows, len(columns)])\n",
    "    lib = np.random.choice(['OB', 'A', 'MARCS', 'PHOENIX'], n_rows, p=[0.02, 0.08, 0.45, 0.45])\n",
    "    df = pd.DataFrame(table, columns=columns)\n",
    "    df['libname_gspphot'] = lib\n",
    "    return df\n",
    "\n",
    "df = generate_random_data(1000)\n",
    "df"
   ]
  },
  {
   "cell_type": "markdown",
   "metadata": {
    "cell_id": "00013-52bee976-2cdc-44c2-98ec-f0e2d41d910a",
    "deepnote_cell_type": "markdown",
    "tags": []
   },
   "source": [
    "Checking code calls on random data. Results are obviously meaninless here."
   ]
  },
  {
   "cell_type": "code",
   "execution_count": 4,
   "metadata": {
    "cell_id": "00003-23175a06-2dc2-4f86-bb70-537aa2caa818",
    "deepnote_cell_type": "code",
    "deepnote_to_be_reexecuted": false,
    "execution_millis": 1389,
    "execution_start": 1636465766954,
    "source_hash": "b5775402",
    "tags": []
   },
   "outputs": [
    {
     "name": "stdout",
     "output_type": "stream",
     "text": [
      "/root/work/gdr3calib/gdr3calib/models/mars_mh.py: 5b57ca6596bfe2b1ce3363fe7b3524d5\n"
     ]
    },
    {
     "ename": "RuntimeError",
     "evalue": "Model mh (/root/work/gdr3calib/gdr3calib/models/mars_mh.py) input file does not match the configuration.Expecting 799524bd242bf2b2ffa08c3a349dfebb, got 5b57ca6596bfe2b1ce3363fe7b3524d5",
     "output_type": "error",
     "traceback": [
      "\u001b[0;31m---------------------------------------------------------------------------\u001b[0m",
      "\u001b[0;31mRuntimeError\u001b[0m                              Traceback (most recent call last)",
      "\u001b[0;32m<ipython-input-4-a7f6efeb64c3>\u001b[0m in \u001b[0;36m<module>\u001b[0;34m\u001b[0m\n\u001b[1;32m      1\u001b[0m \u001b[0;32mfrom\u001b[0m \u001b[0mgdr3calib\u001b[0m \u001b[0;32mimport\u001b[0m \u001b[0mGaiaDR3_GSPPhot_cal\u001b[0m\u001b[0;34m\u001b[0m\u001b[0;34m\u001b[0m\u001b[0m\n\u001b[1;32m      2\u001b[0m \u001b[0mcalib\u001b[0m \u001b[0;34m=\u001b[0m \u001b[0mGaiaDR3_GSPPhot_cal\u001b[0m\u001b[0;34m(\u001b[0m\u001b[0;34m)\u001b[0m\u001b[0;34m\u001b[0m\u001b[0;34m\u001b[0m\u001b[0m\n\u001b[0;32m----> 3\u001b[0;31m \u001b[0mcalib\u001b[0m\u001b[0;34m.\u001b[0m\u001b[0mcalibrateMetallicity\u001b[0m\u001b[0;34m(\u001b[0m\u001b[0mdf\u001b[0m\u001b[0;34m)\u001b[0m\u001b[0;34m\u001b[0m\u001b[0;34m\u001b[0m\u001b[0m\n\u001b[0m",
      "\u001b[0;32m~/work/gdr3calib/gdr3calib/calibration.py\u001b[0m in \u001b[0;36mcalibrateMetallicity\u001b[0;34m(self, pandas_data_frame)\u001b[0m\n\u001b[1;32m    130\u001b[0m     \u001b[0;32mdef\u001b[0m \u001b[0mcalibrateMetallicity\u001b[0m\u001b[0;34m(\u001b[0m\u001b[0mself\u001b[0m\u001b[0;34m,\u001b[0m \u001b[0mpandas_data_frame\u001b[0m\u001b[0;34m:\u001b[0m \u001b[0mpandas\u001b[0m\u001b[0;34m.\u001b[0m\u001b[0mDataFrame\u001b[0m\u001b[0;34m)\u001b[0m\u001b[0;34m:\u001b[0m\u001b[0;34m\u001b[0m\u001b[0;34m\u001b[0m\u001b[0m\n\u001b[1;32m    131\u001b[0m         \u001b[0;34m\"\"\" apply model mh to the 'mh_gspphot' field \"\"\"\u001b[0m\u001b[0;34m\u001b[0m\u001b[0;34m\u001b[0m\u001b[0m\n\u001b[0;32m--> 132\u001b[0;31m         \u001b[0;32mreturn\u001b[0m \u001b[0mself\u001b[0m\u001b[0;34m[\u001b[0m\u001b[0;34m'mh'\u001b[0m\u001b[0;34m]\u001b[0m\u001b[0;34m(\u001b[0m\u001b[0mpandas_data_frame\u001b[0m\u001b[0;34m)\u001b[0m\u001b[0;34m\u001b[0m\u001b[0;34m\u001b[0m\u001b[0m\n\u001b[0m\u001b[1;32m    133\u001b[0m \u001b[0;34m\u001b[0m\u001b[0m\n\u001b[1;32m    134\u001b[0m     \u001b[0;32mdef\u001b[0m \u001b[0mcalibrateTeff\u001b[0m\u001b[0;34m(\u001b[0m\u001b[0mself\u001b[0m\u001b[0;34m,\u001b[0m \u001b[0mpandas_data_frame\u001b[0m\u001b[0;34m:\u001b[0m \u001b[0mpandas\u001b[0m\u001b[0;34m.\u001b[0m\u001b[0mDataFrame\u001b[0m\u001b[0;34m)\u001b[0m\u001b[0;34m:\u001b[0m\u001b[0;34m\u001b[0m\u001b[0;34m\u001b[0m\u001b[0m\n",
      "\u001b[0;32m~/work/gdr3calib/gdr3calib/calibration.py\u001b[0m in \u001b[0;36m__getitem__\u001b[0;34m(self, name)\u001b[0m\n\u001b[1;32m    125\u001b[0m         \u001b[0;34m\"\"\" Get a model or load it from disk if not in RAM yet \"\"\"\u001b[0m\u001b[0;34m\u001b[0m\u001b[0;34m\u001b[0m\u001b[0m\n\u001b[1;32m    126\u001b[0m         \u001b[0;32mif\u001b[0m \u001b[0mname\u001b[0m \u001b[0;32mnot\u001b[0m \u001b[0;32min\u001b[0m \u001b[0mself\u001b[0m\u001b[0;34m.\u001b[0m\u001b[0m_models\u001b[0m\u001b[0;34m:\u001b[0m\u001b[0;34m\u001b[0m\u001b[0;34m\u001b[0m\u001b[0m\n\u001b[0;32m--> 127\u001b[0;31m             \u001b[0mself\u001b[0m\u001b[0;34m.\u001b[0m\u001b[0m_load_model\u001b[0m\u001b[0;34m(\u001b[0m\u001b[0mname\u001b[0m\u001b[0;34m)\u001b[0m\u001b[0;34m\u001b[0m\u001b[0;34m\u001b[0m\u001b[0m\n\u001b[0m\u001b[1;32m    128\u001b[0m         \u001b[0;32mreturn\u001b[0m \u001b[0mself\u001b[0m\u001b[0;34m.\u001b[0m\u001b[0m_models\u001b[0m\u001b[0;34m[\u001b[0m\u001b[0mname\u001b[0m\u001b[0;34m]\u001b[0m\u001b[0;34m\u001b[0m\u001b[0;34m\u001b[0m\u001b[0m\n\u001b[1;32m    129\u001b[0m \u001b[0;34m\u001b[0m\u001b[0m\n",
      "\u001b[0;32m~/work/gdr3calib/gdr3calib/calibration.py\u001b[0m in \u001b[0;36m_load_model\u001b[0;34m(self, name)\u001b[0m\n\u001b[1;32m    120\u001b[0m     \u001b[0;32mdef\u001b[0m \u001b[0m_load_model\u001b[0m\u001b[0;34m(\u001b[0m\u001b[0mself\u001b[0m\u001b[0;34m,\u001b[0m \u001b[0mname\u001b[0m\u001b[0;34m:\u001b[0m\u001b[0mstr\u001b[0m\u001b[0;34m)\u001b[0m\u001b[0;34m:\u001b[0m\u001b[0;34m\u001b[0m\u001b[0;34m\u001b[0m\u001b[0m\n\u001b[1;32m    121\u001b[0m         \u001b[0;34m\"\"\" Load a model from disk \"\"\"\u001b[0m\u001b[0;34m\u001b[0m\u001b[0;34m\u001b[0m\u001b[0m\n\u001b[0;32m--> 122\u001b[0;31m         \u001b[0mself\u001b[0m\u001b[0;34m.\u001b[0m\u001b[0m_models\u001b[0m\u001b[0;34m[\u001b[0m\u001b[0mname\u001b[0m\u001b[0;34m]\u001b[0m \u001b[0;34m=\u001b[0m \u001b[0m_load_model_from_configuration\u001b[0m\u001b[0;34m(\u001b[0m\u001b[0mname\u001b[0m\u001b[0;34m,\u001b[0m \u001b[0mself\u001b[0m\u001b[0;34m.\u001b[0m\u001b[0m_configuration\u001b[0m\u001b[0;34m)\u001b[0m\u001b[0;34m\u001b[0m\u001b[0;34m\u001b[0m\u001b[0m\n\u001b[0m\u001b[1;32m    123\u001b[0m \u001b[0;34m\u001b[0m\u001b[0m\n\u001b[1;32m    124\u001b[0m     \u001b[0;32mdef\u001b[0m \u001b[0m__getitem__\u001b[0m\u001b[0;34m(\u001b[0m\u001b[0mself\u001b[0m\u001b[0;34m,\u001b[0m \u001b[0mname\u001b[0m\u001b[0;34m)\u001b[0m \u001b[0;34m->\u001b[0m \u001b[0mCalibrationModel\u001b[0m\u001b[0;34m:\u001b[0m\u001b[0;34m\u001b[0m\u001b[0;34m\u001b[0m\u001b[0m\n",
      "\u001b[0;32m~/work/gdr3calib/gdr3calib/calibration.py\u001b[0m in \u001b[0;36m_load_model_from_configuration\u001b[0;34m(name, config)\u001b[0m\n\u001b[1;32m     90\u001b[0m \u001b[0;34m\u001b[0m\u001b[0m\n\u001b[1;32m     91\u001b[0m     \u001b[0mmodelmd5sum\u001b[0m \u001b[0;34m=\u001b[0m \u001b[0mmodel_config\u001b[0m\u001b[0;34m[\u001b[0m\u001b[0;34m'md5sum'\u001b[0m\u001b[0;34m]\u001b[0m\u001b[0;34m\u001b[0m\u001b[0;34m\u001b[0m\u001b[0m\n\u001b[0;32m---> 92\u001b[0;31m     \u001b[0m_check_model_files\u001b[0m\u001b[0;34m(\u001b[0m\u001b[0mname\u001b[0m\u001b[0;34m,\u001b[0m \u001b[0mmodelfile\u001b[0m\u001b[0;34m,\u001b[0m \u001b[0mmodelmd5sum\u001b[0m\u001b[0;34m)\u001b[0m\u001b[0;34m\u001b[0m\u001b[0;34m\u001b[0m\u001b[0m\n\u001b[0m\u001b[1;32m     93\u001b[0m \u001b[0;34m\u001b[0m\u001b[0m\n\u001b[1;32m     94\u001b[0m     \u001b[0mfeatures\u001b[0m \u001b[0;34m=\u001b[0m \u001b[0mmodel_config\u001b[0m\u001b[0;34m[\u001b[0m\u001b[0;34m'features'\u001b[0m\u001b[0;34m]\u001b[0m\u001b[0;34m\u001b[0m\u001b[0;34m\u001b[0m\u001b[0m\n",
      "\u001b[0;32m~/work/gdr3calib/gdr3calib/calibration.py\u001b[0m in \u001b[0;36m_check_model_files\u001b[0;34m(name, modelfile, modelmd5sum)\u001b[0m\n\u001b[1;32m     54\u001b[0m         \u001b[0mrepo\u001b[0m\u001b[0;34m.\u001b[0m\u001b[0mdownload_file\u001b[0m\u001b[0;34m(\u001b[0m\u001b[0mmodelfile\u001b[0m\u001b[0;34m.\u001b[0m\u001b[0msplit\u001b[0m\u001b[0;34m(\u001b[0m\u001b[0;34m'/'\u001b[0m\u001b[0;34m)\u001b[0m\u001b[0;34m[\u001b[0m\u001b[0;34m-\u001b[0m\u001b[0;36m1\u001b[0m\u001b[0;34m]\u001b[0m\u001b[0;34m,\u001b[0m \u001b[0mmodelsdir\u001b[0m\u001b[0;34m)\u001b[0m\u001b[0;34m\u001b[0m\u001b[0;34m\u001b[0m\u001b[0m\n\u001b[1;32m     55\u001b[0m     \u001b[0;32mexcept\u001b[0m \u001b[0mException\u001b[0m \u001b[0;32mas\u001b[0m \u001b[0me\u001b[0m\u001b[0;34m:\u001b[0m\u001b[0;34m\u001b[0m\u001b[0;34m\u001b[0m\u001b[0m\n\u001b[0;32m---> 56\u001b[0;31m         \u001b[0;32mraise\u001b[0m \u001b[0me\u001b[0m\u001b[0;34m\u001b[0m\u001b[0;34m\u001b[0m\u001b[0m\n\u001b[0m\u001b[1;32m     57\u001b[0m \u001b[0;34m\u001b[0m\u001b[0m\n\u001b[1;32m     58\u001b[0m \u001b[0;34m\u001b[0m\u001b[0m\n",
      "\u001b[0;32m~/work/gdr3calib/gdr3calib/calibration.py\u001b[0m in \u001b[0;36m_check_model_files\u001b[0;34m(name, modelfile, modelmd5sum)\u001b[0m\n\u001b[1;32m     44\u001b[0m         \u001b[0;32mif\u001b[0m \u001b[0;32mnot\u001b[0m \u001b[0mcheck_md5_of_file\u001b[0m\u001b[0;34m(\u001b[0m\u001b[0mmodelfile\u001b[0m\u001b[0;34m,\u001b[0m \u001b[0mmodelmd5sum\u001b[0m\u001b[0;34m)\u001b[0m\u001b[0;34m:\u001b[0m\u001b[0;34m\u001b[0m\u001b[0;34m\u001b[0m\u001b[0m\n\u001b[1;32m     45\u001b[0m             \u001b[0mmd5returned\u001b[0m \u001b[0;34m=\u001b[0m \u001b[0mcheck_md5_of_file\u001b[0m\u001b[0;34m(\u001b[0m\u001b[0mmodelfile\u001b[0m\u001b[0;34m)\u001b[0m\u001b[0;34m\u001b[0m\u001b[0;34m\u001b[0m\u001b[0m\n\u001b[0;32m---> 46\u001b[0;31m             raise RuntimeError(f\"Model {name:s} ({modelfile:s}) input file does not match the configuration.\"\n\u001b[0m\u001b[1;32m     47\u001b[0m                                f\"Expecting {modelmd5sum:s}, got {md5returned:s}\")\n\u001b[1;32m     48\u001b[0m     \u001b[0;32mexcept\u001b[0m \u001b[0mFileNotFoundError\u001b[0m\u001b[0;34m:\u001b[0m\u001b[0;34m\u001b[0m\u001b[0;34m\u001b[0m\u001b[0m\n",
      "\u001b[0;31mRuntimeError\u001b[0m: Model mh (/root/work/gdr3calib/gdr3calib/models/mars_mh.py) input file does not match the configuration.Expecting 799524bd242bf2b2ffa08c3a349dfebb, got 5b57ca6596bfe2b1ce3363fe7b3524d5"
     ]
    }
   ],
   "source": [
    "from gdr3apcal import GaiaDR3_GSPPhot_cal\n",
    "calib = GaiaDR3_GSPPhot_cal()\n",
    "calib.calibrateMetallicity(df)"
   ]
  },
  {
   "cell_type": "code",
   "execution_count": null,
   "metadata": {
    "cell_id": "00007-48fc758d-9edb-4282-b3ae-e2a08519262c",
    "deepnote_cell_type": "code",
    "deepnote_to_be_reexecuted": false,
    "execution_millis": 0,
    "execution_start": 1636026443079,
    "source_hash": "9fcab007",
    "tags": []
   },
   "outputs": [
    {
     "data": {
      "text/plain": [
       "(<bound method GaiaDR3_GSPPhot_cal.calibrateMetallicity of Calibration Models\n",
       "     mh>,\n",
       " <bound method GaiaDR3_GSPPhot_cal.calibrateTeff of Calibration Models\n",
       "     mh>)"
      ]
     },
     "execution_count": 8,
     "metadata": {},
     "output_type": "execute_result"
    }
   ],
   "source": [
    "calib.calibrateMetallicity, calib.calibrateTeff    # these are the actual functions to call"
   ]
  },
  {
   "cell_type": "markdown",
   "metadata": {
    "cell_id": "00017-f1f2b3e4-412a-4f97-bfcb-0b8f3e9859a0",
    "deepnote_cell_type": "markdown",
    "tags": []
   },
   "source": [
    "Check the behavior when missing features"
   ]
  },
  {
   "cell_type": "code",
   "execution_count": null,
   "metadata": {
    "cell_id": "00011-83c15b9e-5e6c-4fc2-957c-390ac939e879",
    "deepnote_cell_type": "code",
    "deepnote_to_be_reexecuted": false,
    "execution_millis": 1,
    "execution_start": 1636026445726,
    "source_hash": "deeaf0f7",
    "tags": []
   },
   "outputs": [
    {
     "name": "stdout",
     "output_type": "stream",
     "text": [
      "'Missing features from input data: azero_gspphot,ag_gspphot'\n"
     ]
    }
   ],
   "source": [
    "try:\n",
    "    calib.calibrateMetallicity(df.drop(columns=['azero_gspphot', 'ag_gspphot']))\n",
    "except KeyError as e:\n",
    "    print(e)"
   ]
  },
  {
   "cell_type": "markdown",
   "metadata": {
    "cell_id": "00015-8952e5f2-c7e9-4592-add7-1a33aab035b9",
    "deepnote_cell_type": "text-cell-h1",
    "is_collapsed": false,
    "tags": []
   },
   "source": [
    "# Testing with demo data"
   ]
  },
  {
   "cell_type": "code",
   "execution_count": null,
   "metadata": {
    "cell_id": "00020-d190522d-8851-497e-a7c7-5747b6651a74",
    "deepnote_cell_type": "code",
    "deepnote_to_be_reexecuted": true,
    "execution_millis": 683,
    "execution_start": 1634208921112,
    "source_hash": "e7cae2e1",
    "tags": []
   },
   "outputs": [
    {
     "name": "stdout",
     "output_type": "stream",
     "text": [
      "file 'demo-data.csv' already downloaded.\n"
     ]
    }
   ],
   "source": [
    "from gdr3apcal.downloader import download_file\n",
    "\n",
    "url = \"https://keeper.mpdl.mpg.de/d/ea60e03205e54090bb1c/files/?p=%2Fdemo-GSPSpec-vs-GSPPhot-metal.csv&dl=1\"\n",
    "fname = 'demo-data.csv'\n",
    "source = download_file(url, fname)"
   ]
  },
  {
   "cell_type": "code",
   "execution_count": null,
   "metadata": {
    "cell_id": "00025-b5ce829d-9eae-4ea8-92f1-f72bf45be796",
    "deepnote_cell_type": "code",
    "deepnote_to_be_reexecuted": true,
    "execution_millis": 109,
    "execution_start": 1634208921791,
    "source_hash": "8e93061a",
    "tags": []
   },
   "outputs": [
    {
     "data": {
      "application/vnd.deepnote.dataframe.v2+json": {
       "column_count": 22,
       "columns": [
        {
         "dtype": "int64",
         "name": "source_id",
         "stats": {
          "histogram": [
           {
            "bin_end": 4783968653873973000,
            "bin_start": 4658035518782398000,
            "count": 8
           },
           {
            "bin_end": 4909901788965547000,
            "bin_start": 4783968653873973000,
            "count": 0
           },
           {
            "bin_end": 5035834924057122000,
            "bin_start": 4909901788965547000,
            "count": 0
           },
           {
            "bin_end": 5161768059148697000,
            "bin_start": 5035834924057122000,
            "count": 0
           },
           {
            "bin_end": 5287701194240270000,
            "bin_start": 5161768059148697000,
            "count": 0
           },
           {
            "bin_end": 5413634329331845000,
            "bin_start": 5287701194240270000,
            "count": 0
           },
           {
            "bin_end": 5539567464423420000,
            "bin_start": 5413634329331845000,
            "count": 0
           },
           {
            "bin_end": 5665500599514995000,
            "bin_start": 5539567464423420000,
            "count": 0
           },
           {
            "bin_end": 5791433734606568000,
            "bin_start": 5665500599514995000,
            "count": 0
           },
           {
            "bin_end": 5917366869698143000,
            "bin_start": 5791433734606568000,
            "count": 92
           }
          ],
          "max": "5917366869698143360",
          "min": "4658035518782398720",
          "nan_count": 0,
          "unique_count": 100
         }
        },
        {
         "dtype": "float64",
         "name": "l",
         "stats": {
          "histogram": [
           {
            "bin_end": 284.9612409115721,
            "bin_start": 279.5312778871309,
            "count": 8
           },
           {
            "bin_end": 290.3912039360132,
            "bin_start": 284.9612409115721,
            "count": 0
           },
           {
            "bin_end": 295.8211669604544,
            "bin_start": 290.3912039360132,
            "count": 0
           },
           {
            "bin_end": 301.2511299848955,
            "bin_start": 295.8211669604544,
            "count": 0
           },
           {
            "bin_end": 306.6810930093367,
            "bin_start": 301.2511299848955,
            "count": 0
           },
           {
            "bin_end": 312.1110560337778,
            "bin_start": 306.6810930093367,
            "count": 0
           },
           {
            "bin_end": 317.541019058219,
            "bin_start": 312.1110560337778,
            "count": 0
           },
           {
            "bin_end": 322.97098208266016,
            "bin_start": 317.541019058219,
            "count": 0
           },
           {
            "bin_end": 328.4009451071013,
            "bin_start": 322.97098208266016,
            "count": 67
           },
           {
            "bin_end": 333.83090813154246,
            "bin_start": 328.4009451071013,
            "count": 25
           }
          ],
          "max": "333.83090813154246",
          "min": "279.5312778871309",
          "nan_count": 0,
          "unique_count": 100
         }
        },
        {
         "dtype": "float64",
         "name": "b",
         "stats": {
          "histogram": [
           {
            "bin_end": -29.9551143936163,
            "bin_start": -32.96876459765897,
            "count": 8
           },
           {
            "bin_end": -26.941464189573626,
            "bin_start": -29.9551143936163,
            "count": 0
           },
           {
            "bin_end": -23.927813985530953,
            "bin_start": -26.941464189573626,
            "count": 0
           },
           {
            "bin_end": -20.914163781488284,
            "bin_start": -23.927813985530953,
            "count": 0
           },
           {
            "bin_end": -17.900513577445615,
            "bin_start": -20.914163781488284,
            "count": 0
           },
           {
            "bin_end": -14.886863373402942,
            "bin_start": -17.900513577445615,
            "count": 0
           },
           {
            "bin_end": -11.87321316936027,
            "bin_start": -14.886863373402942,
            "count": 0
           },
           {
            "bin_end": -8.8595629653176,
            "bin_start": -11.87321316936027,
            "count": 18
           },
           {
            "bin_end": -5.845912761274931,
            "bin_start": -8.8595629653176,
            "count": 7
           },
           {
            "bin_end": -2.83226255723226,
            "bin_start": -5.845912761274931,
            "count": 67
           }
          ],
          "max": "-2.83226255723226",
          "min": "-32.96876459765897",
          "nan_count": 0,
          "unique_count": 100
         }
        },
        {
         "dtype": "float64",
         "name": "parallax",
         "stats": {
          "histogram": [
           {
            "bin_end": 0.769197975153492,
            "bin_start": -0.0373413711497006,
            "count": 76
           },
           {
            "bin_end": 1.5757373214566845,
            "bin_start": 0.769197975153492,
            "count": 11
           },
           {
            "bin_end": 2.382276667759877,
            "bin_start": 1.5757373214566845,
            "count": 5
           },
           {
            "bin_end": 3.18881601406307,
            "bin_start": 2.382276667759877,
            "count": 2
           },
           {
            "bin_end": 3.995355360366262,
            "bin_start": 3.18881601406307,
            "count": 2
           },
           {
            "bin_end": 4.801894706669454,
            "bin_start": 3.995355360366262,
            "count": 2
           },
           {
            "bin_end": 5.6084340529726475,
            "bin_start": 4.801894706669454,
            "count": 1
           },
           {
            "bin_end": 6.41497339927584,
            "bin_start": 5.6084340529726475,
            "count": 0
           },
           {
            "bin_end": 7.221512745579032,
            "bin_start": 6.41497339927584,
            "count": 0
           },
           {
            "bin_end": 8.028052091882225,
            "bin_start": 7.221512745579032,
            "count": 1
           }
          ],
          "max": "8.028052091882225",
          "min": "-0.0373413711497006",
          "nan_count": 0,
          "unique_count": 100
         }
        },
        {
         "dtype": "float64",
         "name": "parallax_error",
         "stats": {
          "histogram": [
           {
            "bin_end": 0.0361067187,
            "bin_start": 0.009850943,
            "count": 95
           },
           {
            "bin_end": 0.0623624944,
            "bin_start": 0.0361067187,
            "count": 3
           },
           {
            "bin_end": 0.08861827010000001,
            "bin_start": 0.0623624944,
            "count": 0
           },
           {
            "bin_end": 0.1148740458,
            "bin_start": 0.08861827010000001,
            "count": 0
           },
           {
            "bin_end": 0.1411298215,
            "bin_start": 0.1148740458,
            "count": 1
           },
           {
            "bin_end": 0.1673855972,
            "bin_start": 0.1411298215,
            "count": 0
           },
           {
            "bin_end": 0.1936413729,
            "bin_start": 0.1673855972,
            "count": 0
           },
           {
            "bin_end": 0.2198971486,
            "bin_start": 0.1936413729,
            "count": 0
           },
           {
            "bin_end": 0.24615292430000002,
            "bin_start": 0.2198971486,
            "count": 0
           },
           {
            "bin_end": 0.2724087,
            "bin_start": 0.24615292430000002,
            "count": 1
           }
          ],
          "max": "0.2724087",
          "min": "0.009850943",
          "nan_count": 0,
          "unique_count": 100
         }
        },
        {
         "dtype": "float64",
         "name": "phot_g_mean_mag",
         "stats": {
          "histogram": [
           {
            "bin_end": 10.0578637,
            "bin_start": 9.645813,
            "count": 2
           },
           {
            "bin_end": 10.4699144,
            "bin_start": 10.0578637,
            "count": 0
           },
           {
            "bin_end": 10.8819651,
            "bin_start": 10.4699144,
            "count": 1
           },
           {
            "bin_end": 11.2940158,
            "bin_start": 10.8819651,
            "count": 5
           },
           {
            "bin_end": 11.7060665,
            "bin_start": 11.2940158,
            "count": 12
           },
           {
            "bin_end": 12.1181172,
            "bin_start": 11.7060665,
            "count": 13
           },
           {
            "bin_end": 12.5301679,
            "bin_start": 12.1181172,
            "count": 19
           },
           {
            "bin_end": 12.9422186,
            "bin_start": 12.5301679,
            "count": 19
           },
           {
            "bin_end": 13.3542693,
            "bin_start": 12.9422186,
            "count": 22
           },
           {
            "bin_end": 13.76632,
            "bin_start": 13.3542693,
            "count": 7
           }
          ],
          "max": "13.76632",
          "min": "9.645813",
          "nan_count": 0,
          "unique_count": 100
         }
        },
        {
         "dtype": "float64",
         "name": "phot_bp_mean_mag",
         "stats": {
          "histogram": [
           {
            "bin_end": 10.7169326,
            "bin_start": 10.15975,
            "count": 2
           },
           {
            "bin_end": 11.2741152,
            "bin_start": 10.7169326,
            "count": 2
           },
           {
            "bin_end": 11.831297800000002,
            "bin_start": 11.2741152,
            "count": 6
           },
           {
            "bin_end": 12.3884804,
            "bin_start": 11.831297800000002,
            "count": 9
           },
           {
            "bin_end": 12.945663,
            "bin_start": 12.3884804,
            "count": 17
           },
           {
            "bin_end": 13.5028456,
            "bin_start": 12.945663,
            "count": 18
           },
           {
            "bin_end": 14.060028200000001,
            "bin_start": 13.5028456,
            "count": 27
           },
           {
            "bin_end": 14.6172108,
            "bin_start": 14.060028200000001,
            "count": 9
           },
           {
            "bin_end": 15.1743934,
            "bin_start": 14.6172108,
            "count": 8
           },
           {
            "bin_end": 15.731576,
            "bin_start": 15.1743934,
            "count": 2
           }
          ],
          "max": "15.731576",
          "min": "10.15975",
          "nan_count": 0,
          "unique_count": 100
         }
        },
        {
         "dtype": "float64",
         "name": "phot_rp_mean_mag",
         "stats": {
          "histogram": [
           {
            "bin_end": 9.2697541,
            "bin_start": 8.914077,
            "count": 1
           },
           {
            "bin_end": 9.625431200000001,
            "bin_start": 9.2697541,
            "count": 1
           },
           {
            "bin_end": 9.9811083,
            "bin_start": 9.625431200000001,
            "count": 1
           },
           {
            "bin_end": 10.3367854,
            "bin_start": 9.9811083,
            "count": 2
           },
           {
            "bin_end": 10.692462500000001,
            "bin_start": 10.3367854,
            "count": 9
           },
           {
            "bin_end": 11.0481396,
            "bin_start": 10.692462500000001,
            "count": 9
           },
           {
            "bin_end": 11.4038167,
            "bin_start": 11.0481396,
            "count": 15
           },
           {
            "bin_end": 11.759493800000001,
            "bin_start": 11.4038167,
            "count": 18
           },
           {
            "bin_end": 12.1151709,
            "bin_start": 11.759493800000001,
            "count": 21
           },
           {
            "bin_end": 12.470848,
            "bin_start": 12.1151709,
            "count": 23
           }
          ],
          "max": "12.470848",
          "min": "8.914077",
          "nan_count": 0,
          "unique_count": 100
         }
        },
        {
         "dtype": "float64",
         "name": "teff_gspspec",
         "stats": {
          "histogram": [
           {
            "bin_end": 4175,
            "bin_start": 3750,
            "count": 15
           },
           {
            "bin_end": 4600,
            "bin_start": 4175,
            "count": 38
           },
           {
            "bin_end": 5025,
            "bin_start": 4600,
            "count": 23
           },
           {
            "bin_end": 5450,
            "bin_start": 5025,
            "count": 6
           },
           {
            "bin_end": 5875,
            "bin_start": 5450,
            "count": 3
           },
           {
            "bin_end": 6300,
            "bin_start": 5875,
            "count": 5
           },
           {
            "bin_end": 6725,
            "bin_start": 6300,
            "count": 5
           },
           {
            "bin_end": 7150,
            "bin_start": 6725,
            "count": 1
           },
           {
            "bin_end": 7575,
            "bin_start": 7150,
            "count": 3
           },
           {
            "bin_end": 8000,
            "bin_start": 7575,
            "count": 1
           }
          ],
          "max": "8000.0",
          "min": "3750.0",
          "nan_count": 0,
          "unique_count": 80
         }
        },
        {
         "dtype": "float64",
         "name": "logg_gspspec",
         "stats": {
          "histogram": [
           {
            "bin_end": 1.0899999999999999,
            "bin_start": 0.65,
            "count": 7
           },
           {
            "bin_end": 1.5299999999999998,
            "bin_start": 1.0899999999999999,
            "count": 31
           },
           {
            "bin_end": 1.9699999999999998,
            "bin_start": 1.5299999999999998,
            "count": 10
           },
           {
            "bin_end": 2.4099999999999997,
            "bin_start": 1.9699999999999998,
            "count": 22
           },
           {
            "bin_end": 2.8499999999999996,
            "bin_start": 2.4099999999999997,
            "count": 9
           },
           {
            "bin_end": 3.2899999999999996,
            "bin_start": 2.8499999999999996,
            "count": 0
           },
           {
            "bin_end": 3.7299999999999995,
            "bin_start": 3.2899999999999996,
            "count": 5
           },
           {
            "bin_end": 4.17,
            "bin_start": 3.7299999999999995,
            "count": 6
           },
           {
            "bin_end": 4.609999999999999,
            "bin_start": 4.17,
            "count": 7
           },
           {
            "bin_end": 5.05,
            "bin_start": 4.609999999999999,
            "count": 3
           }
          ],
          "max": "5.05",
          "min": "0.65",
          "nan_count": 0,
          "unique_count": 74
         }
        },
        {
         "dtype": "float64",
         "name": "mh_gspspec",
         "stats": {
          "histogram": [
           {
            "bin_end": -3.7630000000000003,
            "bin_start": -4.23,
            "count": 1
           },
           {
            "bin_end": -3.2960000000000003,
            "bin_start": -3.7630000000000003,
            "count": 0
           },
           {
            "bin_end": -2.829,
            "bin_start": -3.2960000000000003,
            "count": 0
           },
           {
            "bin_end": -2.362,
            "bin_start": -2.829,
            "count": 0
           },
           {
            "bin_end": -1.895,
            "bin_start": -2.362,
            "count": 1
           },
           {
            "bin_end": -1.428,
            "bin_start": -1.895,
            "count": 0
           },
           {
            "bin_end": -0.9609999999999999,
            "bin_start": -1.428,
            "count": 1
           },
           {
            "bin_end": -0.4939999999999998,
            "bin_start": -0.9609999999999999,
            "count": 11
           },
           {
            "bin_end": -0.026999999999999247,
            "bin_start": -0.4939999999999998,
            "count": 49
           },
           {
            "bin_end": 0.44,
            "bin_start": -0.026999999999999247,
            "count": 36
           }
          ],
          "max": "0.44",
          "min": "-4.23",
          "nan_count": 1,
          "unique_count": 66
         }
        },
        {
         "dtype": "float64",
         "name": "alphafe_gspspec",
         "stats": {
          "histogram": [
           {
            "bin_end": -0.166,
            "bin_start": -0.26,
            "count": 3
           },
           {
            "bin_end": -0.07200000000000001,
            "bin_start": -0.166,
            "count": 17
           },
           {
            "bin_end": 0.02200000000000002,
            "bin_start": -0.07200000000000001,
            "count": 32
           },
           {
            "bin_end": 0.11599999999999999,
            "bin_start": 0.02200000000000002,
            "count": 10
           },
           {
            "bin_end": 0.20999999999999996,
            "bin_start": 0.11599999999999999,
            "count": 5
           },
           {
            "bin_end": 0.30400000000000005,
            "bin_start": 0.20999999999999996,
            "count": 4
           },
           {
            "bin_end": 0.398,
            "bin_start": 0.30400000000000005,
            "count": 2
           },
           {
            "bin_end": 0.492,
            "bin_start": 0.398,
            "count": 1
           },
           {
            "bin_end": 0.586,
            "bin_start": 0.492,
            "count": 1
           },
           {
            "bin_end": 0.68,
            "bin_start": 0.586,
            "count": 3
           }
          ],
          "max": "0.68",
          "min": "-0.26",
          "nan_count": 22,
          "unique_count": 40
         }
        },
        {
         "dtype": "object",
         "name": "flags_gspspec",
         "stats": {
          "categories": [
           {
            "count": 19,
            "name": "00000010000009999999999999999999999999999"
           },
           {
            "count": 10,
            "name": "00000000000009999999900999999999999999999"
           },
           {
            "count": 71,
            "name": "50 others"
           }
          ],
          "nan_count": 0,
          "unique_count": 52
         }
        },
        {
         "dtype": "float64",
         "name": "teff_gspphot",
         "stats": {
          "histogram": [
           {
            "bin_end": 4407.79158,
            "bin_start": 3577.2932,
            "count": 18
           },
           {
            "bin_end": 5238.28996,
            "bin_start": 4407.79158,
            "count": 62
           },
           {
            "bin_end": 6068.78834,
            "bin_start": 5238.28996,
            "count": 10
           },
           {
            "bin_end": 6899.28672,
            "bin_start": 6068.78834,
            "count": 6
           },
           {
            "bin_end": 7729.7851,
            "bin_start": 6899.28672,
            "count": 0
           },
           {
            "bin_end": 8560.28348,
            "bin_start": 7729.7851,
            "count": 2
           },
           {
            "bin_end": 9390.78186,
            "bin_start": 8560.28348,
            "count": 0
           },
           {
            "bin_end": 10221.28024,
            "bin_start": 9390.78186,
            "count": 0
           },
           {
            "bin_end": 11051.778620000001,
            "bin_start": 10221.28024,
            "count": 1
           },
           {
            "bin_end": 11882.277,
            "bin_start": 11051.778620000001,
            "count": 1
           }
          ],
          "max": "11882.277",
          "min": "3577.2932",
          "nan_count": 0,
          "unique_count": 100
         }
        },
        {
         "dtype": "float64",
         "name": "logg_gspphot",
         "stats": {
          "histogram": [
           {
            "bin_end": 0.63467,
            "bin_start": 0.1998,
            "count": 3
           },
           {
            "bin_end": 1.06954,
            "bin_start": 0.63467,
            "count": 9
           },
           {
            "bin_end": 1.5044099999999998,
            "bin_start": 1.06954,
            "count": 7
           },
           {
            "bin_end": 1.93928,
            "bin_start": 1.5044099999999998,
            "count": 11
           },
           {
            "bin_end": 2.37415,
            "bin_start": 1.93928,
            "count": 19
           },
           {
            "bin_end": 2.80902,
            "bin_start": 2.37415,
            "count": 30
           },
           {
            "bin_end": 3.24389,
            "bin_start": 2.80902,
            "count": 1
           },
           {
            "bin_end": 3.67876,
            "bin_start": 3.24389,
            "count": 5
           },
           {
            "bin_end": 4.11363,
            "bin_start": 3.67876,
            "count": 3
           },
           {
            "bin_end": 4.5485,
            "bin_start": 4.11363,
            "count": 12
           }
          ],
          "max": "4.5485",
          "min": "0.1998",
          "nan_count": 0,
          "unique_count": 100
         }
        },
        {
         "dtype": "float64",
         "name": "mh_gspphot",
         "stats": {
          "histogram": [
           {
            "bin_end": -2.72559,
            "bin_start": -3.0841,
            "count": 1
           },
           {
            "bin_end": -2.3670799999999996,
            "bin_start": -2.72559,
            "count": 0
           },
           {
            "bin_end": -2.0085699999999997,
            "bin_start": -2.3670799999999996,
            "count": 1
           },
           {
            "bin_end": -1.6500599999999999,
            "bin_start": -2.0085699999999997,
            "count": 0
           },
           {
            "bin_end": -1.29155,
            "bin_start": -1.6500599999999999,
            "count": 1
           },
           {
            "bin_end": -0.9330399999999996,
            "bin_start": -1.29155,
            "count": 3
           },
           {
            "bin_end": -0.5745299999999998,
            "bin_start": -0.9330399999999996,
            "count": 6
           },
           {
            "bin_end": -0.21601999999999988,
            "bin_start": -0.5745299999999998,
            "count": 20
           },
           {
            "bin_end": 0.14249,
            "bin_start": -0.21601999999999988,
            "count": 52
           },
           {
            "bin_end": 0.501,
            "bin_start": 0.14249,
            "count": 16
           }
          ],
          "max": "0.501",
          "min": "-3.0841",
          "nan_count": 0,
          "unique_count": 97
         }
        },
        {
         "dtype": "float64",
         "name": "azero_gspphot",
         "stats": {
          "histogram": [
           {
            "bin_end": 0.34443999999999997,
            "bin_start": 0.0116,
            "count": 11
           },
           {
            "bin_end": 0.6772799999999999,
            "bin_start": 0.34443999999999997,
            "count": 16
           },
           {
            "bin_end": 1.01012,
            "bin_start": 0.6772799999999999,
            "count": 7
           },
           {
            "bin_end": 1.34296,
            "bin_start": 1.01012,
            "count": 20
           },
           {
            "bin_end": 1.6758,
            "bin_start": 1.34296,
            "count": 9
           },
           {
            "bin_end": 2.0086399999999998,
            "bin_start": 1.6758,
            "count": 2
           },
           {
            "bin_end": 2.34148,
            "bin_start": 2.0086399999999998,
            "count": 12
           },
           {
            "bin_end": 2.67432,
            "bin_start": 2.34148,
            "count": 8
           },
           {
            "bin_end": 3.00716,
            "bin_start": 2.67432,
            "count": 8
           },
           {
            "bin_end": 3.34,
            "bin_start": 3.00716,
            "count": 7
           }
          ],
          "max": "3.34",
          "min": "0.0116",
          "nan_count": 0,
          "unique_count": 100
         }
        },
        {
         "dtype": "float64",
         "name": "ag_gspphot",
         "stats": {
          "histogram": [
           {
            "bin_end": 0.24635999999999997,
            "bin_start": 0.0099,
            "count": 10
           },
           {
            "bin_end": 0.48281999999999997,
            "bin_start": 0.24635999999999997,
            "count": 13
           },
           {
            "bin_end": 0.7192799999999999,
            "bin_start": 0.48281999999999997,
            "count": 11
           },
           {
            "bin_end": 0.9557399999999999,
            "bin_start": 0.7192799999999999,
            "count": 13
           },
           {
            "bin_end": 1.1922,
            "bin_start": 0.9557399999999999,
            "count": 14
           },
           {
            "bin_end": 1.4286599999999998,
            "bin_start": 1.1922,
            "count": 6
           },
           {
            "bin_end": 1.66512,
            "bin_start": 1.4286599999999998,
            "count": 9
           },
           {
            "bin_end": 1.9015799999999998,
            "bin_start": 1.66512,
            "count": 12
           },
           {
            "bin_end": 2.1380399999999997,
            "bin_start": 1.9015799999999998,
            "count": 4
           },
           {
            "bin_end": 2.3745,
            "bin_start": 2.1380399999999997,
            "count": 8
           }
          ],
          "max": "2.3745",
          "min": "0.0099",
          "nan_count": 0,
          "unique_count": 99
         }
        },
        {
         "dtype": "float64",
         "name": "ebpminrp_gspphot",
         "stats": {
          "histogram": [
           {
            "bin_end": 0.13263999999999998,
            "bin_start": 0.0053,
            "count": 10
           },
           {
            "bin_end": 0.25998,
            "bin_start": 0.13263999999999998,
            "count": 14
           },
           {
            "bin_end": 0.38731999999999994,
            "bin_start": 0.25998,
            "count": 10
           },
           {
            "bin_end": 0.5146599999999999,
            "bin_start": 0.38731999999999994,
            "count": 13
           },
           {
            "bin_end": 0.6419999999999999,
            "bin_start": 0.5146599999999999,
            "count": 15
           },
           {
            "bin_end": 0.7693399999999998,
            "bin_start": 0.6419999999999999,
            "count": 3
           },
           {
            "bin_end": 0.8966799999999998,
            "bin_start": 0.7693399999999998,
            "count": 12
           },
           {
            "bin_end": 1.02402,
            "bin_start": 0.8966799999999998,
            "count": 9
           },
           {
            "bin_end": 1.15136,
            "bin_start": 1.02402,
            "count": 6
           },
           {
            "bin_end": 1.2787,
            "bin_start": 1.15136,
            "count": 8
           }
          ],
          "max": "1.2787",
          "min": "0.0053",
          "nan_count": 0,
          "unique_count": 100
         }
        },
        {
         "dtype": "float64",
         "name": "distance_gspphot",
         "stats": {
          "histogram": [
           {
            "bin_end": 2575.17774,
            "bin_start": 124.3516,
            "count": 56
           },
           {
            "bin_end": 5026.00388,
            "bin_start": 2575.17774,
            "count": 35
           },
           {
            "bin_end": 7476.83002,
            "bin_start": 5026.00388,
            "count": 5
           },
           {
            "bin_end": 9927.65616,
            "bin_start": 7476.83002,
            "count": 2
           },
           {
            "bin_end": 12378.482300000001,
            "bin_start": 9927.65616,
            "count": 1
           },
           {
            "bin_end": 14829.30844,
            "bin_start": 12378.482300000001,
            "count": 0
           },
           {
            "bin_end": 17280.13458,
            "bin_start": 14829.30844,
            "count": 0
           },
           {
            "bin_end": 19730.960720000003,
            "bin_start": 17280.13458,
            "count": 0
           },
           {
            "bin_end": 22181.786860000004,
            "bin_start": 19730.960720000003,
            "count": 0
           },
           {
            "bin_end": 24632.613,
            "bin_start": 22181.786860000004,
            "count": 1
           }
          ],
          "max": "24632.613",
          "min": "124.3516",
          "nan_count": 0,
          "unique_count": 100
         }
        },
        {
         "dtype": "float64",
         "name": "mg_gspphot",
         "stats": {
          "histogram": [
           {
            "bin_end": -4.34235,
            "bin_start": -5.4695,
            "count": 1
           },
           {
            "bin_end": -3.2152000000000003,
            "bin_start": -4.34235,
            "count": 3
           },
           {
            "bin_end": -2.0880500000000004,
            "bin_start": -3.2152000000000003,
            "count": 11
           },
           {
            "bin_end": -0.9609000000000005,
            "bin_start": -2.0880500000000004,
            "count": 20
           },
           {
            "bin_end": 0.1662499999999998,
            "bin_start": -0.9609000000000005,
            "count": 25
           },
           {
            "bin_end": 1.2933999999999992,
            "bin_start": 0.1662499999999998,
            "count": 23
           },
           {
            "bin_end": 2.4205499999999986,
            "bin_start": 1.2933999999999992,
            "count": 0
           },
           {
            "bin_end": 3.547699999999999,
            "bin_start": 2.4205499999999986,
            "count": 6
           },
           {
            "bin_end": 4.674849999999999,
            "bin_start": 3.547699999999999,
            "count": 9
           },
           {
            "bin_end": 5.802,
            "bin_start": 4.674849999999999,
            "count": 2
           }
          ],
          "max": "5.802",
          "min": "-5.4695",
          "nan_count": 0,
          "unique_count": 100
         }
        },
        {
         "dtype": "object",
         "name": "libname_gspphot",
         "stats": {
          "categories": [
           {
            "count": 66,
            "name": "MARCS"
           },
           {
            "count": 29,
            "name": "PHOENIX"
           },
           {
            "count": 5,
            "name": "A"
           }
          ],
          "nan_count": 0,
          "unique_count": 3
         }
        },
        {
         "dtype": "int64",
         "name": "_deepnote_index_column"
        }
       ],
       "row_count": 100,
       "rows_bottom": [
        {
         "_deepnote_index_column": 77,
         "ag_gspphot": 2.1587,
         "alphafe_gspspec": 0.41,
         "azero_gspphot": 2.9822,
         "b": -8.337053228082109,
         "distance_gspphot": 6165.1777,
         "ebpminrp_gspphot": 1.1844,
         "flags_gspspec": "11000011000009999999900999900999999999999",
         "l": 332.10134066426593,
         "libname_gspphot": "MARCS",
         "logg_gspphot": 1.3101,
         "logg_gspspec": 0.65,
         "mg_gspphot": -4.0207,
         "mh_gspphot": -1.1893,
         "mh_gspspec": -0.89,
         "parallax": 0.1022525980624499,
         "parallax_error": 0.018924972,
         "phot_bp_mean_mag": 13.270026,
         "phot_g_mean_mag": 12.048121,
         "phot_rp_mean_mag": 10.960526,
         "source_id": 5917119926258743000,
         "teff_gspphot": 4876.703,
         "teff_gspspec": 3750
        },
        {
         "_deepnote_index_column": 78,
         "ag_gspphot": 0.3319,
         "alphafe_gspspec": 0.14,
         "azero_gspphot": 0.4039,
         "b": -3.314943516100792,
         "distance_gspphot": 373.8896,
         "ebpminrp_gspphot": 0.1795,
         "flags_gspspec": "00000010000009999999999999999999999999999",
         "l": 326.1802955971028,
         "libname_gspphot": "MARCS",
         "logg_gspphot": 4.1425,
         "logg_gspspec": 4.53,
         "mg_gspphot": 3.9156,
         "mh_gspphot": -0.5386,
         "mh_gspspec": 0.04,
         "parallax": 2.5808408119172146,
         "parallax_error": 0.013577292,
         "phot_bp_mean_mag": 12.52283,
         "phot_g_mean_mag": 12.096966,
         "phot_rp_mean_mag": 11.49866,
         "source_id": 5835764621454985000,
         "teff_gspphot": 5513.137,
         "teff_gspspec": 6246
        },
        {
         "_deepnote_index_column": 79,
         "ag_gspphot": 1.4413,
         "alphafe_gspspec": "nan",
         "azero_gspphot": 2.3183,
         "b": -3.1086524672959857,
         "distance_gspphot": 4587.0107,
         "ebpminrp_gspphot": 0.9101,
         "flags_gspspec": "10000151000019999999999999999999999999999",
         "l": 326.535744959426,
         "libname_gspphot": "PHOENIX",
         "logg_gspphot": 0.949,
         "logg_gspspec": 1.5,
         "mg_gspphot": -0.9479,
         "mh_gspphot": 0.0787,
         "mh_gspspec": -2.03,
         "parallax": 0.0281201657642202,
         "parallax_error": 0.024582395,
         "phot_bp_mean_mag": 15.731576,
         "phot_g_mean_mag": 13.76632,
         "phot_rp_mean_mag": 12.465199,
         "source_id": 5835794239553299000,
         "teff_gspphot": 3640.3442,
         "teff_gspspec": 4250
        },
        {
         "_deepnote_index_column": 80,
         "ag_gspphot": 1.7048,
         "alphafe_gspspec": 0.06,
         "azero_gspphot": 2.3806,
         "b": -3.672078223338737,
         "distance_gspphot": 3152.7888,
         "ebpminrp_gspphot": 0.9002,
         "flags_gspspec": "00000001000009999999900999999999999999999",
         "l": 326.46337379077,
         "libname_gspphot": "MARCS",
         "logg_gspphot": 1.9601,
         "logg_gspspec": 0.88,
         "mg_gspphot": -1.6617,
         "mh_gspphot": 0.143,
         "mh_gspspec": -0.41,
         "parallax": 0.2327896444003812,
         "parallax_error": 0.016887771,
         "phot_bp_mean_mag": 13.646108,
         "phot_g_mean_mag": 12.515978,
         "phot_rp_mean_mag": 11.46566,
         "source_id": 5835733422809032000,
         "teff_gspphot": 4524.0767,
         "teff_gspspec": 4015
        },
        {
         "_deepnote_index_column": 81,
         "ag_gspphot": 0.6572,
         "alphafe_gspspec": -0.05,
         "azero_gspphot": 0.8888,
         "b": -9.365587526116844,
         "distance_gspphot": 1193.4321,
         "ebpminrp_gspphot": 0.3431,
         "flags_gspspec": "00000000000000001999900999900999999999909",
         "l": 333.29361934651416,
         "libname_gspphot": "PHOENIX",
         "logg_gspphot": 2.3654,
         "logg_gspspec": 1.67,
         "mg_gspphot": 0.672,
         "mh_gspphot": 0.1495,
         "mh_gspspec": 0.15,
         "parallax": 0.5608027888736095,
         "parallax_error": 0.027007092,
         "phot_bp_mean_mag": 12.623847,
         "phot_g_mean_mag": 11.811598,
         "phot_rp_mean_mag": 10.929682,
         "source_id": 5917285952513091000,
         "teff_gspphot": 4510.202,
         "teff_gspspec": 4207
        },
        {
         "_deepnote_index_column": 82,
         "ag_gspphot": 1.0838,
         "alphafe_gspspec": "nan",
         "azero_gspphot": 1.1525,
         "b": -3.335507036172002,
         "distance_gspphot": 2567.2234,
         "ebpminrp_gspphot": 0.585,
         "flags_gspspec": "00010931000009999999999999999999999999999",
         "l": 326.58965810417425,
         "libname_gspphot": "A",
         "logg_gspphot": 3.4749,
         "logg_gspspec": 4.5,
         "mg_gspphot": -1.7686,
         "mh_gspphot": -0.018,
         "mh_gspspec": "nan",
         "parallax": 0.2262812156817706,
         "parallax_error": 0.05607222,
         "phot_bp_mean_mag": 11.5216675,
         "phot_g_mean_mag": 11.3659525,
         "phot_rp_mean_mag": 11.071883,
         "source_id": 5835794338228650000,
         "teff_gspphot": 11882.277,
         "teff_gspspec": 8000
        },
        {
         "_deepnote_index_column": 83,
         "ag_gspphot": 0.2364,
         "alphafe_gspspec": 0.19,
         "azero_gspphot": 0.2765,
         "b": -9.760567625376352,
         "distance_gspphot": 818.1415,
         "ebpminrp_gspphot": 0.1281,
         "flags_gspspec": "00000020000009999999999999999999999999999",
         "l": 332.93407934833647,
         "libname_gspphot": "MARCS",
         "logg_gspphot": 3.8775,
         "logg_gspspec": 3.9,
         "mg_gspphot": 2.8883,
         "mh_gspphot": -0.4415,
         "mh_gspspec": -0.14,
         "parallax": 1.1964668010238428,
         "parallax_error": 0.013903218,
         "phot_bp_mean_mag": 12.987913,
         "phot_g_mean_mag": 12.680519,
         "phot_rp_mean_mag": 12.212857,
         "source_id": 5917199434686958000,
         "teff_gspphot": 6188.4634,
         "teff_gspspec": 6381
        },
        {
         "_deepnote_index_column": 84,
         "ag_gspphot": 0.5563,
         "alphafe_gspspec": -0.25,
         "azero_gspphot": 0.7279,
         "b": -8.291714006810722,
         "distance_gspphot": 1764.3641,
         "ebpminrp_gspphot": 0.2916,
         "flags_gspspec": "00000010000009999999999999999999999999999",
         "l": 332.1260367633669,
         "libname_gspphot": "PHOENIX",
         "logg_gspphot": 2.7741,
         "logg_gspspec": 2.28,
         "mg_gspphot": 0.905,
         "mh_gspphot": 0.038,
         "mh_gspspec": 0.2,
         "parallax": 0.4040700059916365,
         "parallax_error": 0.015800366,
         "phot_bp_mean_mag": 13.456383,
         "phot_g_mean_mag": 12.77883,
         "phot_rp_mean_mag": 11.984085,
         "source_id": 5917120613453604000,
         "teff_gspphot": 4847.396,
         "teff_gspspec": 4834
        },
        {
         "_deepnote_index_column": 85,
         "ag_gspphot": 0.7931,
         "alphafe_gspspec": 0.24,
         "azero_gspphot": 1.0708,
         "b": -9.339080618941448,
         "distance_gspphot": 3032.1287,
         "ebpminrp_gspphot": 0.4206,
         "flags_gspspec": "00000020000009999999999999999999999999999",
         "l": 333.33476548657325,
         "libname_gspphot": "MARCS",
         "logg_gspphot": 1.7836,
         "logg_gspspec": 1.52,
         "mg_gspphot": -0.2093,
         "mh_gspphot": -0.4244,
         "mh_gspspec": -0.55,
         "parallax": 0.2645987666230689,
         "parallax_error": 0.021240609,
         "phot_bp_mean_mag": 13.788094,
         "phot_g_mean_mag": 12.947579,
         "phot_rp_mean_mag": 12.052154,
         "source_id": 5917286502267681000,
         "teff_gspphot": 4428.782,
         "teff_gspspec": 4226
        },
        {
         "_deepnote_index_column": 86,
         "ag_gspphot": 1.497,
         "alphafe_gspspec": "nan",
         "azero_gspphot": 2.266,
         "b": -3.285038167969369,
         "distance_gspphot": 3668.7004,
         "ebpminrp_gspphot": 0.8458,
         "flags_gspspec": "00000011000029999999999999999999999999999",
         "l": 326.17349347518604,
         "libname_gspphot": "PHOENIX",
         "logg_gspphot": 1.1218,
         "logg_gspspec": 1.5,
         "mg_gspphot": -0.7612,
         "mh_gspphot": -0.187,
         "mh_gspspec": -0.28,
         "parallax": 0.113241279325649,
         "parallax_error": 0.016234675,
         "phot_bp_mean_mag": 15.012673,
         "phot_g_mean_mag": 13.484086,
         "phot_rp_mean_mag": 12.2859125,
         "source_id": 5835764896332980000,
         "teff_gspphot": 3802.5112,
         "teff_gspspec": 4250
        },
        {
         "_deepnote_index_column": 87,
         "ag_gspphot": 0.4505,
         "alphafe_gspspec": -0.15,
         "azero_gspphot": 0.5841,
         "b": -8.385166496137222,
         "distance_gspphot": 1952.3787,
         "ebpminrp_gspphot": 0.2389,
         "flags_gspspec": "00000010000009999999999999999999999999999",
         "l": 332.1537235688235,
         "libname_gspphot": "PHOENIX",
         "logg_gspphot": 2.4356,
         "logg_gspspec": 2.32,
         "mg_gspphot": 0.9284,
         "mh_gspphot": -0.4084,
         "mh_gspspec": -0.16,
         "parallax": 0.3908323606580136,
         "parallax_error": 0.015852327,
         "phot_bp_mean_mag": 13.459818,
         "phot_g_mean_mag": 12.825827,
         "phot_rp_mean_mag": 12.062589,
         "source_id": 5917120853971609000,
         "teff_gspphot": 4757.5664,
         "teff_gspspec": 4893
        },
        {
         "_deepnote_index_column": 88,
         "ag_gspphot": 0.9509,
         "alphafe_gspspec": 0.26,
         "azero_gspphot": 1.2295,
         "b": -9.307629196118176,
         "distance_gspphot": 2436.9575,
         "ebpminrp_gspphot": 0.5111,
         "flags_gspspec": "00000020000009999999999999999999999999999",
         "l": 333.2610597894796,
         "libname_gspphot": "PHOENIX",
         "logg_gspphot": 2.5856,
         "logg_gspspec": 2.17,
         "mg_gspphot": 0.071,
         "mh_gspphot": -0.5328,
         "mh_gspspec": -0.69,
         "parallax": 0.2404964511089287,
         "parallax_error": 0.019979276,
         "phot_bp_mean_mag": 13.649334,
         "phot_g_mean_mag": 12.937046,
         "phot_rp_mean_mag": 12.116943,
         "source_id": 5917286880224831000,
         "teff_gspphot": 5063.9395,
         "teff_gspspec": 4678
        },
        {
         "_deepnote_index_column": 89,
         "ag_gspphot": 1.5423,
         "alphafe_gspspec": -0.03,
         "azero_gspphot": 2.1258,
         "b": -3.621485301069751,
         "distance_gspphot": 3661.238,
         "ebpminrp_gspphot": 0.8105,
         "flags_gspspec": "00000000000009999999999999999999999999999",
         "l": 326.4099071655565,
         "libname_gspphot": "MARCS",
         "logg_gspphot": 2.0408,
         "logg_gspspec": 1.74,
         "mg_gspphot": -1.6757,
         "mh_gspphot": 0.2349,
         "mh_gspspec": 0.11,
         "parallax": 0.3879914256724935,
         "parallax_error": 0.014963377,
         "phot_bp_mean_mag": 13.70348,
         "phot_g_mean_mag": 12.6641,
         "phot_rp_mean_mag": 11.658818,
         "source_id": 5835733968164233000,
         "teff_gspphot": 4624.488,
         "teff_gspspec": 4222
        },
        {
         "_deepnote_index_column": 90,
         "ag_gspphot": 2.3745,
         "alphafe_gspspec": "nan",
         "azero_gspphot": 3.34,
         "b": -3.297868827796329,
         "distance_gspphot": 3211.6604,
         "ebpminrp_gspphot": 1.2756,
         "flags_gspspec": "01000001000019999999999999999999999999999",
         "l": 326.61169134438995,
         "libname_gspphot": "MARCS",
         "logg_gspphot": 2.1123,
         "logg_gspspec": 1.5,
         "mg_gspphot": -1.5972,
         "mh_gspphot": -0.0199,
         "mh_gspspec": -0.22,
         "parallax": 0.1757151250403208,
         "parallax_error": 0.014943992,
         "phot_bp_mean_mag": 14.608323,
         "phot_g_mean_mag": 13.296417,
         "phot_rp_mean_mag": 12.180499,
         "source_id": 5835794754949701000,
         "teff_gspphot": 4767.64,
         "teff_gspspec": 4250
        },
        {
         "_deepnote_index_column": 91,
         "ag_gspphot": 0.6708,
         "alphafe_gspspec": -0.07,
         "azero_gspphot": 0.871,
         "b": -9.264952283082264,
         "distance_gspphot": 3449.0686,
         "ebpminrp_gspphot": 0.3547,
         "flags_gspspec": "00000010000009999999999999999999999999999",
         "l": 333.28371932223195,
         "libname_gspphot": "MARCS",
         "logg_gspphot": 2.5414,
         "logg_gspspec": 2.78,
         "mg_gspphot": -0.1519,
         "mh_gspphot": -0.1054,
         "mh_gspspec": -0.17,
         "parallax": 0.3240452850110668,
         "parallax_error": 0.015955305,
         "phot_bp_mean_mag": 13.867301,
         "phot_g_mean_mag": 13.194176,
         "phot_rp_mean_mag": 12.399562,
         "source_id": 5917287223822287000,
         "teff_gspphot": 4873.002,
         "teff_gspspec": 4936
        },
        {
         "_deepnote_index_column": 92,
         "ag_gspphot": 1.3885,
         "alphafe_gspspec": "nan",
         "azero_gspphot": 2.1624,
         "b": -2.83226255723226,
         "distance_gspphot": 4225.5996,
         "ebpminrp_gspphot": 0.8204,
         "flags_gspspec": "01100001000019999999900999999999999999999",
         "l": 326.6172519496336,
         "libname_gspphot": "PHOENIX",
         "logg_gspphot": 0.6126,
         "logg_gspspec": 1.5,
         "mg_gspphot": -1.5451,
         "mh_gspphot": -0.1975,
         "mh_gspspec": -0.26,
         "parallax": 0.1459252672840607,
         "parallax_error": 0.01631336,
         "phot_bp_mean_mag": 14.7302475,
         "phot_g_mean_mag": 13.037581,
         "phot_rp_mean_mag": 11.800339,
         "source_id": 5835818153934228000,
         "teff_gspphot": 3674.5923,
         "teff_gspspec": 4250
        },
        {
         "_deepnote_index_column": 93,
         "ag_gspphot": 0.4859,
         "alphafe_gspspec": -0.02,
         "azero_gspphot": 0.6198,
         "b": -9.32119459543001,
         "distance_gspphot": 673.8825,
         "ebpminrp_gspphot": 0.2573,
         "flags_gspspec": "00000000000001020009900001100991099999905",
         "l": 333.8193303506476,
         "libname_gspphot": "MARCS",
         "logg_gspphot": 2.6393,
         "logg_gspspec": 2.09,
         "mg_gspphot": 0.0219,
         "mh_gspphot": -0.1246,
         "mh_gspspec": -0.17,
         "parallax": 1.3241317266691914,
         "parallax_error": 0.015379718,
         "phot_bp_mean_mag": 10.230574,
         "phot_g_mean_mag": 9.645813,
         "phot_rp_mean_mag": 8.914077,
         "source_id": 5917366423021539000,
         "teff_gspphot": 5005.1914,
         "teff_gspspec": 4775
        },
        {
         "_deepnote_index_column": 94,
         "ag_gspphot": 0.2117,
         "alphafe_gspspec": 0.15,
         "azero_gspphot": 0.2617,
         "b": -32.73350999060465,
         "distance_gspphot": 766.942,
         "ebpminrp_gspphot": 0.1128,
         "flags_gspspec": "00000020000009999999999999999999999999999",
         "l": 280.1863605426672,
         "libname_gspphot": "MARCS",
         "logg_gspphot": 3.5378,
         "logg_gspspec": 3.3,
         "mg_gspphot": 2.507,
         "mh_gspphot": -0.1001,
         "mh_gspspec": -0.45,
         "parallax": 1.2947660696959484,
         "parallax_error": 0.010856779,
         "phot_bp_mean_mag": 12.591257,
         "phot_g_mean_mag": 12.142303,
         "phot_rp_mean_mag": 11.52246,
         "source_id": 4658065858436145000,
         "teff_gspphot": 5234.816,
         "teff_gspspec": 5103
        },
        {
         "_deepnote_index_column": 95,
         "ag_gspphot": 0.5741,
         "alphafe_gspspec": -0.06,
         "azero_gspphot": 0.7525,
         "b": -9.3559386891732,
         "distance_gspphot": 1199.6442,
         "ebpminrp_gspphot": 0.3,
         "flags_gspspec": "00000000000009920019900009900999999999999",
         "l": 333.8308173698706,
         "libname_gspphot": "MARCS",
         "logg_gspphot": 2.5729,
         "logg_gspspec": 1.99,
         "mg_gspphot": 0.4573,
         "mh_gspphot": 0.1413,
         "mh_gspspec": 0,
         "parallax": 0.9101549126855648,
         "parallax_error": 0.02800342,
         "phot_bp_mean_mag": 12.084267,
         "phot_g_mean_mag": 11.40071,
         "phot_rp_mean_mag": 10.601941,
         "source_id": 5917366526100736000,
         "teff_gspphot": 4731.899,
         "teff_gspspec": 4557
        },
        {
         "_deepnote_index_column": 96,
         "ag_gspphot": 0.3638,
         "alphafe_gspspec": 0.27,
         "azero_gspphot": 0.4192,
         "b": -8.348732872361229,
         "distance_gspphot": 560.2202,
         "ebpminrp_gspphot": 0.1968,
         "flags_gspspec": "00000030000009999999999999999999999999999",
         "l": 332.231401088761,
         "libname_gspphot": "A",
         "logg_gspphot": 4.1712,
         "logg_gspspec": 4.1,
         "mg_gspphot": 3.1889,
         "mh_gspphot": -0.4661,
         "mh_gspspec": -0.18,
         "parallax": 1.7316355475452687,
         "parallax_error": 0.012610818,
         "phot_bp_mean_mag": 12.5605545,
         "phot_g_mean_mag": 12.278474,
         "phot_rp_mean_mag": 11.835876,
         "source_id": 5917121777358655000,
         "teff_gspphot": 6656.457,
         "teff_gspspec": 6715
        },
        {
         "_deepnote_index_column": 97,
         "ag_gspphot": 0.2393,
         "alphafe_gspspec": 0.2,
         "azero_gspphot": 0.2787,
         "b": -9.72294800550113,
         "distance_gspphot": 209.5456,
         "ebpminrp_gspphot": 0.1297,
         "flags_gspspec": "00000000000001299000000999900029999999999",
         "l": 333.04693426750407,
         "libname_gspphot": "A",
         "logg_gspphot": 4.0375,
         "logg_gspspec": 4.14,
         "mg_gspphot": 3.0274,
         "mh_gspphot": -0.61,
         "mh_gspspec": -0.11,
         "parallax": 4.7377235874208985,
         "parallax_error": 0.016759567,
         "phot_bp_mean_mag": 10.15975,
         "phot_g_mean_mag": 9.868277,
         "phot_rp_mean_mag": 9.405288,
         "source_id": 5917201015234970000,
         "teff_gspphot": 6275.119,
         "teff_gspspec": 6439
        },
        {
         "_deepnote_index_column": 98,
         "ag_gspphot": 0.3133,
         "alphafe_gspspec": -0.01,
         "azero_gspphot": 0.4209,
         "b": -9.314399603794588,
         "distance_gspphot": 4001.2747,
         "ebpminrp_gspphot": 0.1652,
         "flags_gspspec": "00000000000000012999900009900999999999909",
         "l": 333.83090813154246,
         "libname_gspphot": "MARCS",
         "logg_gspphot": 1.3717,
         "logg_gspspec": 1.52,
         "mg_gspphot": -1.4408,
         "mh_gspphot": -0.5854,
         "mh_gspspec": -0.18,
         "parallax": 0.4085431786824274,
         "parallax_error": 0.021760948,
         "phot_bp_mean_mag": 12.569979,
         "phot_g_mean_mag": 11.831022,
         "phot_rp_mean_mag": 10.996258,
         "source_id": 5917366869698143000,
         "teff_gspphot": 4277.146,
         "teff_gspspec": 4389
        },
        {
         "_deepnote_index_column": 99,
         "ag_gspphot": 1.5554,
         "alphafe_gspspec": "nan",
         "azero_gspphot": 2.1938,
         "b": -2.90088815032828,
         "distance_gspphot": 1578.2548,
         "ebpminrp_gspphot": 0.8308,
         "flags_gspspec": "00100031000029999999999999999999999999999",
         "l": 326.65474759966213,
         "libname_gspphot": "MARCS",
         "logg_gspphot": 1.3461,
         "logg_gspspec": 1.5,
         "mg_gspphot": -0.9802,
         "mh_gspphot": -0.4526,
         "mh_gspspec": -0.77,
         "parallax": 0.4958422584104119,
         "parallax_error": 0.021377265,
         "phot_bp_mean_mag": 12.663205,
         "phot_g_mean_mag": 11.502803,
         "phot_rp_mean_mag": 10.441858,
         "source_id": 5835818493124710000,
         "teff_gspphot": 4308.054,
         "teff_gspspec": 4250
        }
       ],
       "rows_top": [
        {
         "_deepnote_index_column": 0,
         "ag_gspphot": 1.9191,
         "alphafe_gspspec": -0.01,
         "azero_gspphot": 2.6248,
         "b": -3.749551095902573,
         "distance_gspphot": 2400.7478,
         "ebpminrp_gspphot": 1.0212,
         "flags_gspspec": "00000010000009999999999999999999999999999",
         "l": 326.6347420600235,
         "libname_gspphot": "PHOENIX",
         "logg_gspphot": 2.5722,
         "logg_gspspec": 1.59,
         "mg_gspphot": -0.4675,
         "mh_gspphot": 0.1408,
         "mh_gspspec": -0.07,
         "parallax": 0.2572987613241731,
         "parallax_error": 0.015012898,
         "phot_bp_mean_mag": 14.487535,
         "phot_g_mean_mag": 13.404951,
         "phot_rp_mean_mag": 12.375557,
         "source_id": 5835725554428191000,
         "teff_gspphot": 5050.838,
         "teff_gspspec": 4084
        },
        {
         "_deepnote_index_column": 1,
         "ag_gspphot": 2.1236,
         "alphafe_gspspec": "nan",
         "azero_gspphot": 2.9756,
         "b": -3.789467548399049,
         "distance_gspphot": 3397.3354,
         "ebpminrp_gspphot": 1.1413,
         "flags_gspspec": "00000021000019999999999999999999999999999",
         "l": 326.6669794147177,
         "libname_gspphot": "PHOENIX",
         "logg_gspphot": 2.0063,
         "logg_gspspec": 1.5,
         "mg_gspphot": -1.7435,
         "mh_gspphot": -0.2319,
         "mh_gspspec": -0.81,
         "parallax": 0.1427748494507459,
         "parallax_error": 0.014150012,
         "phot_bp_mean_mag": 14.374775,
         "phot_g_mean_mag": 13.131085,
         "phot_rp_mean_mag": 12.040055,
         "source_id": 5835725726226853000,
         "teff_gspphot": 4733.8633,
         "teff_gspspec": 4250
        },
        {
         "_deepnote_index_column": 2,
         "ag_gspphot": 0.1366,
         "alphafe_gspspec": -0.03,
         "azero_gspphot": 0.1639,
         "b": -32.83473543181303,
         "distance_gspphot": 415.3741,
         "ebpminrp_gspphot": 0.0724,
         "flags_gspspec": "00000010000009999999999999999999999999999",
         "l": 279.5312778871309,
         "libname_gspphot": "MARCS",
         "logg_gspphot": 4.1391,
         "logg_gspspec": 3.68,
         "mg_gspphot": 3.675,
         "mh_gspphot": 0.3988,
         "mh_gspspec": 0.36,
         "parallax": 2.3731263272084475,
         "parallax_error": 0.011886919,
         "phot_bp_mean_mag": 12.252738,
         "phot_g_mean_mag": 11.898599,
         "phot_rp_mean_mag": 11.380256,
         "source_id": 4658109465327386000,
         "teff_gspphot": 5780.714,
         "teff_gspspec": 5712
        },
        {
         "_deepnote_index_column": 3,
         "ag_gspphot": 2.3009,
         "alphafe_gspspec": -0.02,
         "azero_gspphot": 3.2706,
         "b": -3.388113663570356,
         "distance_gspphot": 3731.92,
         "ebpminrp_gspphot": 1.23,
         "flags_gspspec": "00000000000009999999900999999999999999999",
         "l": 326.13668918504743,
         "libname_gspphot": "MARCS",
         "logg_gspphot": 1.657,
         "logg_gspspec": 1.09,
         "mg_gspphot": -2.8015,
         "mh_gspphot": -0.0356,
         "mh_gspspec": -0.02,
         "parallax": 0.2168111300129747,
         "parallax_error": 0.014882449,
         "phot_bp_mean_mag": 13.6836815,
         "phot_g_mean_mag": 12.342805,
         "phot_rp_mean_mag": 11.215082,
         "source_id": 5835757577707659000,
         "teff_gspphot": 4587.905,
         "teff_gspspec": 4007
        },
        {
         "_deepnote_index_column": 4,
         "ag_gspphot": 0.4413,
         "alphafe_gspspec": 0.08,
         "azero_gspphot": 0.5201,
         "b": -3.739197382162292,
         "distance_gspphot": 196.9772,
         "ebpminrp_gspphot": 0.2381,
         "flags_gspspec": "00000010000009999999900999901999999999999",
         "l": 326.6582401967318,
         "libname_gspphot": "PHOENIX",
         "logg_gspphot": 4.35,
         "logg_gspspec": 4.18,
         "mg_gspphot": 3.9724,
         "mh_gspphot": -0.3107,
         "mh_gspspec": -0.05,
         "parallax": 5.1250777823177485,
         "parallax_error": 0.017013652,
         "phot_bp_mean_mag": 11.265015,
         "phot_g_mean_mag": 10.918342,
         "phot_rp_mean_mag": 10.396759,
         "source_id": 5835725966745103000,
         "teff_gspphot": 6366.3037,
         "teff_gspspec": 6226
        },
        {
         "_deepnote_index_column": 5,
         "ag_gspphot": 2.2288,
         "alphafe_gspspec": "nan",
         "azero_gspphot": 3.1472,
         "b": -3.730332029985407,
         "distance_gspphot": 2615.7607,
         "ebpminrp_gspphot": 1.1957,
         "flags_gspspec": "01100031000029999999999999999999999999999",
         "l": 326.67321159826554,
         "libname_gspphot": "MARCS",
         "logg_gspphot": 1.9036,
         "logg_gspspec": 1.5,
         "mg_gspphot": -1.9461,
         "mh_gspphot": -0.1124,
         "mh_gspspec": -0.55,
         "parallax": 0.3264914996109769,
         "parallax_error": 0.013866132,
         "phot_bp_mean_mag": 13.652412,
         "phot_g_mean_mag": 12.3561945,
         "phot_rp_mean_mag": 11.240719,
         "source_id": 5835726099782306000,
         "teff_gspphot": 4622.5254,
         "teff_gspspec": 4250
        },
        {
         "_deepnote_index_column": 6,
         "ag_gspphot": 1.0731,
         "alphafe_gspspec": -0.13,
         "azero_gspphot": 1.4181,
         "b": -3.843803945705537,
         "distance_gspphot": 1859.0034,
         "ebpminrp_gspphot": 0.5704,
         "flags_gspspec": "00000010000009999999999999999999999999999",
         "l": 326.69792926865216,
         "libname_gspphot": "MARCS",
         "logg_gspphot": 2.6703,
         "logg_gspspec": 2.58,
         "mg_gspphot": 0.3604,
         "mh_gspphot": -0.1,
         "mh_gspspec": 0.12,
         "parallax": 0.541896736839476,
         "parallax_error": 0.013415391,
         "phot_bp_mean_mag": 13.56651,
         "phot_g_mean_mag": 12.765598,
         "phot_rp_mean_mag": 11.8893175,
         "source_id": 5835726138543259000,
         "teff_gspphot": 4866.447,
         "teff_gspspec": 4882
        },
        {
         "_deepnote_index_column": 7,
         "ag_gspphot": 1.8769,
         "alphafe_gspspec": "nan",
         "azero_gspphot": 2.6167,
         "b": -3.341875394802079,
         "distance_gspphot": 3097.4172,
         "ebpminrp_gspphot": 0.9943,
         "flags_gspspec": "00000000000019999999900999999999999999999",
         "l": 326.1492998738908,
         "libname_gspphot": "MARCS",
         "logg_gspphot": 1.9357,
         "logg_gspspec": 1.5,
         "mg_gspphot": -1.9532,
         "mh_gspphot": 0.1156,
         "mh_gspspec": -0.19,
         "parallax": 0.2967951899382643,
         "parallax_error": 0.014033825,
         "phot_bp_mean_mag": 13.522958,
         "phot_g_mean_mag": 12.3604145,
         "phot_rp_mean_mag": 11.304148,
         "source_id": 5835757951261595000,
         "teff_gspphot": 4634.9004,
         "teff_gspspec": 4250
        },
        {
         "_deepnote_index_column": 8,
         "ag_gspphot": 0.9099,
         "alphafe_gspspec": -0.04,
         "azero_gspphot": 1.2069,
         "b": -3.3177746730880733,
         "distance_gspphot": 1336.1287,
         "ebpminrp_gspphot": 0.481,
         "flags_gspspec": "00000000000009999999900999999999999999999",
         "l": 326.5210003819226,
         "libname_gspphot": "MARCS",
         "logg_gspphot": 2.3905,
         "logg_gspspec": 2.29,
         "mg_gspphot": 0.7444,
         "mh_gspphot": -0.0992,
         "mh_gspspec": 0.12,
         "parallax": 0.6894818412268718,
         "parallax_error": 0.012920574,
         "phot_bp_mean_mag": 13.049249,
         "phot_g_mean_mag": 12.264544,
         "phot_rp_mean_mag": 11.398659,
         "source_id": 5835788604555909000,
         "teff_gspphot": 4724.9995,
         "teff_gspspec": 4727
        },
        {
         "_deepnote_index_column": 9,
         "ag_gspphot": 1.5009,
         "alphafe_gspspec": -0.02,
         "azero_gspphot": 2.0328,
         "b": -3.782156463241954,
         "distance_gspphot": 3629.3015,
         "ebpminrp_gspphot": 0.795,
         "flags_gspspec": "00000000000009999999999999999999999999999",
         "l": 326.7783242788996,
         "libname_gspphot": "MARCS",
         "logg_gspphot": 2.3533,
         "logg_gspspec": 2.31,
         "mg_gspphot": -0.8924,
         "mh_gspphot": 0.0855,
         "mh_gspspec": 0.21,
         "parallax": 0.2306114911064634,
         "parallax_error": 0.020627022,
         "phot_bp_mean_mag": 14.350945,
         "phot_g_mean_mag": 13.38673,
         "phot_rp_mean_mag": 12.418227,
         "source_id": 5835726928817318000,
         "teff_gspphot": 4813.0806,
         "teff_gspspec": 4499
        },
        {
         "_deepnote_index_column": 10,
         "ag_gspphot": 0.9342,
         "alphafe_gspspec": -0.22,
         "azero_gspphot": 1.2469,
         "b": -3.333395555030344,
         "distance_gspphot": 2471.623,
         "ebpminrp_gspphot": 0.4951,
         "flags_gspspec": "00000010000009999999999999999999999999999",
         "l": 326.1377585438732,
         "libname_gspphot": "MARCS",
         "logg_gspphot": 2.3494,
         "logg_gspspec": 2.6,
         "mg_gspphot": 0.2069,
         "mh_gspphot": -0.1865,
         "mh_gspspec": 0.39,
         "parallax": 0.3456675335704871,
         "parallax_error": 0.015069706,
         "phot_bp_mean_mag": 13.899298,
         "phot_g_mean_mag": 13.088141,
         "phot_rp_mean_mag": 12.205187,
         "source_id": 5835758608499943000,
         "teff_gspphot": 4648.5513,
         "teff_gspspec": 4909
        },
        {
         "_deepnote_index_column": 11,
         "ag_gspphot": 0.5187,
         "alphafe_gspspec": 0.19,
         "azero_gspphot": 0.627,
         "b": -3.317396320339376,
         "distance_gspphot": 275.0412,
         "ebpminrp_gspphot": 0.2807,
         "flags_gspspec": "00000020000009999999999999999999999999999",
         "l": 326.13125727769454,
         "libname_gspphot": "MARCS",
         "logg_gspphot": 4.2985,
         "logg_gspspec": 4.26,
         "mg_gspphot": 4.4713,
         "mh_gspphot": -0.3464,
         "mh_gspspec": -0.17,
         "parallax": 3.543814732844447,
         "parallax_error": 0.01293231,
         "phot_bp_mean_mag": 12.621537,
         "phot_g_mean_mag": 12.191709,
         "phot_rp_mean_mag": 11.58697,
         "source_id": 5835758642859708000,
         "teff_gspphot": 5830.235,
         "teff_gspspec": 5727
        },
        {
         "_deepnote_index_column": 12,
         "ag_gspphot": 1.8446,
         "alphafe_gspspec": "nan",
         "azero_gspphot": 2.8407,
         "b": -3.29193419831516,
         "distance_gspphot": 6222.448,
         "ebpminrp_gspphot": 1.0305,
         "flags_gspspec": "00001110000029999999999999999999999999999",
         "l": 326.4993968588984,
         "libname_gspphot": "MARCS",
         "logg_gspphot": 0.4488,
         "logg_gspspec": 1.5,
         "mg_gspphot": -2.4515,
         "mh_gspphot": -0.6118,
         "mh_gspspec": -0.35,
         "parallax": 0.1404115627850181,
         "parallax_error": 0.015823144,
         "phot_bp_mean_mag": 15.031399,
         "phot_g_mean_mag": 13.337022,
         "phot_rp_mean_mag": 12.098257,
         "source_id": 5835789016872808000,
         "teff_gspphot": 3724.4514,
         "teff_gspspec": 4250
        },
        {
         "_deepnote_index_column": 13,
         "ag_gspphot": 1.0048,
         "alphafe_gspspec": -0.1,
         "azero_gspphot": 1.3615,
         "b": -3.739756723811405,
         "distance_gspphot": 1607.5875,
         "ebpminrp_gspphot": 0.5299,
         "flags_gspspec": "00000000000009999999900999901999999999999",
         "l": 326.7204812044855,
         "libname_gspphot": "MARCS",
         "logg_gspphot": 2.1554,
         "logg_gspspec": 1.7,
         "mg_gspphot": -0.0726,
         "mh_gspphot": -0.0827,
         "mh_gspspec": -0.05,
         "parallax": 0.4845527070226984,
         "parallax_error": 0.01448453,
         "phot_bp_mean_mag": 12.8138485,
         "phot_g_mean_mag": 11.936648,
         "phot_rp_mean_mag": 11.01673,
         "source_id": 5835727444213430000,
         "teff_gspphot": 4513.935,
         "teff_gspspec": 4531
        },
        {
         "_deepnote_index_column": 14,
         "ag_gspphot": 1.0007,
         "alphafe_gspspec": -0.09,
         "azero_gspphot": 1.3358,
         "b": -3.2874987057772,
         "distance_gspphot": 1347.3624,
         "ebpminrp_gspphot": 0.5284,
         "flags_gspspec": "00000000000009999999900999999999999999999",
         "l": 326.52351613237283,
         "libname_gspphot": "MARCS",
         "logg_gspphot": 2.4143,
         "logg_gspspec": 2.26,
         "mg_gspphot": 0.7494,
         "mh_gspphot": -0.0386,
         "mh_gspspec": 0.07,
         "parallax": 0.7084340548736503,
         "parallax_error": 0.019635897,
         "phot_bp_mean_mag": 13.2039385,
         "phot_g_mean_mag": 12.382245,
         "phot_rp_mean_mag": 11.4933405,
         "source_id": 5835789429189685000,
         "teff_gspphot": 4699.5103,
         "teff_gspspec": 4740
        },
        {
         "_deepnote_index_column": 15,
         "ag_gspphot": 1.0064,
         "alphafe_gspspec": -0.16,
         "azero_gspphot": 1.3135,
         "b": -3.299509227815411,
         "distance_gspphot": 520.1985,
         "ebpminrp_gspphot": 0.5394,
         "flags_gspspec": "00000010000009999999999999999999999999999",
         "l": 326.54998722453826,
         "libname_gspphot": "MARCS",
         "logg_gspphot": 3.499,
         "logg_gspspec": 1.98,
         "mg_gspphot": 3.1427,
         "mh_gspphot": -0.1304,
         "mh_gspspec": -0.07,
         "parallax": 0.9439855740493732,
         "parallax_error": 0.2724087,
         "phot_bp_mean_mag": 13.465246,
         "phot_g_mean_mag": 12.729063,
         "phot_rp_mean_mag": 11.876629,
         "source_id": 5835789493505540000,
         "teff_gspphot": 4943.305,
         "teff_gspspec": 4785
        },
        {
         "_deepnote_index_column": 16,
         "ag_gspphot": 0.9085,
         "alphafe_gspspec": -0.14,
         "azero_gspphot": 1.1989,
         "b": -3.746432723947108,
         "distance_gspphot": 1257.7114,
         "ebpminrp_gspphot": 0.4823,
         "flags_gspspec": "00000000000009999999900999999999999999999",
         "l": 326.7463926910312,
         "libname_gspphot": "MARCS",
         "logg_gspphot": 2.4442,
         "logg_gspspec": 2.16,
         "mg_gspphot": 0.8449,
         "mh_gspphot": -0.1865,
         "mh_gspspec": 0.09,
         "parallax": 0.6880059788611665,
         "parallax_error": 0.012787661,
         "phot_bp_mean_mag": 13.003611,
         "phot_g_mean_mag": 12.23685,
         "phot_rp_mean_mag": 11.3812,
         "source_id": 5835727783409486000,
         "teff_gspphot": 4777.9897,
         "teff_gspspec": 4833
        },
        {
         "_deepnote_index_column": 17,
         "ag_gspphot": 1.195,
         "alphafe_gspspec": "nan",
         "azero_gspphot": 1.8108,
         "b": -3.509969404180288,
         "distance_gspphot": 6036.2896,
         "ebpminrp_gspphot": 0.6791,
         "flags_gspspec": "00000001000019999999900991200999999999900",
         "l": 326.2167880761629,
         "libname_gspphot": "MARCS",
         "logg_gspphot": 0.9573,
         "logg_gspspec": 1.5,
         "mg_gspphot": -3.1442,
         "mh_gspphot": 0.501,
         "mh_gspspec": -0.42,
         "parallax": 0.278790920899181,
         "parallax_error": 0.01795558,
         "phot_bp_mean_mag": 13.389473,
         "phot_g_mean_mag": 11.925469,
         "phot_rp_mean_mag": 10.750116,
         "source_id": 5835759291291414000,
         "teff_gspphot": 3794.9473,
         "teff_gspspec": 4250
        },
        {
         "_deepnote_index_column": 18,
         "ag_gspphot": 2.2958,
         "alphafe_gspspec": "nan",
         "azero_gspphot": 3.2307,
         "b": -3.7331807359354783,
         "distance_gspphot": 2965.669,
         "ebpminrp_gspphot": 1.2327,
         "flags_gspspec": "00000001000019999999900999999999999999999",
         "l": 326.74851793032747,
         "libname_gspphot": "MARCS",
         "logg_gspphot": 1.8688,
         "logg_gspspec": 1.5,
         "mg_gspphot": -2.2861,
         "mh_gspphot": -0.1,
         "mh_gspspec": -0.26,
         "parallax": 0.2310192835519864,
         "parallax_error": 0.014354154,
         "phot_bp_mean_mag": 13.656323,
         "phot_g_mean_mag": 12.358085,
         "phot_rp_mean_mag": 11.246421,
         "source_id": 5835727890890042000,
         "teff_gspphot": 4716.473,
         "teff_gspspec": 4250
        },
        {
         "_deepnote_index_column": 19,
         "ag_gspphot": 1.7653,
         "alphafe_gspspec": "nan",
         "azero_gspphot": 2.8468,
         "b": -3.7309538067350334,
         "distance_gspphot": 2994.9438,
         "ebpminrp_gspphot": 1.1009,
         "flags_gspspec": "00000010000019999999999999999999999999999",
         "l": 326.76368852427856,
         "libname_gspphot": "PHOENIX",
         "logg_gspphot": 0.9777,
         "logg_gspspec": 1.5,
         "mg_gspphot": -0.9494,
         "mh_gspphot": 0.0822,
         "mh_gspspec": -0.56,
         "parallax": 0.1100969294053752,
         "parallax_error": 0.022158578,
         "phot_bp_mean_mag": 15.164597,
         "phot_g_mean_mag": 13.116628,
         "phot_rp_mean_mag": 11.79382,
         "source_id": 5835727993969262000,
         "teff_gspphot": 3667.9312,
         "teff_gspspec": 4250
        },
        {
         "_deepnote_index_column": 20,
         "ag_gspphot": 1.0998,
         "alphafe_gspspec": -0.02,
         "azero_gspphot": 1.455,
         "b": -3.720413097534361,
         "distance_gspphot": 2151.594,
         "ebpminrp_gspphot": 0.5853,
         "flags_gspspec": "00000010000009999999999999999999999999999",
         "l": 326.7667094447779,
         "libname_gspphot": "MARCS",
         "logg_gspphot": 2.6317,
         "logg_gspspec": 2.83,
         "mg_gspphot": 0.2676,
         "mh_gspphot": -0.13,
         "mh_gspspec": 0.17,
         "parallax": 0.5176676355140588,
         "parallax_error": 0.047681354,
         "phot_bp_mean_mag": 13.822868,
         "phot_g_mean_mag": 13.018194,
         "phot_rp_mean_mag": 12.134058,
         "source_id": 5835727993969275000,
         "teff_gspphot": 4862.751,
         "teff_gspspec": 4786
        },
        {
         "_deepnote_index_column": 21,
         "ag_gspphot": 1.6786,
         "alphafe_gspspec": -0.04,
         "azero_gspphot": 2.3465,
         "b": -3.702541748371301,
         "distance_gspphot": 2694.9077,
         "ebpminrp_gspphot": 0.8857,
         "flags_gspspec": "00000000000009999999999999999999999999999",
         "l": 326.62650449746127,
         "libname_gspphot": "MARCS",
         "logg_gspphot": 2.2385,
         "logg_gspspec": 2.35,
         "mg_gspphot": -0.2651,
         "mh_gspphot": 0.2228,
         "mh_gspspec": 0.33,
         "parallax": 0.2573906910210323,
         "parallax_error": 0.016432406,
         "phot_bp_mean_mag": 14.648459,
         "phot_g_mean_mag": 13.514496,
         "phot_rp_mean_mag": 12.470848,
         "source_id": 5835728784243670000,
         "teff_gspphot": 4505.3643,
         "teff_gspspec": 4233
        }
       ]
      },
      "text/html": [
       "<div>\n",
       "<style scoped>\n",
       "    .dataframe tbody tr th:only-of-type {\n",
       "        vertical-align: middle;\n",
       "    }\n",
       "\n",
       "    .dataframe tbody tr th {\n",
       "        vertical-align: top;\n",
       "    }\n",
       "\n",
       "    .dataframe thead th {\n",
       "        text-align: right;\n",
       "    }\n",
       "</style>\n",
       "<table border=\"1\" class=\"dataframe\">\n",
       "  <thead>\n",
       "    <tr style=\"text-align: right;\">\n",
       "      <th></th>\n",
       "      <th>source_id</th>\n",
       "      <th>l</th>\n",
       "      <th>b</th>\n",
       "      <th>parallax</th>\n",
       "      <th>parallax_error</th>\n",
       "      <th>phot_g_mean_mag</th>\n",
       "      <th>phot_bp_mean_mag</th>\n",
       "      <th>phot_rp_mean_mag</th>\n",
       "      <th>teff_gspspec</th>\n",
       "      <th>logg_gspspec</th>\n",
       "      <th>...</th>\n",
       "      <th>flags_gspspec</th>\n",
       "      <th>teff_gspphot</th>\n",
       "      <th>logg_gspphot</th>\n",
       "      <th>mh_gspphot</th>\n",
       "      <th>azero_gspphot</th>\n",
       "      <th>ag_gspphot</th>\n",
       "      <th>ebpminrp_gspphot</th>\n",
       "      <th>distance_gspphot</th>\n",
       "      <th>mg_gspphot</th>\n",
       "      <th>libname_gspphot</th>\n",
       "    </tr>\n",
       "  </thead>\n",
       "  <tbody>\n",
       "    <tr>\n",
       "      <th>0</th>\n",
       "      <td>5835725554428191104</td>\n",
       "      <td>326.634742</td>\n",
       "      <td>-3.749551</td>\n",
       "      <td>0.257299</td>\n",
       "      <td>0.015013</td>\n",
       "      <td>13.404951</td>\n",
       "      <td>14.487535</td>\n",
       "      <td>12.375557</td>\n",
       "      <td>4084.0</td>\n",
       "      <td>1.59</td>\n",
       "      <td>...</td>\n",
       "      <td>00000010000009999999999999999999999999999</td>\n",
       "      <td>5050.8380</td>\n",
       "      <td>2.5722</td>\n",
       "      <td>0.1408</td>\n",
       "      <td>2.6248</td>\n",
       "      <td>1.9191</td>\n",
       "      <td>1.0212</td>\n",
       "      <td>2400.7478</td>\n",
       "      <td>-0.4675</td>\n",
       "      <td>PHOENIX</td>\n",
       "    </tr>\n",
       "    <tr>\n",
       "      <th>1</th>\n",
       "      <td>5835725726226852480</td>\n",
       "      <td>326.666979</td>\n",
       "      <td>-3.789468</td>\n",
       "      <td>0.142775</td>\n",
       "      <td>0.014150</td>\n",
       "      <td>13.131085</td>\n",
       "      <td>14.374775</td>\n",
       "      <td>12.040055</td>\n",
       "      <td>4250.0</td>\n",
       "      <td>1.50</td>\n",
       "      <td>...</td>\n",
       "      <td>00000021000019999999999999999999999999999</td>\n",
       "      <td>4733.8633</td>\n",
       "      <td>2.0063</td>\n",
       "      <td>-0.2319</td>\n",
       "      <td>2.9756</td>\n",
       "      <td>2.1236</td>\n",
       "      <td>1.1413</td>\n",
       "      <td>3397.3354</td>\n",
       "      <td>-1.7435</td>\n",
       "      <td>PHOENIX</td>\n",
       "    </tr>\n",
       "    <tr>\n",
       "      <th>2</th>\n",
       "      <td>4658109465327385344</td>\n",
       "      <td>279.531278</td>\n",
       "      <td>-32.834735</td>\n",
       "      <td>2.373126</td>\n",
       "      <td>0.011887</td>\n",
       "      <td>11.898599</td>\n",
       "      <td>12.252738</td>\n",
       "      <td>11.380256</td>\n",
       "      <td>5712.0</td>\n",
       "      <td>3.68</td>\n",
       "      <td>...</td>\n",
       "      <td>00000010000009999999999999999999999999999</td>\n",
       "      <td>5780.7140</td>\n",
       "      <td>4.1391</td>\n",
       "      <td>0.3988</td>\n",
       "      <td>0.1639</td>\n",
       "      <td>0.1366</td>\n",
       "      <td>0.0724</td>\n",
       "      <td>415.3741</td>\n",
       "      <td>3.6750</td>\n",
       "      <td>MARCS</td>\n",
       "    </tr>\n",
       "    <tr>\n",
       "      <th>3</th>\n",
       "      <td>5835757577707659264</td>\n",
       "      <td>326.136689</td>\n",
       "      <td>-3.388114</td>\n",
       "      <td>0.216811</td>\n",
       "      <td>0.014882</td>\n",
       "      <td>12.342805</td>\n",
       "      <td>13.683682</td>\n",
       "      <td>11.215082</td>\n",
       "      <td>4007.0</td>\n",
       "      <td>1.09</td>\n",
       "      <td>...</td>\n",
       "      <td>00000000000009999999900999999999999999999</td>\n",
       "      <td>4587.9050</td>\n",
       "      <td>1.6570</td>\n",
       "      <td>-0.0356</td>\n",
       "      <td>3.2706</td>\n",
       "      <td>2.3009</td>\n",
       "      <td>1.2300</td>\n",
       "      <td>3731.9200</td>\n",
       "      <td>-2.8015</td>\n",
       "      <td>MARCS</td>\n",
       "    </tr>\n",
       "    <tr>\n",
       "      <th>4</th>\n",
       "      <td>5835725966745103232</td>\n",
       "      <td>326.658240</td>\n",
       "      <td>-3.739197</td>\n",
       "      <td>5.125078</td>\n",
       "      <td>0.017014</td>\n",
       "      <td>10.918342</td>\n",
       "      <td>11.265015</td>\n",
       "      <td>10.396759</td>\n",
       "      <td>6226.0</td>\n",
       "      <td>4.18</td>\n",
       "      <td>...</td>\n",
       "      <td>00000010000009999999900999901999999999999</td>\n",
       "      <td>6366.3037</td>\n",
       "      <td>4.3500</td>\n",
       "      <td>-0.3107</td>\n",
       "      <td>0.5201</td>\n",
       "      <td>0.4413</td>\n",
       "      <td>0.2381</td>\n",
       "      <td>196.9772</td>\n",
       "      <td>3.9724</td>\n",
       "      <td>PHOENIX</td>\n",
       "    </tr>\n",
       "    <tr>\n",
       "      <th>...</th>\n",
       "      <td>...</td>\n",
       "      <td>...</td>\n",
       "      <td>...</td>\n",
       "      <td>...</td>\n",
       "      <td>...</td>\n",
       "      <td>...</td>\n",
       "      <td>...</td>\n",
       "      <td>...</td>\n",
       "      <td>...</td>\n",
       "      <td>...</td>\n",
       "      <td>...</td>\n",
       "      <td>...</td>\n",
       "      <td>...</td>\n",
       "      <td>...</td>\n",
       "      <td>...</td>\n",
       "      <td>...</td>\n",
       "      <td>...</td>\n",
       "      <td>...</td>\n",
       "      <td>...</td>\n",
       "      <td>...</td>\n",
       "      <td>...</td>\n",
       "    </tr>\n",
       "    <tr>\n",
       "      <th>95</th>\n",
       "      <td>5917366526100736512</td>\n",
       "      <td>333.830817</td>\n",
       "      <td>-9.355939</td>\n",
       "      <td>0.910155</td>\n",
       "      <td>0.028003</td>\n",
       "      <td>11.400710</td>\n",
       "      <td>12.084267</td>\n",
       "      <td>10.601941</td>\n",
       "      <td>4557.0</td>\n",
       "      <td>1.99</td>\n",
       "      <td>...</td>\n",
       "      <td>00000000000009920019900009900999999999999</td>\n",
       "      <td>4731.8990</td>\n",
       "      <td>2.5729</td>\n",
       "      <td>0.1413</td>\n",
       "      <td>0.7525</td>\n",
       "      <td>0.5741</td>\n",
       "      <td>0.3000</td>\n",
       "      <td>1199.6442</td>\n",
       "      <td>0.4573</td>\n",
       "      <td>MARCS</td>\n",
       "    </tr>\n",
       "    <tr>\n",
       "      <th>96</th>\n",
       "      <td>5917121777358655872</td>\n",
       "      <td>332.231401</td>\n",
       "      <td>-8.348733</td>\n",
       "      <td>1.731636</td>\n",
       "      <td>0.012611</td>\n",
       "      <td>12.278474</td>\n",
       "      <td>12.560555</td>\n",
       "      <td>11.835876</td>\n",
       "      <td>6715.0</td>\n",
       "      <td>4.10</td>\n",
       "      <td>...</td>\n",
       "      <td>00000030000009999999999999999999999999999</td>\n",
       "      <td>6656.4570</td>\n",
       "      <td>4.1712</td>\n",
       "      <td>-0.4661</td>\n",
       "      <td>0.4192</td>\n",
       "      <td>0.3638</td>\n",
       "      <td>0.1968</td>\n",
       "      <td>560.2202</td>\n",
       "      <td>3.1889</td>\n",
       "      <td>A</td>\n",
       "    </tr>\n",
       "    <tr>\n",
       "      <th>97</th>\n",
       "      <td>5917201015234969472</td>\n",
       "      <td>333.046934</td>\n",
       "      <td>-9.722948</td>\n",
       "      <td>4.737724</td>\n",
       "      <td>0.016760</td>\n",
       "      <td>9.868277</td>\n",
       "      <td>10.159750</td>\n",
       "      <td>9.405288</td>\n",
       "      <td>6439.0</td>\n",
       "      <td>4.14</td>\n",
       "      <td>...</td>\n",
       "      <td>00000000000001299000000999900029999999999</td>\n",
       "      <td>6275.1190</td>\n",
       "      <td>4.0375</td>\n",
       "      <td>-0.6100</td>\n",
       "      <td>0.2787</td>\n",
       "      <td>0.2393</td>\n",
       "      <td>0.1297</td>\n",
       "      <td>209.5456</td>\n",
       "      <td>3.0274</td>\n",
       "      <td>A</td>\n",
       "    </tr>\n",
       "    <tr>\n",
       "      <th>98</th>\n",
       "      <td>5917366869698143360</td>\n",
       "      <td>333.830908</td>\n",
       "      <td>-9.314400</td>\n",
       "      <td>0.408543</td>\n",
       "      <td>0.021761</td>\n",
       "      <td>11.831022</td>\n",
       "      <td>12.569979</td>\n",
       "      <td>10.996258</td>\n",
       "      <td>4389.0</td>\n",
       "      <td>1.52</td>\n",
       "      <td>...</td>\n",
       "      <td>00000000000000012999900009900999999999909</td>\n",
       "      <td>4277.1460</td>\n",
       "      <td>1.3717</td>\n",
       "      <td>-0.5854</td>\n",
       "      <td>0.4209</td>\n",
       "      <td>0.3133</td>\n",
       "      <td>0.1652</td>\n",
       "      <td>4001.2747</td>\n",
       "      <td>-1.4408</td>\n",
       "      <td>MARCS</td>\n",
       "    </tr>\n",
       "    <tr>\n",
       "      <th>99</th>\n",
       "      <td>5835818493124710016</td>\n",
       "      <td>326.654748</td>\n",
       "      <td>-2.900888</td>\n",
       "      <td>0.495842</td>\n",
       "      <td>0.021377</td>\n",
       "      <td>11.502803</td>\n",
       "      <td>12.663205</td>\n",
       "      <td>10.441858</td>\n",
       "      <td>4250.0</td>\n",
       "      <td>1.50</td>\n",
       "      <td>...</td>\n",
       "      <td>00100031000029999999999999999999999999999</td>\n",
       "      <td>4308.0540</td>\n",
       "      <td>1.3461</td>\n",
       "      <td>-0.4526</td>\n",
       "      <td>2.1938</td>\n",
       "      <td>1.5554</td>\n",
       "      <td>0.8308</td>\n",
       "      <td>1578.2548</td>\n",
       "      <td>-0.9802</td>\n",
       "      <td>MARCS</td>\n",
       "    </tr>\n",
       "  </tbody>\n",
       "</table>\n",
       "<p>100 rows × 22 columns</p>\n",
       "</div>"
      ],
      "text/plain": [
       "              source_id           l          b  parallax  parallax_error  \\\n",
       "0   5835725554428191104  326.634742  -3.749551  0.257299        0.015013   \n",
       "1   5835725726226852480  326.666979  -3.789468  0.142775        0.014150   \n",
       "2   4658109465327385344  279.531278 -32.834735  2.373126        0.011887   \n",
       "3   5835757577707659264  326.136689  -3.388114  0.216811        0.014882   \n",
       "4   5835725966745103232  326.658240  -3.739197  5.125078        0.017014   \n",
       "..                  ...         ...        ...       ...             ...   \n",
       "95  5917366526100736512  333.830817  -9.355939  0.910155        0.028003   \n",
       "96  5917121777358655872  332.231401  -8.348733  1.731636        0.012611   \n",
       "97  5917201015234969472  333.046934  -9.722948  4.737724        0.016760   \n",
       "98  5917366869698143360  333.830908  -9.314400  0.408543        0.021761   \n",
       "99  5835818493124710016  326.654748  -2.900888  0.495842        0.021377   \n",
       "\n",
       "    phot_g_mean_mag  phot_bp_mean_mag  phot_rp_mean_mag  teff_gspspec  \\\n",
       "0         13.404951         14.487535         12.375557        4084.0   \n",
       "1         13.131085         14.374775         12.040055        4250.0   \n",
       "2         11.898599         12.252738         11.380256        5712.0   \n",
       "3         12.342805         13.683682         11.215082        4007.0   \n",
       "4         10.918342         11.265015         10.396759        6226.0   \n",
       "..              ...               ...               ...           ...   \n",
       "95        11.400710         12.084267         10.601941        4557.0   \n",
       "96        12.278474         12.560555         11.835876        6715.0   \n",
       "97         9.868277         10.159750          9.405288        6439.0   \n",
       "98        11.831022         12.569979         10.996258        4389.0   \n",
       "99        11.502803         12.663205         10.441858        4250.0   \n",
       "\n",
       "    logg_gspspec  ...                              flags_gspspec  \\\n",
       "0           1.59  ...  00000010000009999999999999999999999999999   \n",
       "1           1.50  ...  00000021000019999999999999999999999999999   \n",
       "2           3.68  ...  00000010000009999999999999999999999999999   \n",
       "3           1.09  ...  00000000000009999999900999999999999999999   \n",
       "4           4.18  ...  00000010000009999999900999901999999999999   \n",
       "..           ...  ...                                        ...   \n",
       "95          1.99  ...  00000000000009920019900009900999999999999   \n",
       "96          4.10  ...  00000030000009999999999999999999999999999   \n",
       "97          4.14  ...  00000000000001299000000999900029999999999   \n",
       "98          1.52  ...  00000000000000012999900009900999999999909   \n",
       "99          1.50  ...  00100031000029999999999999999999999999999   \n",
       "\n",
       "    teff_gspphot logg_gspphot  mh_gspphot  azero_gspphot  ag_gspphot  \\\n",
       "0      5050.8380       2.5722      0.1408         2.6248      1.9191   \n",
       "1      4733.8633       2.0063     -0.2319         2.9756      2.1236   \n",
       "2      5780.7140       4.1391      0.3988         0.1639      0.1366   \n",
       "3      4587.9050       1.6570     -0.0356         3.2706      2.3009   \n",
       "4      6366.3037       4.3500     -0.3107         0.5201      0.4413   \n",
       "..           ...          ...         ...            ...         ...   \n",
       "95     4731.8990       2.5729      0.1413         0.7525      0.5741   \n",
       "96     6656.4570       4.1712     -0.4661         0.4192      0.3638   \n",
       "97     6275.1190       4.0375     -0.6100         0.2787      0.2393   \n",
       "98     4277.1460       1.3717     -0.5854         0.4209      0.3133   \n",
       "99     4308.0540       1.3461     -0.4526         2.1938      1.5554   \n",
       "\n",
       "    ebpminrp_gspphot  distance_gspphot  mg_gspphot  libname_gspphot  \n",
       "0             1.0212         2400.7478     -0.4675          PHOENIX  \n",
       "1             1.1413         3397.3354     -1.7435          PHOENIX  \n",
       "2             0.0724          415.3741      3.6750            MARCS  \n",
       "3             1.2300         3731.9200     -2.8015            MARCS  \n",
       "4             0.2381          196.9772      3.9724          PHOENIX  \n",
       "..               ...               ...         ...              ...  \n",
       "95            0.3000         1199.6442      0.4573            MARCS  \n",
       "96            0.1968          560.2202      3.1889                A  \n",
       "97            0.1297          209.5456      3.0274                A  \n",
       "98            0.1652         4001.2747     -1.4408            MARCS  \n",
       "99            0.8308         1578.2548     -0.9802            MARCS  \n",
       "\n",
       "[100 rows x 22 columns]"
      ]
     },
     "execution_count": 15,
     "metadata": {},
     "output_type": "execute_result"
    }
   ],
   "source": [
    "import pandas as pd\n",
    "import numpy as np\n",
    "data = pd.read_csv(source)\n",
    "data"
   ]
  },
  {
   "cell_type": "code",
   "execution_count": null,
   "metadata": {
    "cell_id": "00022-d2f9ad02-bcd7-474b-be6f-2fe94d090da2",
    "deepnote_cell_type": "code",
    "deepnote_to_be_reexecuted": true,
    "execution_millis": 0,
    "execution_start": 1634208921938,
    "source_hash": "21646487",
    "tags": []
   },
   "outputs": [
    {
     "data": {
      "text/plain": [
       "Calibration Models\n",
       "    teff\n",
       "    mh"
      ]
     },
     "execution_count": 16,
     "metadata": {},
     "output_type": "execute_result"
    }
   ],
   "source": [
    "from gdr3apcal import GaiaDR3_GSPPhot_cal\n",
    "# calib = GaiaDR3_GSPPhot_cal()     # reusing the previous object for memory\n",
    "calib"
   ]
  },
  {
   "cell_type": "code",
   "execution_count": null,
   "metadata": {
    "cell_id": "00022-2d0c34b6-6f70-4cad-926c-a91c401c9269",
    "deepnote_cell_type": "code",
    "deepnote_to_be_reexecuted": true,
    "execution_millis": 6,
    "execution_start": 1634208921939,
    "source_hash": "2d319782",
    "tags": []
   },
   "outputs": [
    {
     "name": "stdout",
     "output_type": "stream",
     "text": [
      " Teff raw RMS difference: 669.3194 K\n",
      "[M/H] raw RMS difference: 0.7394 dex\n"
     ]
    }
   ],
   "source": [
    "teff_raw_r = np.sqrt(np.mean((data['teff_gspphot'] - data['teff_gspspec']) ** 2))\n",
    "mh_raw_r = np.sqrt(np.mean((data['mh_gspphot'] - data['mh_gspspec']) ** 2))\n",
    "print(f' Teff raw RMS difference: {teff_raw_r:3.4f} K')\n",
    "print(f'[M/H] raw RMS difference: {mh_raw_r:3.4f} dex')"
   ]
  },
  {
   "cell_type": "code",
   "execution_count": null,
   "metadata": {
    "cell_id": "00023-66884b77-d387-4a2f-867d-330e69d21207",
    "deepnote_cell_type": "code",
    "deepnote_to_be_reexecuted": true,
    "execution_millis": 190,
    "execution_start": 1634208921940,
    "source_hash": "1aaade02",
    "tags": []
   },
   "outputs": [
    {
     "name": "stdout",
     "output_type": "stream",
     "text": [
      "Automatically adding \"cos(b)\" from \"b\" [assuming degrees].\n",
      " Teff calibrated RMS difference: 334.4451 K (previously 669.3194)\n",
      "[M/H] calibrated RMS difference: 0.5270 dex (previously 0.7394)\n"
     ]
    }
   ],
   "source": [
    "with warnings.catch_warnings():\n",
    "    # Catching the sklearn version warning\n",
    "    warnings.simplefilter('ignore')\n",
    "    cal_teff = calib.calibrateTeff(data)\n",
    "    cal_mh = calib.calibrateMetallicity(data)\n",
    "teff_cal_r = np.sqrt(np.mean((cal_teff - data['teff_gspspec']) ** 2))\n",
    "mh_cal_r = np.sqrt(np.mean((cal_mh - data['mh_gspspec']) ** 2))\n",
    "print(f' Teff calibrated RMS difference: {teff_cal_r:3.4f} K (previously {teff_raw_r:3.4f})')\n",
    "print(f'[M/H] calibrated RMS difference: {mh_cal_r:3.4f} dex (previously {mh_raw_r:3.4f})')"
   ]
  }
 ],
 "metadata": {
  "deepnote": {
   "is_reactive": false
  },
  "deepnote_execution_queue": [],
  "deepnote_notebook_id": "9645800a-694b-4ad8-bf54-775ed653624a",
  "language_info": {
   "name": "python"
  },
  "orig_nbformat": 2
 },
 "nbformat": 4,
 "nbformat_minor": 2
}
