{
 "cells": [
  {
   "attachments": {},
   "cell_type": "markdown",
   "metadata": {
    "cell_id": "00000-a53d1b8e-6f4b-4790-ad19-c4a90b5d2777",
    "deepnote_cell_type": "markdown",
    "tags": []
   },
   "source": [
    "# GDR3 Calibration Tool\n",
    "\n",
    "### Contributors: René Andrae, Morgan Fouesneau"
   ]
  },
  {
   "attachments": {},
   "cell_type": "markdown",
   "metadata": {
    "cell_id": "00001-4948e89c-662b-4d53-9196-7c8e08f4c09c",
    "deepnote_cell_type": "markdown",
    "tags": []
   },
   "source": [
    "## Requirements\n",
    "\n",
    "This package relies on input data and some astronomical tools\n",
    "\n",
    "* `pandas` is necessary for reading the input data. Most functions assume `pandas.DataFrame` as inputs.\n",
    "* `astropy` is used to compute Galactic coordinates when they are not provided. (some models use `cos(b)` as feature)\n",
    "* `scikit-learn` (optional) when calibration models are based upon `BaseEstimator` (e.g, Extratrees, SVM)\n",
    "* `joblib` (optional; requirement of scikit-learn) allows the package to load trained models from binary files\n",
    "* `numpy` for usual array operations\n",
    "* `git+https://github.com/scikit-learn-contrib/py-earth@v0.2dev` (optional) to support operations on MARS models (e.g., training, conversion)"
   ]
  },
  {
   "attachments": {},
   "cell_type": "markdown",
   "metadata": {
    "cell_id": "00001-d670091a-b0aa-4a10-9549-29cffb7f0344",
    "deepnote_cell_type": "markdown",
    "tags": []
   },
   "source": [
    "## Preliminary verfications\n",
    "\n",
    "In this section, we check the package installation and configuration."
   ]
  },
  {
   "cell_type": "code",
   "execution_count": 1,
   "metadata": {
    "cell_id": "00004-c5000143-18b4-430c-98e3-76a70c7a0194",
    "deepnote_cell_type": "code",
    "deepnote_to_be_reexecuted": false,
    "execution_millis": 13,
    "execution_start": 1636465756533,
    "source_hash": "371ed427",
    "tags": []
   },
   "outputs": [],
   "source": [
    "import sys\n",
    "\n",
    "# uncommented, this line allows us to work with the \n",
    "# trunk version without installing the package.\n",
    "sys.path.insert(0, '../src/')"
   ]
  },
  {
   "cell_type": "code",
   "execution_count": 2,
   "metadata": {
    "cell_id": "00001-ce6d4cfd-01ba-47c2-bffa-b916d4b2d09a",
    "deepnote_cell_type": "code",
    "deepnote_to_be_reexecuted": false,
    "execution_millis": 2808,
    "execution_start": 1636465758282,
    "source_hash": "770401ff",
    "tags": []
   },
   "outputs": [
    {
     "name": "stdout",
     "output_type": "stream",
     "text": [
      " \n",
      "Code version 1.6\n",
      "Package installed in: /home/codespace/.python/current/lib/python3.10/site-packages/gdr3apcal\n",
      "Model directory: /home/codespace/.python/current/lib/python3.10/site-packages/gdr3apcal/models\n",
      "\n"
     ]
    }
   ],
   "source": [
    "import gdr3apcal\n",
    "print(\"\"\" \n",
    "Code version {0}\n",
    "Package installed in: {1}\n",
    "Model directory: {2}\n",
    "\"\"\".format(gdr3apcal.__VERSION__, \n",
    "           gdr3apcal.config.__PACKAGE_DIR__, \n",
    "           gdr3apcal.config.modelsdir))"
   ]
  },
  {
   "attachments": {},
   "cell_type": "markdown",
   "metadata": {
    "cell_id": "00005-90830f9b-3a78-42c0-8123-d866b181b736",
    "deepnote_cell_type": "markdown",
    "tags": []
   },
   "source": [
    "## Converting a pyearth.Earth model to functions\n",
    "In this section, we convert an `pyearth.Earth` model into python functions.\n",
    "\n",
    "`py-Earth` is a Python implementation of _Jerome Friedman_'s Multivariate Adaptive Regression Splines (MARS) algorithm.\n",
    "The main issue with this package is that it is often a pain to install. For instance, it is not compatible with `python 3.9` at the moment.\n",
    "Therefore, we replace trained models by their functional forms.\n",
    "\n",
    "We could eventually compile the resulting functions to gain some speed.\n",
    "\n",
    "**references** \n",
    "\n",
    "[_friedman91]: Friedman, J. (1991). _Multivariate adaptive regression splines_. The annals of statistics, 19(1), 1–67. http://www.jstor.org/stable/10.2307/2241837"
   ]
  },
  {
   "cell_type": "code",
   "execution_count": 6,
   "metadata": {
    "cell_id": "00008-b673d52e-c255-4459-8735-95d2ef01b9ef",
    "deepnote_cell_type": "code",
    "deepnote_to_be_reexecuted": false,
    "execution_millis": 370,
    "execution_start": 1636465360653,
    "source_hash": "1200ea33",
    "tags": []
   },
   "outputs": [],
   "source": [
    "from glob import glob\n",
    "try: \n",
    "    from gdr3apcal.mars_converter import convert_pyearth_models_from_dumps\n",
    "\n",
    "    # converting files from the package model directory\n",
    "    # This is not necessarily the place you have the models\n",
    "    #\n",
    "    # Note: you can directly convert models from the `pyearth.Earth` objects\n",
    "    #       with `mars_converter.dump_pyearth_models`\n",
    "    flist = glob(gdr3apcal.config.modelsdir + '/mars*joblib')\n",
    "\n",
    "    # final source code exported into the following file\n",
    "    output_python_file = 'mars_mh.py'\n",
    "\n",
    "    # necessary description that is not stored with the model\n",
    "    modelname = 'mh'\n",
    "    features = ['teff_gspphot', 'logg_gspphot', 'mh_gspphot',\n",
    "                'azero_gspphot', 'ebpminrp_gspphot', 'ag_gspphot',\n",
    "                'mg_gspphot', 'cosb', 'libname_gspphot']\n",
    "    label = 'mh_gspphot'\n",
    "    groupby = 'libname_gspphot'    # multilib model applies on those groups.\n",
    "    version = '0.7'                # to keep track\n",
    "\n",
    "    # The following calls the conversion and prints the configuration of this model\n",
    "    # One can copy-paste the output to the `configuration.yaml` and the source file\n",
    "    # to the `modeldir`.\n",
    "    if flist:  # run only if some models were found.\n",
    "        fname, md5sum = convert_pyearth_models_from_dumps(flist, output_python_file)\n",
    "\n",
    "        models = __import__(fname.replace('.py', '')).models\n",
    "        models, md5sum\n",
    "\n",
    "        config_ = {modelname: {'features': features,\n",
    "                            'label': label,\n",
    "                            'filename': fname, \n",
    "                            'md5sum': md5sum,\n",
    "                            'groupby': groupby,\n",
    "                            'callable': True,    # def model as functions\n",
    "                            'version': version}}\n",
    "        import yaml\n",
    "        print(f'model {modelname:s} configuration \\n')\n",
    "        print(yaml.dump(config_))\n",
    "except ImportError:\n",
    "    # No pyearth\n",
    "    pass"
   ]
  },
  {
   "attachments": {},
   "cell_type": "markdown",
   "metadata": {
    "cell_id": "00007-c6f789c9-5224-4e61-90e6-9292c387da04",
    "deepnote_cell_type": "markdown",
    "tags": []
   },
   "source": [
    "## Using fake data\n",
    "\n",
    "In this section, we check that the code runs on fake data. The results are meaningless but this provides an operational test\n"
   ]
  },
  {
   "cell_type": "code",
   "execution_count": 7,
   "metadata": {
    "cell_id": "00011-453da0f6-088e-4bbc-8144-b64d0f80ae06",
    "deepnote_cell_type": "code",
    "deepnote_to_be_reexecuted": false,
    "execution_millis": 409,
    "execution_start": 1636465762882,
    "source_hash": "6a305806",
    "tags": []
   },
   "outputs": [
    {
     "data": {
      "text/html": [
       "<div>\n",
       "<style scoped>\n",
       "    .dataframe tbody tr th:only-of-type {\n",
       "        vertical-align: middle;\n",
       "    }\n",
       "\n",
       "    .dataframe tbody tr th {\n",
       "        vertical-align: top;\n",
       "    }\n",
       "\n",
       "    .dataframe thead th {\n",
       "        text-align: right;\n",
       "    }\n",
       "</style>\n",
       "<table border=\"1\" class=\"dataframe\">\n",
       "  <thead>\n",
       "    <tr style=\"text-align: right;\">\n",
       "      <th></th>\n",
       "      <th>teff_gspphot</th>\n",
       "      <th>logg_gspphot</th>\n",
       "      <th>mh_gspphot</th>\n",
       "      <th>azero_gspphot</th>\n",
       "      <th>ebpminrp_gspphot</th>\n",
       "      <th>ag_gspphot</th>\n",
       "      <th>mg_gspphot</th>\n",
       "      <th>cosb</th>\n",
       "      <th>libname_gspphot</th>\n",
       "    </tr>\n",
       "  </thead>\n",
       "  <tbody>\n",
       "    <tr>\n",
       "      <th>0</th>\n",
       "      <td>0.417022</td>\n",
       "      <td>0.720324</td>\n",
       "      <td>0.000114</td>\n",
       "      <td>0.302333</td>\n",
       "      <td>0.146756</td>\n",
       "      <td>0.092339</td>\n",
       "      <td>0.186260</td>\n",
       "      <td>0.345561</td>\n",
       "      <td>MARCS</td>\n",
       "    </tr>\n",
       "    <tr>\n",
       "      <th>1</th>\n",
       "      <td>0.396767</td>\n",
       "      <td>0.538817</td>\n",
       "      <td>0.419195</td>\n",
       "      <td>0.685220</td>\n",
       "      <td>0.204452</td>\n",
       "      <td>0.878117</td>\n",
       "      <td>0.027388</td>\n",
       "      <td>0.670468</td>\n",
       "      <td>PHOENIX</td>\n",
       "    </tr>\n",
       "    <tr>\n",
       "      <th>2</th>\n",
       "      <td>0.417305</td>\n",
       "      <td>0.558690</td>\n",
       "      <td>0.140387</td>\n",
       "      <td>0.198101</td>\n",
       "      <td>0.800745</td>\n",
       "      <td>0.968262</td>\n",
       "      <td>0.313424</td>\n",
       "      <td>0.692323</td>\n",
       "      <td>PHOENIX</td>\n",
       "    </tr>\n",
       "    <tr>\n",
       "      <th>3</th>\n",
       "      <td>0.876389</td>\n",
       "      <td>0.894607</td>\n",
       "      <td>0.085044</td>\n",
       "      <td>0.039055</td>\n",
       "      <td>0.169830</td>\n",
       "      <td>0.878143</td>\n",
       "      <td>0.098347</td>\n",
       "      <td>0.421108</td>\n",
       "      <td>MARCS</td>\n",
       "    </tr>\n",
       "    <tr>\n",
       "      <th>4</th>\n",
       "      <td>0.957890</td>\n",
       "      <td>0.533165</td>\n",
       "      <td>0.691877</td>\n",
       "      <td>0.315516</td>\n",
       "      <td>0.686501</td>\n",
       "      <td>0.834626</td>\n",
       "      <td>0.018288</td>\n",
       "      <td>0.750144</td>\n",
       "      <td>MARCS</td>\n",
       "    </tr>\n",
       "    <tr>\n",
       "      <th>...</th>\n",
       "      <td>...</td>\n",
       "      <td>...</td>\n",
       "      <td>...</td>\n",
       "      <td>...</td>\n",
       "      <td>...</td>\n",
       "      <td>...</td>\n",
       "      <td>...</td>\n",
       "      <td>...</td>\n",
       "      <td>...</td>\n",
       "    </tr>\n",
       "    <tr>\n",
       "      <th>995</th>\n",
       "      <td>0.046043</td>\n",
       "      <td>0.791776</td>\n",
       "      <td>0.439389</td>\n",
       "      <td>0.704620</td>\n",
       "      <td>0.609383</td>\n",
       "      <td>0.914160</td>\n",
       "      <td>0.679539</td>\n",
       "      <td>0.204578</td>\n",
       "      <td>PHOENIX</td>\n",
       "    </tr>\n",
       "    <tr>\n",
       "      <th>996</th>\n",
       "      <td>0.989694</td>\n",
       "      <td>0.808360</td>\n",
       "      <td>0.051150</td>\n",
       "      <td>0.990246</td>\n",
       "      <td>0.084374</td>\n",
       "      <td>0.415975</td>\n",
       "      <td>0.888049</td>\n",
       "      <td>0.762113</td>\n",
       "      <td>PHOENIX</td>\n",
       "    </tr>\n",
       "    <tr>\n",
       "      <th>997</th>\n",
       "      <td>0.673047</td>\n",
       "      <td>0.533691</td>\n",
       "      <td>0.346976</td>\n",
       "      <td>0.899944</td>\n",
       "      <td>0.818957</td>\n",
       "      <td>0.945892</td>\n",
       "      <td>0.399558</td>\n",
       "      <td>0.233622</td>\n",
       "      <td>PHOENIX</td>\n",
       "    </tr>\n",
       "    <tr>\n",
       "      <th>998</th>\n",
       "      <td>0.723220</td>\n",
       "      <td>0.689099</td>\n",
       "      <td>0.543365</td>\n",
       "      <td>0.537107</td>\n",
       "      <td>0.809690</td>\n",
       "      <td>0.799585</td>\n",
       "      <td>0.847775</td>\n",
       "      <td>0.190362</td>\n",
       "      <td>PHOENIX</td>\n",
       "    </tr>\n",
       "    <tr>\n",
       "      <th>999</th>\n",
       "      <td>0.200274</td>\n",
       "      <td>0.773663</td>\n",
       "      <td>0.565534</td>\n",
       "      <td>0.268903</td>\n",
       "      <td>0.479355</td>\n",
       "      <td>0.674659</td>\n",
       "      <td>0.684231</td>\n",
       "      <td>0.821391</td>\n",
       "      <td>MARCS</td>\n",
       "    </tr>\n",
       "  </tbody>\n",
       "</table>\n",
       "<p>1000 rows × 9 columns</p>\n",
       "</div>"
      ],
      "text/plain": [
       "     teff_gspphot  logg_gspphot  mh_gspphot  azero_gspphot  ebpminrp_gspphot   \n",
       "0        0.417022      0.720324    0.000114       0.302333          0.146756  \\\n",
       "1        0.396767      0.538817    0.419195       0.685220          0.204452   \n",
       "2        0.417305      0.558690    0.140387       0.198101          0.800745   \n",
       "3        0.876389      0.894607    0.085044       0.039055          0.169830   \n",
       "4        0.957890      0.533165    0.691877       0.315516          0.686501   \n",
       "..            ...           ...         ...            ...               ...   \n",
       "995      0.046043      0.791776    0.439389       0.704620          0.609383   \n",
       "996      0.989694      0.808360    0.051150       0.990246          0.084374   \n",
       "997      0.673047      0.533691    0.346976       0.899944          0.818957   \n",
       "998      0.723220      0.689099    0.543365       0.537107          0.809690   \n",
       "999      0.200274      0.773663    0.565534       0.268903          0.479355   \n",
       "\n",
       "     ag_gspphot  mg_gspphot      cosb libname_gspphot  \n",
       "0      0.092339    0.186260  0.345561           MARCS  \n",
       "1      0.878117    0.027388  0.670468         PHOENIX  \n",
       "2      0.968262    0.313424  0.692323         PHOENIX  \n",
       "3      0.878143    0.098347  0.421108           MARCS  \n",
       "4      0.834626    0.018288  0.750144           MARCS  \n",
       "..          ...         ...       ...             ...  \n",
       "995    0.914160    0.679539  0.204578         PHOENIX  \n",
       "996    0.415975    0.888049  0.762113         PHOENIX  \n",
       "997    0.945892    0.399558  0.233622         PHOENIX  \n",
       "998    0.799585    0.847775  0.190362         PHOENIX  \n",
       "999    0.674659    0.684231  0.821391           MARCS  \n",
       "\n",
       "[1000 rows x 9 columns]"
      ]
     },
     "execution_count": 7,
     "metadata": {},
     "output_type": "execute_result"
    }
   ],
   "source": [
    "import numpy as np\n",
    "import pandas as pd\n",
    "\n",
    "np.random.seed(1)\n",
    "\n",
    "def generate_random_data(n_rows: int = 2) -> pd.DataFrame:\n",
    "    \"\"\" Convenient data generator for tests \"\"\"\n",
    "    # Create pandas data frame with random data.\n",
    "    columns = ['teff_gspphot', 'logg_gspphot', 'mh_gspphot', 'azero_gspphot', \n",
    "               'ebpminrp_gspphot', 'ag_gspphot', 'mg_gspphot', 'cosb']\n",
    "    table = np.random.uniform(0.0, 1.0, [n_rows, len(columns)])\n",
    "    lib = np.random.choice(['OB', 'A', 'MARCS', 'PHOENIX'], n_rows, p=[0.02, 0.08, 0.45, 0.45])\n",
    "    df = pd.DataFrame(table, columns=columns)\n",
    "    df['libname_gspphot'] = lib\n",
    "    return df\n",
    "\n",
    "df = generate_random_data(1000)\n",
    "df"
   ]
  },
  {
   "attachments": {},
   "cell_type": "markdown",
   "metadata": {
    "cell_id": "00013-52bee976-2cdc-44c2-98ec-f0e2d41d910a",
    "deepnote_cell_type": "markdown",
    "tags": []
   },
   "source": [
    "Checking code calls on random data. Results are obviously meaninless here."
   ]
  },
  {
   "cell_type": "code",
   "execution_count": 8,
   "metadata": {
    "cell_id": "00003-23175a06-2dc2-4f86-bb70-537aa2caa818",
    "deepnote_cell_type": "code",
    "deepnote_to_be_reexecuted": false,
    "execution_millis": 1389,
    "execution_start": 1636465766954,
    "source_hash": "b5775402",
    "tags": []
   },
   "outputs": [
    {
     "data": {
      "text/plain": [
       "array([ -1.28753895,  -2.56961509,  -1.9815238 ,  -1.38497429,\n",
       "        -2.11562404,  -3.86842766,          nan,  -5.972796  ,\n",
       "        -1.59919205,  -0.95615446,  -1.1002689 ,  -3.08465728,\n",
       "        -1.90344842,  -3.53318025,  -2.90827163,          nan,\n",
       "        -8.7247589 ,  -4.7952413 ,  -0.43884928,  -1.07192129,\n",
       "        -8.6614904 ,          nan,  -3.0767518 ,          nan,\n",
       "                nan,  -2.72556544,  -5.48379592,  -1.65871099,\n",
       "        -2.02180436,  -0.91815539,  -4.35305061,   0.042021  ,\n",
       "        -1.47004977,  -3.14327755,  -6.85925004,  -1.70112828,\n",
       "        -5.2289546 ,          nan,          nan,  -0.86644472,\n",
       "                nan,  -2.19807296,  -0.69665872,  -1.76228086,\n",
       "        -1.6393071 ,  -1.38838348,  -1.78356939,  -3.62308021,\n",
       "        -4.6827955 ,  -3.80779127,  -3.00403125,  -2.82581413,\n",
       "       -10.42330192,  -2.64961102, -10.82709814,   0.74919672,\n",
       "        -1.59307375,  -1.56655713,  -3.76224393,  -3.46104206,\n",
       "        -4.31788344,  -3.23467057,  -2.17726963,          nan,\n",
       "        -2.59173333,  -5.1090337 ,          nan,  -2.55135473,\n",
       "        -1.33916963,  -3.10176773,  -1.51140934,          nan,\n",
       "        -8.07626752,  -1.79888066,  -3.84386316,  -1.11758233,\n",
       "        -0.69159254,  -3.2772615 ,  -3.97044199,          nan,\n",
       "        -4.17880313,          nan,  -4.30189421,          nan,\n",
       "        -1.23864686,  -2.18997673,          nan,  -1.80774183,\n",
       "        -4.85639111,          nan,  -4.32569969,  -6.12344826,\n",
       "        -1.24759298,  -3.06512194,  -2.48890332,          nan,\n",
       "        -3.58077762,          nan,  -4.13263989,  -0.96805157,\n",
       "        -2.84745878,  -2.74185849,  -3.87507822,  -1.99237974,\n",
       "        -5.18374202,  -2.92460158,  -2.07020067,  -2.95567364,\n",
       "        -1.73641176,  -8.73622709,  -6.52376066,  -2.3548676 ,\n",
       "         0.83933494, -12.96534235,  -3.00664011,  -3.17173403,\n",
       "        -0.08667581,  -5.94184096,  -3.64772326,  -2.58170887,\n",
       "        -1.56730335,  -3.31969823,  -4.34767225,  -2.17255118,\n",
       "        -1.49118358,  -3.73291582,  -5.48749777,  -0.07115459,\n",
       "        -3.35572441,  -1.71634034,  -1.02730151,          nan,\n",
       "        -0.9122239 ,  -0.4637062 ,  -1.76947272,  -2.65263358,\n",
       "        -2.02082075,  -4.59846568,  -3.83557957,  -0.94236146,\n",
       "        -2.78622506,          nan,  -1.59989032,  -1.79934316,\n",
       "                nan,  -0.86626967,  -4.45428909,  -3.92653068,\n",
       "        -5.30489022,  -1.59688365,  -3.92277498,  -5.17493496,\n",
       "        -2.02441724,  -2.40362404,  -3.10823135,  -0.89885486,\n",
       "        -0.69595549,  -1.58211697,  -1.23767739,  -5.50741039,\n",
       "        -4.17608081,  -2.75616884,  -1.14694511,  -4.96687073,\n",
       "        -2.13050481, -10.8527923 ,  -1.27918606,  -3.57739215,\n",
       "        -1.85266042,  -1.07447944,  -0.38379124,          nan,\n",
       "        -1.25921413,  -3.13323682,  -0.40854663,  -2.83441325,\n",
       "        -0.22975391,  -0.76301409,  -1.77615022,  -7.66484596,\n",
       "        -3.68540162,  -1.41197228,  -3.76300693,  -2.62457618,\n",
       "        -3.2659868 ,  -1.23942905,  -7.27570256,  -1.60760266,\n",
       "        -1.54880147,          nan,  -5.57293701,  -3.11181001,\n",
       "        -3.21021701,          nan,  -2.53150441,  -1.30396881,\n",
       "        -1.76351189,  -2.80971065,  -3.8189216 ,  -0.85647215,\n",
       "        -0.18031808,  -4.33488597,  -1.9166312 ,  -2.35061813,\n",
       "        -1.1675169 ,          nan,  -3.17405064,  -3.42930252,\n",
       "        -0.97519043,  -3.78128046,  -2.98211334,  -1.21440133,\n",
       "        -1.05125876,  -2.68450374,  -2.68588153, -10.48861507,\n",
       "        -3.79375609,  -3.71430369,  -3.01432978,  -4.95741517,\n",
       "        -3.49972904,  -7.03952697,  -1.22942249,  -2.85683647,\n",
       "        -3.20575624,  -2.95278379,  -7.20605273,  -2.62399063,\n",
       "        -2.44900985,  -6.39955868,  -1.64612544,  -3.25394534,\n",
       "        -1.55588339,  -5.23414622,  -2.22803235,  -3.16144329,\n",
       "        -1.48947575,  -1.33166572,          nan,  -1.21071446,\n",
       "        -3.98290539,          nan,  -3.5881875 ,  -0.89474034,\n",
       "        -2.24790748,  -2.78140584,  -1.28525399,  -5.05729136,\n",
       "        -2.26647457,  -1.32602052,  -5.17896458,  -8.83081853,\n",
       "        -0.77349   ,          nan,  -1.19452955,  -1.86184667,\n",
       "        -9.63107663,  -1.03657055,          nan,  -1.40839097,\n",
       "        -0.44300879,  -2.84937304,  -0.78568289,  -3.3244223 ,\n",
       "        -1.87989063,  -3.80091592,  -1.37482476,  -1.98860609,\n",
       "        -1.21328365,          nan,  -5.58272856,  -4.07784331,\n",
       "         3.09280283,  -6.08424683,  -0.91399468,  -7.77928627,\n",
       "        -3.91459816,  -6.27356753,  -2.93780041,  -3.09851153,\n",
       "         0.51887359,  -8.03813354,  -1.75889699,  -6.85214542,\n",
       "         2.31571214,  -2.32076255,  -7.78357555,  -1.93000934,\n",
       "        -3.0799836 ,  -1.25620595,  -3.84511926,  -1.57750401,\n",
       "        -3.45997957,  -4.31210056,  -3.18789816,  -2.88354814,\n",
       "        -3.56823602,          nan,  -4.26385077,  -2.69748306,\n",
       "        -0.16459599,          nan,          nan,  -1.53856786,\n",
       "        -1.19973693,  -3.47586604,  -5.68685054,          nan,\n",
       "        -0.92386817,  -7.42798408,  -3.3800831 ,  -6.88196428,\n",
       "        -0.96683884,  -3.36484907,  -1.67471528,  -3.49495793,\n",
       "        -0.6845437 ,  -1.13129902,  -3.32885784,  -3.92844552,\n",
       "                nan,  -1.48354944,  -2.5543698 ,  -1.49706382,\n",
       "        -4.95536397,  -2.42459982,  -2.52340337,  -2.78502822,\n",
       "        -3.4745244 ,          nan,  -2.74302718,          nan,\n",
       "        -1.88935084,  -5.63642847,  -3.43388435,   0.46304186,\n",
       "        -0.66984605,  -3.2199762 ,  -9.39524509,  -3.48600756,\n",
       "        -4.5291259 ,  -1.69559924,  -9.04563426,  -1.04164377,\n",
       "        -1.76140071,  -2.60742661,  -3.0230519 ,  -1.64052591,\n",
       "        -1.52986296,          nan,  -5.07266003,  -5.18725461,\n",
       "        -1.82861683,  -2.13238107,  -3.61175191,   1.3649915 ,\n",
       "        -7.87318282,          nan,  -6.7296972 ,  -1.706366  ,\n",
       "        -0.67214358,  -1.13998914,  -4.17994626,          nan,\n",
       "        -1.8453778 ,  -2.84770578,  -0.69400486,  -3.13582161,\n",
       "        -2.85945277,  -3.29350068,  -4.52093466,  -0.65715202,\n",
       "        -4.14654381,  -5.26610268,  -2.44416413,  -0.89987247,\n",
       "        -2.84552619,          nan,  -1.4855882 ,  -5.18886963,\n",
       "        -3.02620824,  -1.88964508,  -1.50507274,          nan,\n",
       "        -4.87348122,  -2.03161001,  -2.6112924 ,  -2.65191537,\n",
       "        -3.92934339,  -4.25428276,  -3.73634838,  -1.68902507,\n",
       "        -1.79680805,  -6.30658908,  -4.20015969,  -2.85057011,\n",
       "        -6.53369396,  -8.52473585,          nan,  -0.51980388,\n",
       "        -0.85685055,  -5.1907137 ,  -3.77988428,  -4.78193099,\n",
       "                nan,  -2.74030724,  -3.49959453,          nan,\n",
       "        -8.03131496,  -0.04806533,  -2.89528516,  -6.9428511 ,\n",
       "        -1.04343505,  -1.77706024,  -2.93999569,  -1.12927791,\n",
       "        -6.09482372,  -1.09002747,   0.41234267,  -7.4432024 ,\n",
       "                nan,  -4.66635043,  -4.6406942 ,  -3.51439341,\n",
       "        -1.96410124,  -3.92675523,  -0.37136112,  -2.05636453,\n",
       "        -2.9117153 ,  -0.68712442,  -0.68781582,  -0.59847913,\n",
       "                nan,  -2.60671671,  -2.87734792,  -3.42298836,\n",
       "        -3.0149027 ,  -3.0312243 ,          nan,  -2.54585573,\n",
       "        -0.46031075,  -1.68818018,  -9.21774142,  -1.68948882,\n",
       "        -3.30531368,  -3.30542471,          nan,  -1.58051553,\n",
       "        -2.86687144,  -6.65546649,  -1.44833627,  -9.3922395 ,\n",
       "        -1.8391448 ,  -3.03197933,          nan,  -6.12178845,\n",
       "                nan,  -3.11787789,  -1.02760759,  -8.39422709,\n",
       "        -3.07620902,  -0.42023673,  -2.09812459,  -2.72694808,\n",
       "        -2.62608817,          nan,  -3.80208796,  -1.95859586,\n",
       "        -4.21158473,  -3.00085015,  -3.41999169,  -1.13594466,\n",
       "        -3.11722079,  -6.83352424,  -1.55814551,  -2.25108168,\n",
       "                nan,  -3.34144028,   2.1994221 ,          nan,\n",
       "        -3.28776542,  -3.34892708,  -2.17761469,  -2.61288819,\n",
       "        -0.41406045,  -2.60287808,  -2.73103672,  -3.67933307,\n",
       "        -2.18694206,  -0.45304598, -10.13095051,          nan,\n",
       "        -3.67937155,  -0.34369221,  -1.27386807,  -0.86424843,\n",
       "        -5.33583969,  -3.19447114,  -4.06760484,  -2.12176401,\n",
       "        -1.08396265,  -3.75112481, -10.61200406,  -5.38578956,\n",
       "        -2.58115024,  -0.80285165,  -3.26970772,  -1.77141793,\n",
       "        -9.87559964,  -4.71701247,  -1.34175099,  -5.57478702,\n",
       "        -2.57455573,  -2.72145005,  -6.26127746,          nan,\n",
       "        -4.10360838,  -0.64647619,  -5.19990194,  -1.39122938,\n",
       "        -1.2172655 ,  -1.02088872,  -1.98196772,          nan,\n",
       "                nan,  -2.4791303 ,  -0.67469708,  -9.76311867,\n",
       "        -1.87477787,  -3.38117542,  -7.6464801 ,  -1.09713567,\n",
       "        -3.4426853 ,  -5.70705155,  -4.74511591,          nan,\n",
       "                nan,  -4.86706931,  -2.62454494,   0.31727658,\n",
       "        -3.10770574,  -5.08019334,  -1.64758973,          nan,\n",
       "        -3.43490181,  -8.21069356,  -1.86238663,  -3.50438734,\n",
       "        -1.04986707,  -4.16846786,  -1.71196792,          nan,\n",
       "        -1.1101986 ,  -2.46950555,  -2.75676802,  -0.68800244,\n",
       "        -1.3652643 ,  -3.27624289,  -2.1630539 ,  -3.02401704,\n",
       "        -6.96436268,  -5.80527235,  -2.53164002,  -0.15416734,\n",
       "        -3.98683192,  -3.05443038,  -7.11731046,          nan,\n",
       "        -2.01508039,          nan,  -1.55472092,  -2.15909648,\n",
       "        -1.38394638,  -1.51107116,  -0.57341887,  -3.68455171,\n",
       "        -1.79777538,  -4.28346352,  -3.52480297,          nan,\n",
       "        -2.19043256,  -3.75589719,   2.72956528,  -0.82380873,\n",
       "        -0.760152  ,   0.56621886,  -2.20026488,  -4.59816362,\n",
       "        -3.99052257,  -2.33783475,  -2.75052813,  -5.89364992,\n",
       "        -3.21718342,  -7.4571425 ,  -1.5956455 ,  -3.43830881,\n",
       "        -5.26352532,  -1.13120181,  -0.80758672,          nan,\n",
       "        -2.12941045,  -2.71320202,          nan,  -3.0442857 ,\n",
       "        -0.78163885,  -0.93553514,          nan,  -9.79038187,\n",
       "        -4.26736433,  -0.61830807,          nan,  -0.75673401,\n",
       "        -2.2753607 ,  -0.74355672,  -3.79701103,   1.92494826,\n",
       "        -2.61749281,  -2.72303713,  -2.65649286,  -2.40705094,\n",
       "        -0.20421649,  -0.90585664,  -1.29519941,  -1.94619301,\n",
       "                nan,  -0.87818507,  -6.93669334,  -1.05745518,\n",
       "        -2.5391317 ,  -2.88419604,          nan,  -2.08901768,\n",
       "        -3.39561789,          nan,          nan,  -2.76531481,\n",
       "                nan,  -2.86163796,  -1.51007611,  -2.58923652,\n",
       "        -1.04380075,  -1.45232201,          nan,  -1.11254338,\n",
       "        -0.62029335,  -0.3882131 ,  -3.67914614,  -2.0874221 ,\n",
       "        -2.39903977,  -0.65984604,  -3.15689333,  -2.6635994 ,\n",
       "        -2.48463626,          nan,          nan,  -0.37828628,\n",
       "        -4.12748246,  -1.93014671,  -7.23315304,          nan,\n",
       "        -0.74220612,  -2.79371081,  -2.36881822,          nan,\n",
       "        -4.7059712 ,  -3.73893566,  -1.9572586 ,  -6.10301598,\n",
       "        -1.39788534,  -0.5871272 ,  -8.76587341,  -5.82324986,\n",
       "        -5.00697392,  -3.25238886,          nan,  -3.77762336,\n",
       "        -1.5567142 ,          nan,          nan,  -3.46642715,\n",
       "        -4.67595028,  -2.5723269 ,  -6.11657534,  -1.74928188,\n",
       "        -3.58599708,  -4.80229309,  -3.88015871,  -3.5405084 ,\n",
       "        -3.43079525,          nan,  -0.54008638,  -3.54137493,\n",
       "                nan,  -3.52350739,  -3.45608254,  -3.02799867,\n",
       "        -1.91100965,  -3.27702555,  -2.03161956,  -0.57006553,\n",
       "        -5.62448451,          nan,          nan,  -5.67381509,\n",
       "        -1.48995075,  -1.389421  ,          nan,  -7.7878167 ,\n",
       "        -3.81153976,  -1.01426886,  -0.48484605,  -2.48132206,\n",
       "        -0.66880376,  -9.20037151,  -3.30640154,  -3.10224836,\n",
       "        -4.92449029,  -0.48943349,  -7.08584676,  -1.52246943,\n",
       "        -0.20964082,  -3.96471735,   2.31105368, -11.10954621,\n",
       "        -7.55466926,  -4.66028206,  -1.50467115,  -2.93818371,\n",
       "        -3.01021492,  -0.7090974 ,  -3.52858592,  -3.78707711,\n",
       "                nan,  -5.53239972,   2.20111946,  -1.82157078,\n",
       "        -4.7076178 ,  -7.2145826 ,  -2.15680618,  -1.32716818,\n",
       "        -2.97886282,  -9.56021237,  -1.65229888,          nan,\n",
       "        -1.37037575,  -3.41366462,  -7.39416203,  -0.79495931,\n",
       "        -2.33346143,  -1.05383786,  -4.81123951,  -7.31050262,\n",
       "        -5.61173225,  -1.13202732,  -1.07542602,  -4.55006523,\n",
       "         3.11062259,  -7.00153098,  -2.35272209,  -6.06476657,\n",
       "        -4.85298061,  -2.29787426,  -1.4529032 ,  -1.2268445 ,\n",
       "        -1.02634118,          nan,  -0.96889209,  -1.40090737,\n",
       "        -5.13828682,          nan,  -0.51867852,  -4.04569777,\n",
       "        -8.32260853,  -3.02726327,          nan,          nan,\n",
       "                nan,  -6.64838991,  -4.12427851,  -2.16437677,\n",
       "        -3.67318957,  -4.27363618,  -3.52504318,  -6.39502174,\n",
       "        -1.76670411,  -0.64068947,  -2.75025043,          nan,\n",
       "        -1.12085878,  -4.96850903,  -4.37036394,  -2.3388413 ,\n",
       "        -2.92628843,  -9.78953738,  -4.29691319,  -9.34440068,\n",
       "        -0.52556672,          nan,  -3.55091755,  -2.05118198,\n",
       "        -0.82057232,  -2.43510472,  -0.51544953,  -2.60242796,\n",
       "        -1.2016895 ,  -0.93563872,  -1.57520958,          nan,\n",
       "        -4.76817336,  -3.3813004 ,  -1.69995106,  -4.06865421,\n",
       "        -1.5937824 ,  -3.60965885,  -2.86543054,  -3.26329882,\n",
       "        -1.42661956,  -3.9041587 ,  -3.85821063,  -3.80864818,\n",
       "        -3.12642413,  -0.50989684, -10.80770476, -10.33081027,\n",
       "        -1.76360552,  -4.71523967,          nan,  -5.01812344,\n",
       "                nan,  -1.91707363,  -3.45469902,  -2.75477615,\n",
       "        -3.2488507 ,  -1.27977213,  -6.17530608,  -0.93309373,\n",
       "        -2.94754064,  -1.57291417,  -4.05616947,  -4.1932168 ,\n",
       "        -8.44975964,  -2.88853793,          nan,          nan,\n",
       "        -4.02174271,  -1.31608067,  -2.5355789 ,  -3.35456808,\n",
       "        -0.55418506, -10.81300324,  -2.39469201,  -2.13324596,\n",
       "        -1.7257789 ,  -6.50613125,  -2.71618186,   1.54162574,\n",
       "        -1.19275029,          nan,  -2.45038471,          nan,\n",
       "        -4.09541758,  -9.58067128,  -4.67619503,  -5.69363807,\n",
       "        -1.44085641,  -2.79959235,  -5.76736653,  -3.05530004,\n",
       "                nan,  -2.74068923,  -4.00951525,  -0.78305496,\n",
       "        -2.3851115 ,  -5.34941532,  -1.53505804,  -2.2640728 ,\n",
       "        -3.95762269,  -3.11661655,  -1.34644655,  -9.5206755 ,\n",
       "        -2.89263701,  -0.74176764,  -2.64895519,  -0.50455346,\n",
       "        -2.25569099,  -0.9958038 ,  -4.13148787,  -1.53067846,\n",
       "                nan,  -2.85718628,  -2.21045697,  -3.23982794,\n",
       "        -2.97818308,  -4.79652864,  -1.15524452,  -2.06403941,\n",
       "        -3.42694275,  -0.50967342,  -4.57363374,  -0.5691372 ,\n",
       "                nan,  -1.04189675,          nan,  -6.67860476,\n",
       "        -0.56719058,  -0.48314711,  -1.75760265,  -3.65723339,\n",
       "        -3.4027858 ,  -1.0412255 ,  -4.03601109,  -1.10324296,\n",
       "        -0.08136745,  -0.86391399,  -1.50439168,  -1.47413059,\n",
       "        -3.61199219,  -1.95144074,  -2.93024009,  -2.8596008 ,\n",
       "        -0.65533088,  -3.55626046,  -2.97689013,  -8.30118682,\n",
       "        -0.57567191,  -5.41347973,  -4.40411641,  -2.38884599,\n",
       "        -3.33537131,  -4.70796967,  -2.03885323,  -1.41622073,\n",
       "        -3.62571929,  -3.11403514,  -2.82375817,  -2.13448275,\n",
       "        -1.0659334 ,  -1.81843057,   0.88168105,  -1.06284577,\n",
       "        -8.19732749,          nan,   3.24775338,  -1.01662573,\n",
       "        -4.62882271,  -8.4078293 ,  -3.15382072,  -6.25262086,\n",
       "        -3.57837448,  -7.14177503,  -0.29077953,  -4.60343825,\n",
       "        -3.68694475,  -4.17802433,  -3.79879985,          nan,\n",
       "        -1.33209331,  -3.81637084,  -1.5580391 ,  -1.87834021,\n",
       "        -1.79735213,  -3.58903404,          nan,  -2.17312235,\n",
       "        -4.31432479,          nan,  -4.05251915,  -3.2156398 ,\n",
       "        -4.33409205,          nan,  -4.16643753,  -2.69990845,\n",
       "        -3.99460253,  -1.82480314,  -3.06783548,  -0.67978464,\n",
       "        -0.91816447,  -2.77043172,  -3.58248048,  -0.65252919,\n",
       "        -3.40596529,          nan,  -3.17030994,  -1.17744013,\n",
       "        -2.15564336,  -1.63222904,  -4.04446875,  -9.10926548,\n",
       "        -1.37070254,  -5.13213831,   0.05296261,  -0.94762904,\n",
       "        -0.8934069 ,  -1.25450418,  -0.58969844,  -3.10295019,\n",
       "        -1.45230308,  -2.98600894,  -3.64128719,  -1.43507668])"
      ]
     },
     "execution_count": 8,
     "metadata": {},
     "output_type": "execute_result"
    }
   ],
   "source": [
    "from gdr3apcal import GaiaDR3_GSPPhot_cal\n",
    "calib = GaiaDR3_GSPPhot_cal()\n",
    "calib.calibrateMetallicity(df)"
   ]
  },
  {
   "attachments": {},
   "cell_type": "markdown",
   "metadata": {
    "cell_id": "00017-f1f2b3e4-412a-4f97-bfcb-0b8f3e9859a0",
    "deepnote_cell_type": "markdown",
    "tags": []
   },
   "source": [
    "Check the behavior when missing features"
   ]
  },
  {
   "cell_type": "code",
   "execution_count": 10,
   "metadata": {
    "cell_id": "00011-83c15b9e-5e6c-4fc2-957c-390ac939e879",
    "deepnote_cell_type": "code",
    "deepnote_to_be_reexecuted": false,
    "execution_millis": 1,
    "execution_start": 1636026445726,
    "source_hash": "deeaf0f7",
    "tags": []
   },
   "outputs": [
    {
     "name": "stdout",
     "output_type": "stream",
     "text": [
      "'Missing features from input data: azero_gspphot,ag_gspphot'\n"
     ]
    }
   ],
   "source": [
    "try:\n",
    "    calib.calibrateMetallicity(df.drop(columns=['azero_gspphot', 'ag_gspphot']))\n",
    "except KeyError as e:\n",
    "    print(e)"
   ]
  },
  {
   "attachments": {},
   "cell_type": "markdown",
   "metadata": {
    "cell_id": "00015-8952e5f2-c7e9-4592-add7-1a33aab035b9",
    "deepnote_cell_type": "text-cell-h1",
    "is_collapsed": false,
    "tags": []
   },
   "source": [
    "# Testing with demo data"
   ]
  },
  {
   "cell_type": "code",
   "execution_count": 11,
   "metadata": {
    "cell_id": "00020-d190522d-8851-497e-a7c7-5747b6651a74",
    "deepnote_cell_type": "code",
    "deepnote_to_be_reexecuted": true,
    "execution_millis": 683,
    "execution_start": 1634208921112,
    "source_hash": "e7cae2e1",
    "tags": []
   },
   "outputs": [
    {
     "ename": "TypeError",
     "evalue": "int() argument must be a string, a bytes-like object or a real number, not 'NoneType'",
     "output_type": "error",
     "traceback": [
      "\u001b[0;31m---------------------------------------------------------------------------\u001b[0m",
      "\u001b[0;31mTypeError\u001b[0m                                 Traceback (most recent call last)",
      "Cell \u001b[0;32mIn[11], line 5\u001b[0m\n\u001b[1;32m      3\u001b[0m url \u001b[39m=\u001b[39m \u001b[39m\"\u001b[39m\u001b[39mhttps://keeper.mpdl.mpg.de/d/ea60e03205e54090bb1c/files/?p=\u001b[39m\u001b[39m%2F\u001b[39;00m\u001b[39mdemo-GSPSpec-vs-GSPPhot-metal.csv&dl=1\u001b[39m\u001b[39m\"\u001b[39m\n\u001b[1;32m      4\u001b[0m fname \u001b[39m=\u001b[39m \u001b[39m'\u001b[39m\u001b[39mdemo-data.csv\u001b[39m\u001b[39m'\u001b[39m\n\u001b[0;32m----> 5\u001b[0m source \u001b[39m=\u001b[39m download_file(url, fname)\n",
      "File \u001b[0;32m~/.python/current/lib/python3.10/site-packages/gdr3apcal/downloader.py:104\u001b[0m, in \u001b[0;36mdownload_file\u001b[0;34m(link, file_name, overwrite)\u001b[0m\n\u001b[1;32m     95\u001b[0m \u001b[39m\u001b[39m\u001b[39m\"\"\" Download a file on disk from url\u001b[39;00m\n\u001b[1;32m     96\u001b[0m \n\u001b[1;32m     97\u001b[0m \u001b[39mlink: url of the file\u001b[39;00m\n\u001b[0;32m   (...)\u001b[0m\n\u001b[1;32m    101\u001b[0m \u001b[39mReturns the filename of the data\u001b[39;00m\n\u001b[1;32m    102\u001b[0m \u001b[39m\"\"\"\u001b[39;00m\n\u001b[1;32m    103\u001b[0m response \u001b[39m=\u001b[39m requests\u001b[39m.\u001b[39mget(link, stream\u001b[39m=\u001b[39m\u001b[39mTrue\u001b[39;00m)\n\u001b[0;32m--> 104\u001b[0m total_length \u001b[39m=\u001b[39m \u001b[39mint\u001b[39;49m(response\u001b[39m.\u001b[39;49mheaders\u001b[39m.\u001b[39;49mget(\u001b[39m'\u001b[39;49m\u001b[39mcontent-length\u001b[39;49m\u001b[39m'\u001b[39;49m))\n\u001b[1;32m    105\u001b[0m \u001b[39mif\u001b[39;00m os\u001b[39m.\u001b[39mpath\u001b[39m.\u001b[39mexists(file_name) \u001b[39mand\u001b[39;00m \u001b[39mnot\u001b[39;00m overwrite:\n\u001b[1;32m    106\u001b[0m     \u001b[39mif\u001b[39;00m (total_length \u001b[39mis\u001b[39;00m \u001b[39mNone\u001b[39;00m) \u001b[39mor\u001b[39;00m (os\u001b[39m.\u001b[39mstat(file_name)\u001b[39m.\u001b[39mst_size \u001b[39m==\u001b[39m total_length):\n",
      "\u001b[0;31mTypeError\u001b[0m: int() argument must be a string, a bytes-like object or a real number, not 'NoneType'"
     ]
    }
   ],
   "source": [
    "from gdr3apcal.downloader import download_file\n",
    "\n",
    "url = \"https://keeper.mpdl.mpg.de/d/ea60e03205e54090bb1c/files/?p=%2Fdemo-GSPSpec-vs-GSPPhot-metal.csv&dl=1\"\n",
    "fname = 'demo-data.csv'\n",
    "source = download_file(url, fname)"
   ]
  },
  {
   "cell_type": "code",
   "execution_count": null,
   "metadata": {
    "cell_id": "00025-b5ce829d-9eae-4ea8-92f1-f72bf45be796",
    "deepnote_cell_type": "code",
    "deepnote_to_be_reexecuted": true,
    "execution_millis": 109,
    "execution_start": 1634208921791,
    "source_hash": "8e93061a",
    "tags": []
   },
   "outputs": [
    {
     "data": {
      "application/vnd.deepnote.dataframe.v2+json": {
       "column_count": 22,
       "columns": [
        {
         "dtype": "int64",
         "name": "source_id",
         "stats": {
          "histogram": [
           {
            "bin_end": 4783968653873973000,
            "bin_start": 4658035518782398000,
            "count": 8
           },
           {
            "bin_end": 4909901788965547000,
            "bin_start": 4783968653873973000,
            "count": 0
           },
           {
            "bin_end": 5035834924057122000,
            "bin_start": 4909901788965547000,
            "count": 0
           },
           {
            "bin_end": 5161768059148697000,
            "bin_start": 5035834924057122000,
            "count": 0
           },
           {
            "bin_end": 5287701194240270000,
            "bin_start": 5161768059148697000,
            "count": 0
           },
           {
            "bin_end": 5413634329331845000,
            "bin_start": 5287701194240270000,
            "count": 0
           },
           {
            "bin_end": 5539567464423420000,
            "bin_start": 5413634329331845000,
            "count": 0
           },
           {
            "bin_end": 5665500599514995000,
            "bin_start": 5539567464423420000,
            "count": 0
           },
           {
            "bin_end": 5791433734606568000,
            "bin_start": 5665500599514995000,
            "count": 0
           },
           {
            "bin_end": 5917366869698143000,
            "bin_start": 5791433734606568000,
            "count": 92
           }
          ],
          "max": "5917366869698143360",
          "min": "4658035518782398720",
          "nan_count": 0,
          "unique_count": 100
         }
        },
        {
         "dtype": "float64",
         "name": "l",
         "stats": {
          "histogram": [
           {
            "bin_end": 284.9612409115721,
            "bin_start": 279.5312778871309,
            "count": 8
           },
           {
            "bin_end": 290.3912039360132,
            "bin_start": 284.9612409115721,
            "count": 0
           },
           {
            "bin_end": 295.8211669604544,
            "bin_start": 290.3912039360132,
            "count": 0
           },
           {
            "bin_end": 301.2511299848955,
            "bin_start": 295.8211669604544,
            "count": 0
           },
           {
            "bin_end": 306.6810930093367,
            "bin_start": 301.2511299848955,
            "count": 0
           },
           {
            "bin_end": 312.1110560337778,
            "bin_start": 306.6810930093367,
            "count": 0
           },
           {
            "bin_end": 317.541019058219,
            "bin_start": 312.1110560337778,
            "count": 0
           },
           {
            "bin_end": 322.97098208266016,
            "bin_start": 317.541019058219,
            "count": 0
           },
           {
            "bin_end": 328.4009451071013,
            "bin_start": 322.97098208266016,
            "count": 67
           },
           {
            "bin_end": 333.83090813154246,
            "bin_start": 328.4009451071013,
            "count": 25
           }
          ],
          "max": "333.83090813154246",
          "min": "279.5312778871309",
          "nan_count": 0,
          "unique_count": 100
         }
        },
        {
         "dtype": "float64",
         "name": "b",
         "stats": {
          "histogram": [
           {
            "bin_end": -29.9551143936163,
            "bin_start": -32.96876459765897,
            "count": 8
           },
           {
            "bin_end": -26.941464189573626,
            "bin_start": -29.9551143936163,
            "count": 0
           },
           {
            "bin_end": -23.927813985530953,
            "bin_start": -26.941464189573626,
            "count": 0
           },
           {
            "bin_end": -20.914163781488284,
            "bin_start": -23.927813985530953,
            "count": 0
           },
           {
            "bin_end": -17.900513577445615,
            "bin_start": -20.914163781488284,
            "count": 0
           },
           {
            "bin_end": -14.886863373402942,
            "bin_start": -17.900513577445615,
            "count": 0
           },
           {
            "bin_end": -11.87321316936027,
            "bin_start": -14.886863373402942,
            "count": 0
           },
           {
            "bin_end": -8.8595629653176,
            "bin_start": -11.87321316936027,
            "count": 18
           },
           {
            "bin_end": -5.845912761274931,
            "bin_start": -8.8595629653176,
            "count": 7
           },
           {
            "bin_end": -2.83226255723226,
            "bin_start": -5.845912761274931,
            "count": 67
           }
          ],
          "max": "-2.83226255723226",
          "min": "-32.96876459765897",
          "nan_count": 0,
          "unique_count": 100
         }
        },
        {
         "dtype": "float64",
         "name": "parallax",
         "stats": {
          "histogram": [
           {
            "bin_end": 0.769197975153492,
            "bin_start": -0.0373413711497006,
            "count": 76
           },
           {
            "bin_end": 1.5757373214566845,
            "bin_start": 0.769197975153492,
            "count": 11
           },
           {
            "bin_end": 2.382276667759877,
            "bin_start": 1.5757373214566845,
            "count": 5
           },
           {
            "bin_end": 3.18881601406307,
            "bin_start": 2.382276667759877,
            "count": 2
           },
           {
            "bin_end": 3.995355360366262,
            "bin_start": 3.18881601406307,
            "count": 2
           },
           {
            "bin_end": 4.801894706669454,
            "bin_start": 3.995355360366262,
            "count": 2
           },
           {
            "bin_end": 5.6084340529726475,
            "bin_start": 4.801894706669454,
            "count": 1
           },
           {
            "bin_end": 6.41497339927584,
            "bin_start": 5.6084340529726475,
            "count": 0
           },
           {
            "bin_end": 7.221512745579032,
            "bin_start": 6.41497339927584,
            "count": 0
           },
           {
            "bin_end": 8.028052091882225,
            "bin_start": 7.221512745579032,
            "count": 1
           }
          ],
          "max": "8.028052091882225",
          "min": "-0.0373413711497006",
          "nan_count": 0,
          "unique_count": 100
         }
        },
        {
         "dtype": "float64",
         "name": "parallax_error",
         "stats": {
          "histogram": [
           {
            "bin_end": 0.0361067187,
            "bin_start": 0.009850943,
            "count": 95
           },
           {
            "bin_end": 0.0623624944,
            "bin_start": 0.0361067187,
            "count": 3
           },
           {
            "bin_end": 0.08861827010000001,
            "bin_start": 0.0623624944,
            "count": 0
           },
           {
            "bin_end": 0.1148740458,
            "bin_start": 0.08861827010000001,
            "count": 0
           },
           {
            "bin_end": 0.1411298215,
            "bin_start": 0.1148740458,
            "count": 1
           },
           {
            "bin_end": 0.1673855972,
            "bin_start": 0.1411298215,
            "count": 0
           },
           {
            "bin_end": 0.1936413729,
            "bin_start": 0.1673855972,
            "count": 0
           },
           {
            "bin_end": 0.2198971486,
            "bin_start": 0.1936413729,
            "count": 0
           },
           {
            "bin_end": 0.24615292430000002,
            "bin_start": 0.2198971486,
            "count": 0
           },
           {
            "bin_end": 0.2724087,
            "bin_start": 0.24615292430000002,
            "count": 1
           }
          ],
          "max": "0.2724087",
          "min": "0.009850943",
          "nan_count": 0,
          "unique_count": 100
         }
        },
        {
         "dtype": "float64",
         "name": "phot_g_mean_mag",
         "stats": {
          "histogram": [
           {
            "bin_end": 10.0578637,
            "bin_start": 9.645813,
            "count": 2
           },
           {
            "bin_end": 10.4699144,
            "bin_start": 10.0578637,
            "count": 0
           },
           {
            "bin_end": 10.8819651,
            "bin_start": 10.4699144,
            "count": 1
           },
           {
            "bin_end": 11.2940158,
            "bin_start": 10.8819651,
            "count": 5
           },
           {
            "bin_end": 11.7060665,
            "bin_start": 11.2940158,
            "count": 12
           },
           {
            "bin_end": 12.1181172,
            "bin_start": 11.7060665,
            "count": 13
           },
           {
            "bin_end": 12.5301679,
            "bin_start": 12.1181172,
            "count": 19
           },
           {
            "bin_end": 12.9422186,
            "bin_start": 12.5301679,
            "count": 19
           },
           {
            "bin_end": 13.3542693,
            "bin_start": 12.9422186,
            "count": 22
           },
           {
            "bin_end": 13.76632,
            "bin_start": 13.3542693,
            "count": 7
           }
          ],
          "max": "13.76632",
          "min": "9.645813",
          "nan_count": 0,
          "unique_count": 100
         }
        },
        {
         "dtype": "float64",
         "name": "phot_bp_mean_mag",
         "stats": {
          "histogram": [
           {
            "bin_end": 10.7169326,
            "bin_start": 10.15975,
            "count": 2
           },
           {
            "bin_end": 11.2741152,
            "bin_start": 10.7169326,
            "count": 2
           },
           {
            "bin_end": 11.831297800000002,
            "bin_start": 11.2741152,
            "count": 6
           },
           {
            "bin_end": 12.3884804,
            "bin_start": 11.831297800000002,
            "count": 9
           },
           {
            "bin_end": 12.945663,
            "bin_start": 12.3884804,
            "count": 17
           },
           {
            "bin_end": 13.5028456,
            "bin_start": 12.945663,
            "count": 18
           },
           {
            "bin_end": 14.060028200000001,
            "bin_start": 13.5028456,
            "count": 27
           },
           {
            "bin_end": 14.6172108,
            "bin_start": 14.060028200000001,
            "count": 9
           },
           {
            "bin_end": 15.1743934,
            "bin_start": 14.6172108,
            "count": 8
           },
           {
            "bin_end": 15.731576,
            "bin_start": 15.1743934,
            "count": 2
           }
          ],
          "max": "15.731576",
          "min": "10.15975",
          "nan_count": 0,
          "unique_count": 100
         }
        },
        {
         "dtype": "float64",
         "name": "phot_rp_mean_mag",
         "stats": {
          "histogram": [
           {
            "bin_end": 9.2697541,
            "bin_start": 8.914077,
            "count": 1
           },
           {
            "bin_end": 9.625431200000001,
            "bin_start": 9.2697541,
            "count": 1
           },
           {
            "bin_end": 9.9811083,
            "bin_start": 9.625431200000001,
            "count": 1
           },
           {
            "bin_end": 10.3367854,
            "bin_start": 9.9811083,
            "count": 2
           },
           {
            "bin_end": 10.692462500000001,
            "bin_start": 10.3367854,
            "count": 9
           },
           {
            "bin_end": 11.0481396,
            "bin_start": 10.692462500000001,
            "count": 9
           },
           {
            "bin_end": 11.4038167,
            "bin_start": 11.0481396,
            "count": 15
           },
           {
            "bin_end": 11.759493800000001,
            "bin_start": 11.4038167,
            "count": 18
           },
           {
            "bin_end": 12.1151709,
            "bin_start": 11.759493800000001,
            "count": 21
           },
           {
            "bin_end": 12.470848,
            "bin_start": 12.1151709,
            "count": 23
           }
          ],
          "max": "12.470848",
          "min": "8.914077",
          "nan_count": 0,
          "unique_count": 100
         }
        },
        {
         "dtype": "float64",
         "name": "teff_gspspec",
         "stats": {
          "histogram": [
           {
            "bin_end": 4175,
            "bin_start": 3750,
            "count": 15
           },
           {
            "bin_end": 4600,
            "bin_start": 4175,
            "count": 38
           },
           {
            "bin_end": 5025,
            "bin_start": 4600,
            "count": 23
           },
           {
            "bin_end": 5450,
            "bin_start": 5025,
            "count": 6
           },
           {
            "bin_end": 5875,
            "bin_start": 5450,
            "count": 3
           },
           {
            "bin_end": 6300,
            "bin_start": 5875,
            "count": 5
           },
           {
            "bin_end": 6725,
            "bin_start": 6300,
            "count": 5
           },
           {
            "bin_end": 7150,
            "bin_start": 6725,
            "count": 1
           },
           {
            "bin_end": 7575,
            "bin_start": 7150,
            "count": 3
           },
           {
            "bin_end": 8000,
            "bin_start": 7575,
            "count": 1
           }
          ],
          "max": "8000.0",
          "min": "3750.0",
          "nan_count": 0,
          "unique_count": 80
         }
        },
        {
         "dtype": "float64",
         "name": "logg_gspspec",
         "stats": {
          "histogram": [
           {
            "bin_end": 1.0899999999999999,
            "bin_start": 0.65,
            "count": 7
           },
           {
            "bin_end": 1.5299999999999998,
            "bin_start": 1.0899999999999999,
            "count": 31
           },
           {
            "bin_end": 1.9699999999999998,
            "bin_start": 1.5299999999999998,
            "count": 10
           },
           {
            "bin_end": 2.4099999999999997,
            "bin_start": 1.9699999999999998,
            "count": 22
           },
           {
            "bin_end": 2.8499999999999996,
            "bin_start": 2.4099999999999997,
            "count": 9
           },
           {
            "bin_end": 3.2899999999999996,
            "bin_start": 2.8499999999999996,
            "count": 0
           },
           {
            "bin_end": 3.7299999999999995,
            "bin_start": 3.2899999999999996,
            "count": 5
           },
           {
            "bin_end": 4.17,
            "bin_start": 3.7299999999999995,
            "count": 6
           },
           {
            "bin_end": 4.609999999999999,
            "bin_start": 4.17,
            "count": 7
           },
           {
            "bin_end": 5.05,
            "bin_start": 4.609999999999999,
            "count": 3
           }
          ],
          "max": "5.05",
          "min": "0.65",
          "nan_count": 0,
          "unique_count": 74
         }
        },
        {
         "dtype": "float64",
         "name": "mh_gspspec",
         "stats": {
          "histogram": [
           {
            "bin_end": -3.7630000000000003,
            "bin_start": -4.23,
            "count": 1
           },
           {
            "bin_end": -3.2960000000000003,
            "bin_start": -3.7630000000000003,
            "count": 0
           },
           {
            "bin_end": -2.829,
            "bin_start": -3.2960000000000003,
            "count": 0
           },
           {
            "bin_end": -2.362,
            "bin_start": -2.829,
            "count": 0
           },
           {
            "bin_end": -1.895,
            "bin_start": -2.362,
            "count": 1
           },
           {
            "bin_end": -1.428,
            "bin_start": -1.895,
            "count": 0
           },
           {
            "bin_end": -0.9609999999999999,
            "bin_start": -1.428,
            "count": 1
           },
           {
            "bin_end": -0.4939999999999998,
            "bin_start": -0.9609999999999999,
            "count": 11
           },
           {
            "bin_end": -0.026999999999999247,
            "bin_start": -0.4939999999999998,
            "count": 49
           },
           {
            "bin_end": 0.44,
            "bin_start": -0.026999999999999247,
            "count": 36
           }
          ],
          "max": "0.44",
          "min": "-4.23",
          "nan_count": 1,
          "unique_count": 66
         }
        },
        {
         "dtype": "float64",
         "name": "alphafe_gspspec",
         "stats": {
          "histogram": [
           {
            "bin_end": -0.166,
            "bin_start": -0.26,
            "count": 3
           },
           {
            "bin_end": -0.07200000000000001,
            "bin_start": -0.166,
            "count": 17
           },
           {
            "bin_end": 0.02200000000000002,
            "bin_start": -0.07200000000000001,
            "count": 32
           },
           {
            "bin_end": 0.11599999999999999,
            "bin_start": 0.02200000000000002,
            "count": 10
           },
           {
            "bin_end": 0.20999999999999996,
            "bin_start": 0.11599999999999999,
            "count": 5
           },
           {
            "bin_end": 0.30400000000000005,
            "bin_start": 0.20999999999999996,
            "count": 4
           },
           {
            "bin_end": 0.398,
            "bin_start": 0.30400000000000005,
            "count": 2
           },
           {
            "bin_end": 0.492,
            "bin_start": 0.398,
            "count": 1
           },
           {
            "bin_end": 0.586,
            "bin_start": 0.492,
            "count": 1
           },
           {
            "bin_end": 0.68,
            "bin_start": 0.586,
            "count": 3
           }
          ],
          "max": "0.68",
          "min": "-0.26",
          "nan_count": 22,
          "unique_count": 40
         }
        },
        {
         "dtype": "object",
         "name": "flags_gspspec",
         "stats": {
          "categories": [
           {
            "count": 19,
            "name": "00000010000009999999999999999999999999999"
           },
           {
            "count": 10,
            "name": "00000000000009999999900999999999999999999"
           },
           {
            "count": 71,
            "name": "50 others"
           }
          ],
          "nan_count": 0,
          "unique_count": 52
         }
        },
        {
         "dtype": "float64",
         "name": "teff_gspphot",
         "stats": {
          "histogram": [
           {
            "bin_end": 4407.79158,
            "bin_start": 3577.2932,
            "count": 18
           },
           {
            "bin_end": 5238.28996,
            "bin_start": 4407.79158,
            "count": 62
           },
           {
            "bin_end": 6068.78834,
            "bin_start": 5238.28996,
            "count": 10
           },
           {
            "bin_end": 6899.28672,
            "bin_start": 6068.78834,
            "count": 6
           },
           {
            "bin_end": 7729.7851,
            "bin_start": 6899.28672,
            "count": 0
           },
           {
            "bin_end": 8560.28348,
            "bin_start": 7729.7851,
            "count": 2
           },
           {
            "bin_end": 9390.78186,
            "bin_start": 8560.28348,
            "count": 0
           },
           {
            "bin_end": 10221.28024,
            "bin_start": 9390.78186,
            "count": 0
           },
           {
            "bin_end": 11051.778620000001,
            "bin_start": 10221.28024,
            "count": 1
           },
           {
            "bin_end": 11882.277,
            "bin_start": 11051.778620000001,
            "count": 1
           }
          ],
          "max": "11882.277",
          "min": "3577.2932",
          "nan_count": 0,
          "unique_count": 100
         }
        },
        {
         "dtype": "float64",
         "name": "logg_gspphot",
         "stats": {
          "histogram": [
           {
            "bin_end": 0.63467,
            "bin_start": 0.1998,
            "count": 3
           },
           {
            "bin_end": 1.06954,
            "bin_start": 0.63467,
            "count": 9
           },
           {
            "bin_end": 1.5044099999999998,
            "bin_start": 1.06954,
            "count": 7
           },
           {
            "bin_end": 1.93928,
            "bin_start": 1.5044099999999998,
            "count": 11
           },
           {
            "bin_end": 2.37415,
            "bin_start": 1.93928,
            "count": 19
           },
           {
            "bin_end": 2.80902,
            "bin_start": 2.37415,
            "count": 30
           },
           {
            "bin_end": 3.24389,
            "bin_start": 2.80902,
            "count": 1
           },
           {
            "bin_end": 3.67876,
            "bin_start": 3.24389,
            "count": 5
           },
           {
            "bin_end": 4.11363,
            "bin_start": 3.67876,
            "count": 3
           },
           {
            "bin_end": 4.5485,
            "bin_start": 4.11363,
            "count": 12
           }
          ],
          "max": "4.5485",
          "min": "0.1998",
          "nan_count": 0,
          "unique_count": 100
         }
        },
        {
         "dtype": "float64",
         "name": "mh_gspphot",
         "stats": {
          "histogram": [
           {
            "bin_end": -2.72559,
            "bin_start": -3.0841,
            "count": 1
           },
           {
            "bin_end": -2.3670799999999996,
            "bin_start": -2.72559,
            "count": 0
           },
           {
            "bin_end": -2.0085699999999997,
            "bin_start": -2.3670799999999996,
            "count": 1
           },
           {
            "bin_end": -1.6500599999999999,
            "bin_start": -2.0085699999999997,
            "count": 0
           },
           {
            "bin_end": -1.29155,
            "bin_start": -1.6500599999999999,
            "count": 1
           },
           {
            "bin_end": -0.9330399999999996,
            "bin_start": -1.29155,
            "count": 3
           },
           {
            "bin_end": -0.5745299999999998,
            "bin_start": -0.9330399999999996,
            "count": 6
           },
           {
            "bin_end": -0.21601999999999988,
            "bin_start": -0.5745299999999998,
            "count": 20
           },
           {
            "bin_end": 0.14249,
            "bin_start": -0.21601999999999988,
            "count": 52
           },
           {
            "bin_end": 0.501,
            "bin_start": 0.14249,
            "count": 16
           }
          ],
          "max": "0.501",
          "min": "-3.0841",
          "nan_count": 0,
          "unique_count": 97
         }
        },
        {
         "dtype": "float64",
         "name": "azero_gspphot",
         "stats": {
          "histogram": [
           {
            "bin_end": 0.34443999999999997,
            "bin_start": 0.0116,
            "count": 11
           },
           {
            "bin_end": 0.6772799999999999,
            "bin_start": 0.34443999999999997,
            "count": 16
           },
           {
            "bin_end": 1.01012,
            "bin_start": 0.6772799999999999,
            "count": 7
           },
           {
            "bin_end": 1.34296,
            "bin_start": 1.01012,
            "count": 20
           },
           {
            "bin_end": 1.6758,
            "bin_start": 1.34296,
            "count": 9
           },
           {
            "bin_end": 2.0086399999999998,
            "bin_start": 1.6758,
            "count": 2
           },
           {
            "bin_end": 2.34148,
            "bin_start": 2.0086399999999998,
            "count": 12
           },
           {
            "bin_end": 2.67432,
            "bin_start": 2.34148,
            "count": 8
           },
           {
            "bin_end": 3.00716,
            "bin_start": 2.67432,
            "count": 8
           },
           {
            "bin_end": 3.34,
            "bin_start": 3.00716,
            "count": 7
           }
          ],
          "max": "3.34",
          "min": "0.0116",
          "nan_count": 0,
          "unique_count": 100
         }
        },
        {
         "dtype": "float64",
         "name": "ag_gspphot",
         "stats": {
          "histogram": [
           {
            "bin_end": 0.24635999999999997,
            "bin_start": 0.0099,
            "count": 10
           },
           {
            "bin_end": 0.48281999999999997,
            "bin_start": 0.24635999999999997,
            "count": 13
           },
           {
            "bin_end": 0.7192799999999999,
            "bin_start": 0.48281999999999997,
            "count": 11
           },
           {
            "bin_end": 0.9557399999999999,
            "bin_start": 0.7192799999999999,
            "count": 13
           },
           {
            "bin_end": 1.1922,
            "bin_start": 0.9557399999999999,
            "count": 14
           },
           {
            "bin_end": 1.4286599999999998,
            "bin_start": 1.1922,
            "count": 6
           },
           {
            "bin_end": 1.66512,
            "bin_start": 1.4286599999999998,
            "count": 9
           },
           {
            "bin_end": 1.9015799999999998,
            "bin_start": 1.66512,
            "count": 12
           },
           {
            "bin_end": 2.1380399999999997,
            "bin_start": 1.9015799999999998,
            "count": 4
           },
           {
            "bin_end": 2.3745,
            "bin_start": 2.1380399999999997,
            "count": 8
           }
          ],
          "max": "2.3745",
          "min": "0.0099",
          "nan_count": 0,
          "unique_count": 99
         }
        },
        {
         "dtype": "float64",
         "name": "ebpminrp_gspphot",
         "stats": {
          "histogram": [
           {
            "bin_end": 0.13263999999999998,
            "bin_start": 0.0053,
            "count": 10
           },
           {
            "bin_end": 0.25998,
            "bin_start": 0.13263999999999998,
            "count": 14
           },
           {
            "bin_end": 0.38731999999999994,
            "bin_start": 0.25998,
            "count": 10
           },
           {
            "bin_end": 0.5146599999999999,
            "bin_start": 0.38731999999999994,
            "count": 13
           },
           {
            "bin_end": 0.6419999999999999,
            "bin_start": 0.5146599999999999,
            "count": 15
           },
           {
            "bin_end": 0.7693399999999998,
            "bin_start": 0.6419999999999999,
            "count": 3
           },
           {
            "bin_end": 0.8966799999999998,
            "bin_start": 0.7693399999999998,
            "count": 12
           },
           {
            "bin_end": 1.02402,
            "bin_start": 0.8966799999999998,
            "count": 9
           },
           {
            "bin_end": 1.15136,
            "bin_start": 1.02402,
            "count": 6
           },
           {
            "bin_end": 1.2787,
            "bin_start": 1.15136,
            "count": 8
           }
          ],
          "max": "1.2787",
          "min": "0.0053",
          "nan_count": 0,
          "unique_count": 100
         }
        },
        {
         "dtype": "float64",
         "name": "distance_gspphot",
         "stats": {
          "histogram": [
           {
            "bin_end": 2575.17774,
            "bin_start": 124.3516,
            "count": 56
           },
           {
            "bin_end": 5026.00388,
            "bin_start": 2575.17774,
            "count": 35
           },
           {
            "bin_end": 7476.83002,
            "bin_start": 5026.00388,
            "count": 5
           },
           {
            "bin_end": 9927.65616,
            "bin_start": 7476.83002,
            "count": 2
           },
           {
            "bin_end": 12378.482300000001,
            "bin_start": 9927.65616,
            "count": 1
           },
           {
            "bin_end": 14829.30844,
            "bin_start": 12378.482300000001,
            "count": 0
           },
           {
            "bin_end": 17280.13458,
            "bin_start": 14829.30844,
            "count": 0
           },
           {
            "bin_end": 19730.960720000003,
            "bin_start": 17280.13458,
            "count": 0
           },
           {
            "bin_end": 22181.786860000004,
            "bin_start": 19730.960720000003,
            "count": 0
           },
           {
            "bin_end": 24632.613,
            "bin_start": 22181.786860000004,
            "count": 1
           }
          ],
          "max": "24632.613",
          "min": "124.3516",
          "nan_count": 0,
          "unique_count": 100
         }
        },
        {
         "dtype": "float64",
         "name": "mg_gspphot",
         "stats": {
          "histogram": [
           {
            "bin_end": -4.34235,
            "bin_start": -5.4695,
            "count": 1
           },
           {
            "bin_end": -3.2152000000000003,
            "bin_start": -4.34235,
            "count": 3
           },
           {
            "bin_end": -2.0880500000000004,
            "bin_start": -3.2152000000000003,
            "count": 11
           },
           {
            "bin_end": -0.9609000000000005,
            "bin_start": -2.0880500000000004,
            "count": 20
           },
           {
            "bin_end": 0.1662499999999998,
            "bin_start": -0.9609000000000005,
            "count": 25
           },
           {
            "bin_end": 1.2933999999999992,
            "bin_start": 0.1662499999999998,
            "count": 23
           },
           {
            "bin_end": 2.4205499999999986,
            "bin_start": 1.2933999999999992,
            "count": 0
           },
           {
            "bin_end": 3.547699999999999,
            "bin_start": 2.4205499999999986,
            "count": 6
           },
           {
            "bin_end": 4.674849999999999,
            "bin_start": 3.547699999999999,
            "count": 9
           },
           {
            "bin_end": 5.802,
            "bin_start": 4.674849999999999,
            "count": 2
           }
          ],
          "max": "5.802",
          "min": "-5.4695",
          "nan_count": 0,
          "unique_count": 100
         }
        },
        {
         "dtype": "object",
         "name": "libname_gspphot",
         "stats": {
          "categories": [
           {
            "count": 66,
            "name": "MARCS"
           },
           {
            "count": 29,
            "name": "PHOENIX"
           },
           {
            "count": 5,
            "name": "A"
           }
          ],
          "nan_count": 0,
          "unique_count": 3
         }
        },
        {
         "dtype": "int64",
         "name": "_deepnote_index_column"
        }
       ],
       "row_count": 100,
       "rows_bottom": [
        {
         "_deepnote_index_column": 77,
         "ag_gspphot": 2.1587,
         "alphafe_gspspec": 0.41,
         "azero_gspphot": 2.9822,
         "b": -8.337053228082109,
         "distance_gspphot": 6165.1777,
         "ebpminrp_gspphot": 1.1844,
         "flags_gspspec": "11000011000009999999900999900999999999999",
         "l": 332.10134066426593,
         "libname_gspphot": "MARCS",
         "logg_gspphot": 1.3101,
         "logg_gspspec": 0.65,
         "mg_gspphot": -4.0207,
         "mh_gspphot": -1.1893,
         "mh_gspspec": -0.89,
         "parallax": 0.1022525980624499,
         "parallax_error": 0.018924972,
         "phot_bp_mean_mag": 13.270026,
         "phot_g_mean_mag": 12.048121,
         "phot_rp_mean_mag": 10.960526,
         "source_id": 5917119926258743000,
         "teff_gspphot": 4876.703,
         "teff_gspspec": 3750
        },
        {
         "_deepnote_index_column": 78,
         "ag_gspphot": 0.3319,
         "alphafe_gspspec": 0.14,
         "azero_gspphot": 0.4039,
         "b": -3.314943516100792,
         "distance_gspphot": 373.8896,
         "ebpminrp_gspphot": 0.1795,
         "flags_gspspec": "00000010000009999999999999999999999999999",
         "l": 326.1802955971028,
         "libname_gspphot": "MARCS",
         "logg_gspphot": 4.1425,
         "logg_gspspec": 4.53,
         "mg_gspphot": 3.9156,
         "mh_gspphot": -0.5386,
         "mh_gspspec": 0.04,
         "parallax": 2.5808408119172146,
         "parallax_error": 0.013577292,
         "phot_bp_mean_mag": 12.52283,
         "phot_g_mean_mag": 12.096966,
         "phot_rp_mean_mag": 11.49866,
         "source_id": 5835764621454985000,
         "teff_gspphot": 5513.137,
         "teff_gspspec": 6246
        },
        {
         "_deepnote_index_column": 79,
         "ag_gspphot": 1.4413,
         "alphafe_gspspec": "nan",
         "azero_gspphot": 2.3183,
         "b": -3.1086524672959857,
         "distance_gspphot": 4587.0107,
         "ebpminrp_gspphot": 0.9101,
         "flags_gspspec": "10000151000019999999999999999999999999999",
         "l": 326.535744959426,
         "libname_gspphot": "PHOENIX",
         "logg_gspphot": 0.949,
         "logg_gspspec": 1.5,
         "mg_gspphot": -0.9479,
         "mh_gspphot": 0.0787,
         "mh_gspspec": -2.03,
         "parallax": 0.0281201657642202,
         "parallax_error": 0.024582395,
         "phot_bp_mean_mag": 15.731576,
         "phot_g_mean_mag": 13.76632,
         "phot_rp_mean_mag": 12.465199,
         "source_id": 5835794239553299000,
         "teff_gspphot": 3640.3442,
         "teff_gspspec": 4250
        },
        {
         "_deepnote_index_column": 80,
         "ag_gspphot": 1.7048,
         "alphafe_gspspec": 0.06,
         "azero_gspphot": 2.3806,
         "b": -3.672078223338737,
         "distance_gspphot": 3152.7888,
         "ebpminrp_gspphot": 0.9002,
         "flags_gspspec": "00000001000009999999900999999999999999999",
         "l": 326.46337379077,
         "libname_gspphot": "MARCS",
         "logg_gspphot": 1.9601,
         "logg_gspspec": 0.88,
         "mg_gspphot": -1.6617,
         "mh_gspphot": 0.143,
         "mh_gspspec": -0.41,
         "parallax": 0.2327896444003812,
         "parallax_error": 0.016887771,
         "phot_bp_mean_mag": 13.646108,
         "phot_g_mean_mag": 12.515978,
         "phot_rp_mean_mag": 11.46566,
         "source_id": 5835733422809032000,
         "teff_gspphot": 4524.0767,
         "teff_gspspec": 4015
        },
        {
         "_deepnote_index_column": 81,
         "ag_gspphot": 0.6572,
         "alphafe_gspspec": -0.05,
         "azero_gspphot": 0.8888,
         "b": -9.365587526116844,
         "distance_gspphot": 1193.4321,
         "ebpminrp_gspphot": 0.3431,
         "flags_gspspec": "00000000000000001999900999900999999999909",
         "l": 333.29361934651416,
         "libname_gspphot": "PHOENIX",
         "logg_gspphot": 2.3654,
         "logg_gspspec": 1.67,
         "mg_gspphot": 0.672,
         "mh_gspphot": 0.1495,
         "mh_gspspec": 0.15,
         "parallax": 0.5608027888736095,
         "parallax_error": 0.027007092,
         "phot_bp_mean_mag": 12.623847,
         "phot_g_mean_mag": 11.811598,
         "phot_rp_mean_mag": 10.929682,
         "source_id": 5917285952513091000,
         "teff_gspphot": 4510.202,
         "teff_gspspec": 4207
        },
        {
         "_deepnote_index_column": 82,
         "ag_gspphot": 1.0838,
         "alphafe_gspspec": "nan",
         "azero_gspphot": 1.1525,
         "b": -3.335507036172002,
         "distance_gspphot": 2567.2234,
         "ebpminrp_gspphot": 0.585,
         "flags_gspspec": "00010931000009999999999999999999999999999",
         "l": 326.58965810417425,
         "libname_gspphot": "A",
         "logg_gspphot": 3.4749,
         "logg_gspspec": 4.5,
         "mg_gspphot": -1.7686,
         "mh_gspphot": -0.018,
         "mh_gspspec": "nan",
         "parallax": 0.2262812156817706,
         "parallax_error": 0.05607222,
         "phot_bp_mean_mag": 11.5216675,
         "phot_g_mean_mag": 11.3659525,
         "phot_rp_mean_mag": 11.071883,
         "source_id": 5835794338228650000,
         "teff_gspphot": 11882.277,
         "teff_gspspec": 8000
        },
        {
         "_deepnote_index_column": 83,
         "ag_gspphot": 0.2364,
         "alphafe_gspspec": 0.19,
         "azero_gspphot": 0.2765,
         "b": -9.760567625376352,
         "distance_gspphot": 818.1415,
         "ebpminrp_gspphot": 0.1281,
         "flags_gspspec": "00000020000009999999999999999999999999999",
         "l": 332.93407934833647,
         "libname_gspphot": "MARCS",
         "logg_gspphot": 3.8775,
         "logg_gspspec": 3.9,
         "mg_gspphot": 2.8883,
         "mh_gspphot": -0.4415,
         "mh_gspspec": -0.14,
         "parallax": 1.1964668010238428,
         "parallax_error": 0.013903218,
         "phot_bp_mean_mag": 12.987913,
         "phot_g_mean_mag": 12.680519,
         "phot_rp_mean_mag": 12.212857,
         "source_id": 5917199434686958000,
         "teff_gspphot": 6188.4634,
         "teff_gspspec": 6381
        },
        {
         "_deepnote_index_column": 84,
         "ag_gspphot": 0.5563,
         "alphafe_gspspec": -0.25,
         "azero_gspphot": 0.7279,
         "b": -8.291714006810722,
         "distance_gspphot": 1764.3641,
         "ebpminrp_gspphot": 0.2916,
         "flags_gspspec": "00000010000009999999999999999999999999999",
         "l": 332.1260367633669,
         "libname_gspphot": "PHOENIX",
         "logg_gspphot": 2.7741,
         "logg_gspspec": 2.28,
         "mg_gspphot": 0.905,
         "mh_gspphot": 0.038,
         "mh_gspspec": 0.2,
         "parallax": 0.4040700059916365,
         "parallax_error": 0.015800366,
         "phot_bp_mean_mag": 13.456383,
         "phot_g_mean_mag": 12.77883,
         "phot_rp_mean_mag": 11.984085,
         "source_id": 5917120613453604000,
         "teff_gspphot": 4847.396,
         "teff_gspspec": 4834
        },
        {
         "_deepnote_index_column": 85,
         "ag_gspphot": 0.7931,
         "alphafe_gspspec": 0.24,
         "azero_gspphot": 1.0708,
         "b": -9.339080618941448,
         "distance_gspphot": 3032.1287,
         "ebpminrp_gspphot": 0.4206,
         "flags_gspspec": "00000020000009999999999999999999999999999",
         "l": 333.33476548657325,
         "libname_gspphot": "MARCS",
         "logg_gspphot": 1.7836,
         "logg_gspspec": 1.52,
         "mg_gspphot": -0.2093,
         "mh_gspphot": -0.4244,
         "mh_gspspec": -0.55,
         "parallax": 0.2645987666230689,
         "parallax_error": 0.021240609,
         "phot_bp_mean_mag": 13.788094,
         "phot_g_mean_mag": 12.947579,
         "phot_rp_mean_mag": 12.052154,
         "source_id": 5917286502267681000,
         "teff_gspphot": 4428.782,
         "teff_gspspec": 4226
        },
        {
         "_deepnote_index_column": 86,
         "ag_gspphot": 1.497,
         "alphafe_gspspec": "nan",
         "azero_gspphot": 2.266,
         "b": -3.285038167969369,
         "distance_gspphot": 3668.7004,
         "ebpminrp_gspphot": 0.8458,
         "flags_gspspec": "00000011000029999999999999999999999999999",
         "l": 326.17349347518604,
         "libname_gspphot": "PHOENIX",
         "logg_gspphot": 1.1218,
         "logg_gspspec": 1.5,
         "mg_gspphot": -0.7612,
         "mh_gspphot": -0.187,
         "mh_gspspec": -0.28,
         "parallax": 0.113241279325649,
         "parallax_error": 0.016234675,
         "phot_bp_mean_mag": 15.012673,
         "phot_g_mean_mag": 13.484086,
         "phot_rp_mean_mag": 12.2859125,
         "source_id": 5835764896332980000,
         "teff_gspphot": 3802.5112,
         "teff_gspspec": 4250
        },
        {
         "_deepnote_index_column": 87,
         "ag_gspphot": 0.4505,
         "alphafe_gspspec": -0.15,
         "azero_gspphot": 0.5841,
         "b": -8.385166496137222,
         "distance_gspphot": 1952.3787,
         "ebpminrp_gspphot": 0.2389,
         "flags_gspspec": "00000010000009999999999999999999999999999",
         "l": 332.1537235688235,
         "libname_gspphot": "PHOENIX",
         "logg_gspphot": 2.4356,
         "logg_gspspec": 2.32,
         "mg_gspphot": 0.9284,
         "mh_gspphot": -0.4084,
         "mh_gspspec": -0.16,
         "parallax": 0.3908323606580136,
         "parallax_error": 0.015852327,
         "phot_bp_mean_mag": 13.459818,
         "phot_g_mean_mag": 12.825827,
         "phot_rp_mean_mag": 12.062589,
         "source_id": 5917120853971609000,
         "teff_gspphot": 4757.5664,
         "teff_gspspec": 4893
        },
        {
         "_deepnote_index_column": 88,
         "ag_gspphot": 0.9509,
         "alphafe_gspspec": 0.26,
         "azero_gspphot": 1.2295,
         "b": -9.307629196118176,
         "distance_gspphot": 2436.9575,
         "ebpminrp_gspphot": 0.5111,
         "flags_gspspec": "00000020000009999999999999999999999999999",
         "l": 333.2610597894796,
         "libname_gspphot": "PHOENIX",
         "logg_gspphot": 2.5856,
         "logg_gspspec": 2.17,
         "mg_gspphot": 0.071,
         "mh_gspphot": -0.5328,
         "mh_gspspec": -0.69,
         "parallax": 0.2404964511089287,
         "parallax_error": 0.019979276,
         "phot_bp_mean_mag": 13.649334,
         "phot_g_mean_mag": 12.937046,
         "phot_rp_mean_mag": 12.116943,
         "source_id": 5917286880224831000,
         "teff_gspphot": 5063.9395,
         "teff_gspspec": 4678
        },
        {
         "_deepnote_index_column": 89,
         "ag_gspphot": 1.5423,
         "alphafe_gspspec": -0.03,
         "azero_gspphot": 2.1258,
         "b": -3.621485301069751,
         "distance_gspphot": 3661.238,
         "ebpminrp_gspphot": 0.8105,
         "flags_gspspec": "00000000000009999999999999999999999999999",
         "l": 326.4099071655565,
         "libname_gspphot": "MARCS",
         "logg_gspphot": 2.0408,
         "logg_gspspec": 1.74,
         "mg_gspphot": -1.6757,
         "mh_gspphot": 0.2349,
         "mh_gspspec": 0.11,
         "parallax": 0.3879914256724935,
         "parallax_error": 0.014963377,
         "phot_bp_mean_mag": 13.70348,
         "phot_g_mean_mag": 12.6641,
         "phot_rp_mean_mag": 11.658818,
         "source_id": 5835733968164233000,
         "teff_gspphot": 4624.488,
         "teff_gspspec": 4222
        },
        {
         "_deepnote_index_column": 90,
         "ag_gspphot": 2.3745,
         "alphafe_gspspec": "nan",
         "azero_gspphot": 3.34,
         "b": -3.297868827796329,
         "distance_gspphot": 3211.6604,
         "ebpminrp_gspphot": 1.2756,
         "flags_gspspec": "01000001000019999999999999999999999999999",
         "l": 326.61169134438995,
         "libname_gspphot": "MARCS",
         "logg_gspphot": 2.1123,
         "logg_gspspec": 1.5,
         "mg_gspphot": -1.5972,
         "mh_gspphot": -0.0199,
         "mh_gspspec": -0.22,
         "parallax": 0.1757151250403208,
         "parallax_error": 0.014943992,
         "phot_bp_mean_mag": 14.608323,
         "phot_g_mean_mag": 13.296417,
         "phot_rp_mean_mag": 12.180499,
         "source_id": 5835794754949701000,
         "teff_gspphot": 4767.64,
         "teff_gspspec": 4250
        },
        {
         "_deepnote_index_column": 91,
         "ag_gspphot": 0.6708,
         "alphafe_gspspec": -0.07,
         "azero_gspphot": 0.871,
         "b": -9.264952283082264,
         "distance_gspphot": 3449.0686,
         "ebpminrp_gspphot": 0.3547,
         "flags_gspspec": "00000010000009999999999999999999999999999",
         "l": 333.28371932223195,
         "libname_gspphot": "MARCS",
         "logg_gspphot": 2.5414,
         "logg_gspspec": 2.78,
         "mg_gspphot": -0.1519,
         "mh_gspphot": -0.1054,
         "mh_gspspec": -0.17,
         "parallax": 0.3240452850110668,
         "parallax_error": 0.015955305,
         "phot_bp_mean_mag": 13.867301,
         "phot_g_mean_mag": 13.194176,
         "phot_rp_mean_mag": 12.399562,
         "source_id": 5917287223822287000,
         "teff_gspphot": 4873.002,
         "teff_gspspec": 4936
        },
        {
         "_deepnote_index_column": 92,
         "ag_gspphot": 1.3885,
         "alphafe_gspspec": "nan",
         "azero_gspphot": 2.1624,
         "b": -2.83226255723226,
         "distance_gspphot": 4225.5996,
         "ebpminrp_gspphot": 0.8204,
         "flags_gspspec": "01100001000019999999900999999999999999999",
         "l": 326.6172519496336,
         "libname_gspphot": "PHOENIX",
         "logg_gspphot": 0.6126,
         "logg_gspspec": 1.5,
         "mg_gspphot": -1.5451,
         "mh_gspphot": -0.1975,
         "mh_gspspec": -0.26,
         "parallax": 0.1459252672840607,
         "parallax_error": 0.01631336,
         "phot_bp_mean_mag": 14.7302475,
         "phot_g_mean_mag": 13.037581,
         "phot_rp_mean_mag": 11.800339,
         "source_id": 5835818153934228000,
         "teff_gspphot": 3674.5923,
         "teff_gspspec": 4250
        },
        {
         "_deepnote_index_column": 93,
         "ag_gspphot": 0.4859,
         "alphafe_gspspec": -0.02,
         "azero_gspphot": 0.6198,
         "b": -9.32119459543001,
         "distance_gspphot": 673.8825,
         "ebpminrp_gspphot": 0.2573,
         "flags_gspspec": "00000000000001020009900001100991099999905",
         "l": 333.8193303506476,
         "libname_gspphot": "MARCS",
         "logg_gspphot": 2.6393,
         "logg_gspspec": 2.09,
         "mg_gspphot": 0.0219,
         "mh_gspphot": -0.1246,
         "mh_gspspec": -0.17,
         "parallax": 1.3241317266691914,
         "parallax_error": 0.015379718,
         "phot_bp_mean_mag": 10.230574,
         "phot_g_mean_mag": 9.645813,
         "phot_rp_mean_mag": 8.914077,
         "source_id": 5917366423021539000,
         "teff_gspphot": 5005.1914,
         "teff_gspspec": 4775
        },
        {
         "_deepnote_index_column": 94,
         "ag_gspphot": 0.2117,
         "alphafe_gspspec": 0.15,
         "azero_gspphot": 0.2617,
         "b": -32.73350999060465,
         "distance_gspphot": 766.942,
         "ebpminrp_gspphot": 0.1128,
         "flags_gspspec": "00000020000009999999999999999999999999999",
         "l": 280.1863605426672,
         "libname_gspphot": "MARCS",
         "logg_gspphot": 3.5378,
         "logg_gspspec": 3.3,
         "mg_gspphot": 2.507,
         "mh_gspphot": -0.1001,
         "mh_gspspec": -0.45,
         "parallax": 1.2947660696959484,
         "parallax_error": 0.010856779,
         "phot_bp_mean_mag": 12.591257,
         "phot_g_mean_mag": 12.142303,
         "phot_rp_mean_mag": 11.52246,
         "source_id": 4658065858436145000,
         "teff_gspphot": 5234.816,
         "teff_gspspec": 5103
        },
        {
         "_deepnote_index_column": 95,
         "ag_gspphot": 0.5741,
         "alphafe_gspspec": -0.06,
         "azero_gspphot": 0.7525,
         "b": -9.3559386891732,
         "distance_gspphot": 1199.6442,
         "ebpminrp_gspphot": 0.3,
         "flags_gspspec": "00000000000009920019900009900999999999999",
         "l": 333.8308173698706,
         "libname_gspphot": "MARCS",
         "logg_gspphot": 2.5729,
         "logg_gspspec": 1.99,
         "mg_gspphot": 0.4573,
         "mh_gspphot": 0.1413,
         "mh_gspspec": 0,
         "parallax": 0.9101549126855648,
         "parallax_error": 0.02800342,
         "phot_bp_mean_mag": 12.084267,
         "phot_g_mean_mag": 11.40071,
         "phot_rp_mean_mag": 10.601941,
         "source_id": 5917366526100736000,
         "teff_gspphot": 4731.899,
         "teff_gspspec": 4557
        },
        {
         "_deepnote_index_column": 96,
         "ag_gspphot": 0.3638,
         "alphafe_gspspec": 0.27,
         "azero_gspphot": 0.4192,
         "b": -8.348732872361229,
         "distance_gspphot": 560.2202,
         "ebpminrp_gspphot": 0.1968,
         "flags_gspspec": "00000030000009999999999999999999999999999",
         "l": 332.231401088761,
         "libname_gspphot": "A",
         "logg_gspphot": 4.1712,
         "logg_gspspec": 4.1,
         "mg_gspphot": 3.1889,
         "mh_gspphot": -0.4661,
         "mh_gspspec": -0.18,
         "parallax": 1.7316355475452687,
         "parallax_error": 0.012610818,
         "phot_bp_mean_mag": 12.5605545,
         "phot_g_mean_mag": 12.278474,
         "phot_rp_mean_mag": 11.835876,
         "source_id": 5917121777358655000,
         "teff_gspphot": 6656.457,
         "teff_gspspec": 6715
        },
        {
         "_deepnote_index_column": 97,
         "ag_gspphot": 0.2393,
         "alphafe_gspspec": 0.2,
         "azero_gspphot": 0.2787,
         "b": -9.72294800550113,
         "distance_gspphot": 209.5456,
         "ebpminrp_gspphot": 0.1297,
         "flags_gspspec": "00000000000001299000000999900029999999999",
         "l": 333.04693426750407,
         "libname_gspphot": "A",
         "logg_gspphot": 4.0375,
         "logg_gspspec": 4.14,
         "mg_gspphot": 3.0274,
         "mh_gspphot": -0.61,
         "mh_gspspec": -0.11,
         "parallax": 4.7377235874208985,
         "parallax_error": 0.016759567,
         "phot_bp_mean_mag": 10.15975,
         "phot_g_mean_mag": 9.868277,
         "phot_rp_mean_mag": 9.405288,
         "source_id": 5917201015234970000,
         "teff_gspphot": 6275.119,
         "teff_gspspec": 6439
        },
        {
         "_deepnote_index_column": 98,
         "ag_gspphot": 0.3133,
         "alphafe_gspspec": -0.01,
         "azero_gspphot": 0.4209,
         "b": -9.314399603794588,
         "distance_gspphot": 4001.2747,
         "ebpminrp_gspphot": 0.1652,
         "flags_gspspec": "00000000000000012999900009900999999999909",
         "l": 333.83090813154246,
         "libname_gspphot": "MARCS",
         "logg_gspphot": 1.3717,
         "logg_gspspec": 1.52,
         "mg_gspphot": -1.4408,
         "mh_gspphot": -0.5854,
         "mh_gspspec": -0.18,
         "parallax": 0.4085431786824274,
         "parallax_error": 0.021760948,
         "phot_bp_mean_mag": 12.569979,
         "phot_g_mean_mag": 11.831022,
         "phot_rp_mean_mag": 10.996258,
         "source_id": 5917366869698143000,
         "teff_gspphot": 4277.146,
         "teff_gspspec": 4389
        },
        {
         "_deepnote_index_column": 99,
         "ag_gspphot": 1.5554,
         "alphafe_gspspec": "nan",
         "azero_gspphot": 2.1938,
         "b": -2.90088815032828,
         "distance_gspphot": 1578.2548,
         "ebpminrp_gspphot": 0.8308,
         "flags_gspspec": "00100031000029999999999999999999999999999",
         "l": 326.65474759966213,
         "libname_gspphot": "MARCS",
         "logg_gspphot": 1.3461,
         "logg_gspspec": 1.5,
         "mg_gspphot": -0.9802,
         "mh_gspphot": -0.4526,
         "mh_gspspec": -0.77,
         "parallax": 0.4958422584104119,
         "parallax_error": 0.021377265,
         "phot_bp_mean_mag": 12.663205,
         "phot_g_mean_mag": 11.502803,
         "phot_rp_mean_mag": 10.441858,
         "source_id": 5835818493124710000,
         "teff_gspphot": 4308.054,
         "teff_gspspec": 4250
        }
       ],
       "rows_top": [
        {
         "_deepnote_index_column": 0,
         "ag_gspphot": 1.9191,
         "alphafe_gspspec": -0.01,
         "azero_gspphot": 2.6248,
         "b": -3.749551095902573,
         "distance_gspphot": 2400.7478,
         "ebpminrp_gspphot": 1.0212,
         "flags_gspspec": "00000010000009999999999999999999999999999",
         "l": 326.6347420600235,
         "libname_gspphot": "PHOENIX",
         "logg_gspphot": 2.5722,
         "logg_gspspec": 1.59,
         "mg_gspphot": -0.4675,
         "mh_gspphot": 0.1408,
         "mh_gspspec": -0.07,
         "parallax": 0.2572987613241731,
         "parallax_error": 0.015012898,
         "phot_bp_mean_mag": 14.487535,
         "phot_g_mean_mag": 13.404951,
         "phot_rp_mean_mag": 12.375557,
         "source_id": 5835725554428191000,
         "teff_gspphot": 5050.838,
         "teff_gspspec": 4084
        },
        {
         "_deepnote_index_column": 1,
         "ag_gspphot": 2.1236,
         "alphafe_gspspec": "nan",
         "azero_gspphot": 2.9756,
         "b": -3.789467548399049,
         "distance_gspphot": 3397.3354,
         "ebpminrp_gspphot": 1.1413,
         "flags_gspspec": "00000021000019999999999999999999999999999",
         "l": 326.6669794147177,
         "libname_gspphot": "PHOENIX",
         "logg_gspphot": 2.0063,
         "logg_gspspec": 1.5,
         "mg_gspphot": -1.7435,
         "mh_gspphot": -0.2319,
         "mh_gspspec": -0.81,
         "parallax": 0.1427748494507459,
         "parallax_error": 0.014150012,
         "phot_bp_mean_mag": 14.374775,
         "phot_g_mean_mag": 13.131085,
         "phot_rp_mean_mag": 12.040055,
         "source_id": 5835725726226853000,
         "teff_gspphot": 4733.8633,
         "teff_gspspec": 4250
        },
        {
         "_deepnote_index_column": 2,
         "ag_gspphot": 0.1366,
         "alphafe_gspspec": -0.03,
         "azero_gspphot": 0.1639,
         "b": -32.83473543181303,
         "distance_gspphot": 415.3741,
         "ebpminrp_gspphot": 0.0724,
         "flags_gspspec": "00000010000009999999999999999999999999999",
         "l": 279.5312778871309,
         "libname_gspphot": "MARCS",
         "logg_gspphot": 4.1391,
         "logg_gspspec": 3.68,
         "mg_gspphot": 3.675,
         "mh_gspphot": 0.3988,
         "mh_gspspec": 0.36,
         "parallax": 2.3731263272084475,
         "parallax_error": 0.011886919,
         "phot_bp_mean_mag": 12.252738,
         "phot_g_mean_mag": 11.898599,
         "phot_rp_mean_mag": 11.380256,
         "source_id": 4658109465327386000,
         "teff_gspphot": 5780.714,
         "teff_gspspec": 5712
        },
        {
         "_deepnote_index_column": 3,
         "ag_gspphot": 2.3009,
         "alphafe_gspspec": -0.02,
         "azero_gspphot": 3.2706,
         "b": -3.388113663570356,
         "distance_gspphot": 3731.92,
         "ebpminrp_gspphot": 1.23,
         "flags_gspspec": "00000000000009999999900999999999999999999",
         "l": 326.13668918504743,
         "libname_gspphot": "MARCS",
         "logg_gspphot": 1.657,
         "logg_gspspec": 1.09,
         "mg_gspphot": -2.8015,
         "mh_gspphot": -0.0356,
         "mh_gspspec": -0.02,
         "parallax": 0.2168111300129747,
         "parallax_error": 0.014882449,
         "phot_bp_mean_mag": 13.6836815,
         "phot_g_mean_mag": 12.342805,
         "phot_rp_mean_mag": 11.215082,
         "source_id": 5835757577707659000,
         "teff_gspphot": 4587.905,
         "teff_gspspec": 4007
        },
        {
         "_deepnote_index_column": 4,
         "ag_gspphot": 0.4413,
         "alphafe_gspspec": 0.08,
         "azero_gspphot": 0.5201,
         "b": -3.739197382162292,
         "distance_gspphot": 196.9772,
         "ebpminrp_gspphot": 0.2381,
         "flags_gspspec": "00000010000009999999900999901999999999999",
         "l": 326.6582401967318,
         "libname_gspphot": "PHOENIX",
         "logg_gspphot": 4.35,
         "logg_gspspec": 4.18,
         "mg_gspphot": 3.9724,
         "mh_gspphot": -0.3107,
         "mh_gspspec": -0.05,
         "parallax": 5.1250777823177485,
         "parallax_error": 0.017013652,
         "phot_bp_mean_mag": 11.265015,
         "phot_g_mean_mag": 10.918342,
         "phot_rp_mean_mag": 10.396759,
         "source_id": 5835725966745103000,
         "teff_gspphot": 6366.3037,
         "teff_gspspec": 6226
        },
        {
         "_deepnote_index_column": 5,
         "ag_gspphot": 2.2288,
         "alphafe_gspspec": "nan",
         "azero_gspphot": 3.1472,
         "b": -3.730332029985407,
         "distance_gspphot": 2615.7607,
         "ebpminrp_gspphot": 1.1957,
         "flags_gspspec": "01100031000029999999999999999999999999999",
         "l": 326.67321159826554,
         "libname_gspphot": "MARCS",
         "logg_gspphot": 1.9036,
         "logg_gspspec": 1.5,
         "mg_gspphot": -1.9461,
         "mh_gspphot": -0.1124,
         "mh_gspspec": -0.55,
         "parallax": 0.3264914996109769,
         "parallax_error": 0.013866132,
         "phot_bp_mean_mag": 13.652412,
         "phot_g_mean_mag": 12.3561945,
         "phot_rp_mean_mag": 11.240719,
         "source_id": 5835726099782306000,
         "teff_gspphot": 4622.5254,
         "teff_gspspec": 4250
        },
        {
         "_deepnote_index_column": 6,
         "ag_gspphot": 1.0731,
         "alphafe_gspspec": -0.13,
         "azero_gspphot": 1.4181,
         "b": -3.843803945705537,
         "distance_gspphot": 1859.0034,
         "ebpminrp_gspphot": 0.5704,
         "flags_gspspec": "00000010000009999999999999999999999999999",
         "l": 326.69792926865216,
         "libname_gspphot": "MARCS",
         "logg_gspphot": 2.6703,
         "logg_gspspec": 2.58,
         "mg_gspphot": 0.3604,
         "mh_gspphot": -0.1,
         "mh_gspspec": 0.12,
         "parallax": 0.541896736839476,
         "parallax_error": 0.013415391,
         "phot_bp_mean_mag": 13.56651,
         "phot_g_mean_mag": 12.765598,
         "phot_rp_mean_mag": 11.8893175,
         "source_id": 5835726138543259000,
         "teff_gspphot": 4866.447,
         "teff_gspspec": 4882
        },
        {
         "_deepnote_index_column": 7,
         "ag_gspphot": 1.8769,
         "alphafe_gspspec": "nan",
         "azero_gspphot": 2.6167,
         "b": -3.341875394802079,
         "distance_gspphot": 3097.4172,
         "ebpminrp_gspphot": 0.9943,
         "flags_gspspec": "00000000000019999999900999999999999999999",
         "l": 326.1492998738908,
         "libname_gspphot": "MARCS",
         "logg_gspphot": 1.9357,
         "logg_gspspec": 1.5,
         "mg_gspphot": -1.9532,
         "mh_gspphot": 0.1156,
         "mh_gspspec": -0.19,
         "parallax": 0.2967951899382643,
         "parallax_error": 0.014033825,
         "phot_bp_mean_mag": 13.522958,
         "phot_g_mean_mag": 12.3604145,
         "phot_rp_mean_mag": 11.304148,
         "source_id": 5835757951261595000,
         "teff_gspphot": 4634.9004,
         "teff_gspspec": 4250
        },
        {
         "_deepnote_index_column": 8,
         "ag_gspphot": 0.9099,
         "alphafe_gspspec": -0.04,
         "azero_gspphot": 1.2069,
         "b": -3.3177746730880733,
         "distance_gspphot": 1336.1287,
         "ebpminrp_gspphot": 0.481,
         "flags_gspspec": "00000000000009999999900999999999999999999",
         "l": 326.5210003819226,
         "libname_gspphot": "MARCS",
         "logg_gspphot": 2.3905,
         "logg_gspspec": 2.29,
         "mg_gspphot": 0.7444,
         "mh_gspphot": -0.0992,
         "mh_gspspec": 0.12,
         "parallax": 0.6894818412268718,
         "parallax_error": 0.012920574,
         "phot_bp_mean_mag": 13.049249,
         "phot_g_mean_mag": 12.264544,
         "phot_rp_mean_mag": 11.398659,
         "source_id": 5835788604555909000,
         "teff_gspphot": 4724.9995,
         "teff_gspspec": 4727
        },
        {
         "_deepnote_index_column": 9,
         "ag_gspphot": 1.5009,
         "alphafe_gspspec": -0.02,
         "azero_gspphot": 2.0328,
         "b": -3.782156463241954,
         "distance_gspphot": 3629.3015,
         "ebpminrp_gspphot": 0.795,
         "flags_gspspec": "00000000000009999999999999999999999999999",
         "l": 326.7783242788996,
         "libname_gspphot": "MARCS",
         "logg_gspphot": 2.3533,
         "logg_gspspec": 2.31,
         "mg_gspphot": -0.8924,
         "mh_gspphot": 0.0855,
         "mh_gspspec": 0.21,
         "parallax": 0.2306114911064634,
         "parallax_error": 0.020627022,
         "phot_bp_mean_mag": 14.350945,
         "phot_g_mean_mag": 13.38673,
         "phot_rp_mean_mag": 12.418227,
         "source_id": 5835726928817318000,
         "teff_gspphot": 4813.0806,
         "teff_gspspec": 4499
        },
        {
         "_deepnote_index_column": 10,
         "ag_gspphot": 0.9342,
         "alphafe_gspspec": -0.22,
         "azero_gspphot": 1.2469,
         "b": -3.333395555030344,
         "distance_gspphot": 2471.623,
         "ebpminrp_gspphot": 0.4951,
         "flags_gspspec": "00000010000009999999999999999999999999999",
         "l": 326.1377585438732,
         "libname_gspphot": "MARCS",
         "logg_gspphot": 2.3494,
         "logg_gspspec": 2.6,
         "mg_gspphot": 0.2069,
         "mh_gspphot": -0.1865,
         "mh_gspspec": 0.39,
         "parallax": 0.3456675335704871,
         "parallax_error": 0.015069706,
         "phot_bp_mean_mag": 13.899298,
         "phot_g_mean_mag": 13.088141,
         "phot_rp_mean_mag": 12.205187,
         "source_id": 5835758608499943000,
         "teff_gspphot": 4648.5513,
         "teff_gspspec": 4909
        },
        {
         "_deepnote_index_column": 11,
         "ag_gspphot": 0.5187,
         "alphafe_gspspec": 0.19,
         "azero_gspphot": 0.627,
         "b": -3.317396320339376,
         "distance_gspphot": 275.0412,
         "ebpminrp_gspphot": 0.2807,
         "flags_gspspec": "00000020000009999999999999999999999999999",
         "l": 326.13125727769454,
         "libname_gspphot": "MARCS",
         "logg_gspphot": 4.2985,
         "logg_gspspec": 4.26,
         "mg_gspphot": 4.4713,
         "mh_gspphot": -0.3464,
         "mh_gspspec": -0.17,
         "parallax": 3.543814732844447,
         "parallax_error": 0.01293231,
         "phot_bp_mean_mag": 12.621537,
         "phot_g_mean_mag": 12.191709,
         "phot_rp_mean_mag": 11.58697,
         "source_id": 5835758642859708000,
         "teff_gspphot": 5830.235,
         "teff_gspspec": 5727
        },
        {
         "_deepnote_index_column": 12,
         "ag_gspphot": 1.8446,
         "alphafe_gspspec": "nan",
         "azero_gspphot": 2.8407,
         "b": -3.29193419831516,
         "distance_gspphot": 6222.448,
         "ebpminrp_gspphot": 1.0305,
         "flags_gspspec": "00001110000029999999999999999999999999999",
         "l": 326.4993968588984,
         "libname_gspphot": "MARCS",
         "logg_gspphot": 0.4488,
         "logg_gspspec": 1.5,
         "mg_gspphot": -2.4515,
         "mh_gspphot": -0.6118,
         "mh_gspspec": -0.35,
         "parallax": 0.1404115627850181,
         "parallax_error": 0.015823144,
         "phot_bp_mean_mag": 15.031399,
         "phot_g_mean_mag": 13.337022,
         "phot_rp_mean_mag": 12.098257,
         "source_id": 5835789016872808000,
         "teff_gspphot": 3724.4514,
         "teff_gspspec": 4250
        },
        {
         "_deepnote_index_column": 13,
         "ag_gspphot": 1.0048,
         "alphafe_gspspec": -0.1,
         "azero_gspphot": 1.3615,
         "b": -3.739756723811405,
         "distance_gspphot": 1607.5875,
         "ebpminrp_gspphot": 0.5299,
         "flags_gspspec": "00000000000009999999900999901999999999999",
         "l": 326.7204812044855,
         "libname_gspphot": "MARCS",
         "logg_gspphot": 2.1554,
         "logg_gspspec": 1.7,
         "mg_gspphot": -0.0726,
         "mh_gspphot": -0.0827,
         "mh_gspspec": -0.05,
         "parallax": 0.4845527070226984,
         "parallax_error": 0.01448453,
         "phot_bp_mean_mag": 12.8138485,
         "phot_g_mean_mag": 11.936648,
         "phot_rp_mean_mag": 11.01673,
         "source_id": 5835727444213430000,
         "teff_gspphot": 4513.935,
         "teff_gspspec": 4531
        },
        {
         "_deepnote_index_column": 14,
         "ag_gspphot": 1.0007,
         "alphafe_gspspec": -0.09,
         "azero_gspphot": 1.3358,
         "b": -3.2874987057772,
         "distance_gspphot": 1347.3624,
         "ebpminrp_gspphot": 0.5284,
         "flags_gspspec": "00000000000009999999900999999999999999999",
         "l": 326.52351613237283,
         "libname_gspphot": "MARCS",
         "logg_gspphot": 2.4143,
         "logg_gspspec": 2.26,
         "mg_gspphot": 0.7494,
         "mh_gspphot": -0.0386,
         "mh_gspspec": 0.07,
         "parallax": 0.7084340548736503,
         "parallax_error": 0.019635897,
         "phot_bp_mean_mag": 13.2039385,
         "phot_g_mean_mag": 12.382245,
         "phot_rp_mean_mag": 11.4933405,
         "source_id": 5835789429189685000,
         "teff_gspphot": 4699.5103,
         "teff_gspspec": 4740
        },
        {
         "_deepnote_index_column": 15,
         "ag_gspphot": 1.0064,
         "alphafe_gspspec": -0.16,
         "azero_gspphot": 1.3135,
         "b": -3.299509227815411,
         "distance_gspphot": 520.1985,
         "ebpminrp_gspphot": 0.5394,
         "flags_gspspec": "00000010000009999999999999999999999999999",
         "l": 326.54998722453826,
         "libname_gspphot": "MARCS",
         "logg_gspphot": 3.499,
         "logg_gspspec": 1.98,
         "mg_gspphot": 3.1427,
         "mh_gspphot": -0.1304,
         "mh_gspspec": -0.07,
         "parallax": 0.9439855740493732,
         "parallax_error": 0.2724087,
         "phot_bp_mean_mag": 13.465246,
         "phot_g_mean_mag": 12.729063,
         "phot_rp_mean_mag": 11.876629,
         "source_id": 5835789493505540000,
         "teff_gspphot": 4943.305,
         "teff_gspspec": 4785
        },
        {
         "_deepnote_index_column": 16,
         "ag_gspphot": 0.9085,
         "alphafe_gspspec": -0.14,
         "azero_gspphot": 1.1989,
         "b": -3.746432723947108,
         "distance_gspphot": 1257.7114,
         "ebpminrp_gspphot": 0.4823,
         "flags_gspspec": "00000000000009999999900999999999999999999",
         "l": 326.7463926910312,
         "libname_gspphot": "MARCS",
         "logg_gspphot": 2.4442,
         "logg_gspspec": 2.16,
         "mg_gspphot": 0.8449,
         "mh_gspphot": -0.1865,
         "mh_gspspec": 0.09,
         "parallax": 0.6880059788611665,
         "parallax_error": 0.012787661,
         "phot_bp_mean_mag": 13.003611,
         "phot_g_mean_mag": 12.23685,
         "phot_rp_mean_mag": 11.3812,
         "source_id": 5835727783409486000,
         "teff_gspphot": 4777.9897,
         "teff_gspspec": 4833
        },
        {
         "_deepnote_index_column": 17,
         "ag_gspphot": 1.195,
         "alphafe_gspspec": "nan",
         "azero_gspphot": 1.8108,
         "b": -3.509969404180288,
         "distance_gspphot": 6036.2896,
         "ebpminrp_gspphot": 0.6791,
         "flags_gspspec": "00000001000019999999900991200999999999900",
         "l": 326.2167880761629,
         "libname_gspphot": "MARCS",
         "logg_gspphot": 0.9573,
         "logg_gspspec": 1.5,
         "mg_gspphot": -3.1442,
         "mh_gspphot": 0.501,
         "mh_gspspec": -0.42,
         "parallax": 0.278790920899181,
         "parallax_error": 0.01795558,
         "phot_bp_mean_mag": 13.389473,
         "phot_g_mean_mag": 11.925469,
         "phot_rp_mean_mag": 10.750116,
         "source_id": 5835759291291414000,
         "teff_gspphot": 3794.9473,
         "teff_gspspec": 4250
        },
        {
         "_deepnote_index_column": 18,
         "ag_gspphot": 2.2958,
         "alphafe_gspspec": "nan",
         "azero_gspphot": 3.2307,
         "b": -3.7331807359354783,
         "distance_gspphot": 2965.669,
         "ebpminrp_gspphot": 1.2327,
         "flags_gspspec": "00000001000019999999900999999999999999999",
         "l": 326.74851793032747,
         "libname_gspphot": "MARCS",
         "logg_gspphot": 1.8688,
         "logg_gspspec": 1.5,
         "mg_gspphot": -2.2861,
         "mh_gspphot": -0.1,
         "mh_gspspec": -0.26,
         "parallax": 0.2310192835519864,
         "parallax_error": 0.014354154,
         "phot_bp_mean_mag": 13.656323,
         "phot_g_mean_mag": 12.358085,
         "phot_rp_mean_mag": 11.246421,
         "source_id": 5835727890890042000,
         "teff_gspphot": 4716.473,
         "teff_gspspec": 4250
        },
        {
         "_deepnote_index_column": 19,
         "ag_gspphot": 1.7653,
         "alphafe_gspspec": "nan",
         "azero_gspphot": 2.8468,
         "b": -3.7309538067350334,
         "distance_gspphot": 2994.9438,
         "ebpminrp_gspphot": 1.1009,
         "flags_gspspec": "00000010000019999999999999999999999999999",
         "l": 326.76368852427856,
         "libname_gspphot": "PHOENIX",
         "logg_gspphot": 0.9777,
         "logg_gspspec": 1.5,
         "mg_gspphot": -0.9494,
         "mh_gspphot": 0.0822,
         "mh_gspspec": -0.56,
         "parallax": 0.1100969294053752,
         "parallax_error": 0.022158578,
         "phot_bp_mean_mag": 15.164597,
         "phot_g_mean_mag": 13.116628,
         "phot_rp_mean_mag": 11.79382,
         "source_id": 5835727993969262000,
         "teff_gspphot": 3667.9312,
         "teff_gspspec": 4250
        },
        {
         "_deepnote_index_column": 20,
         "ag_gspphot": 1.0998,
         "alphafe_gspspec": -0.02,
         "azero_gspphot": 1.455,
         "b": -3.720413097534361,
         "distance_gspphot": 2151.594,
         "ebpminrp_gspphot": 0.5853,
         "flags_gspspec": "00000010000009999999999999999999999999999",
         "l": 326.7667094447779,
         "libname_gspphot": "MARCS",
         "logg_gspphot": 2.6317,
         "logg_gspspec": 2.83,
         "mg_gspphot": 0.2676,
         "mh_gspphot": -0.13,
         "mh_gspspec": 0.17,
         "parallax": 0.5176676355140588,
         "parallax_error": 0.047681354,
         "phot_bp_mean_mag": 13.822868,
         "phot_g_mean_mag": 13.018194,
         "phot_rp_mean_mag": 12.134058,
         "source_id": 5835727993969275000,
         "teff_gspphot": 4862.751,
         "teff_gspspec": 4786
        },
        {
         "_deepnote_index_column": 21,
         "ag_gspphot": 1.6786,
         "alphafe_gspspec": -0.04,
         "azero_gspphot": 2.3465,
         "b": -3.702541748371301,
         "distance_gspphot": 2694.9077,
         "ebpminrp_gspphot": 0.8857,
         "flags_gspspec": "00000000000009999999999999999999999999999",
         "l": 326.62650449746127,
         "libname_gspphot": "MARCS",
         "logg_gspphot": 2.2385,
         "logg_gspspec": 2.35,
         "mg_gspphot": -0.2651,
         "mh_gspphot": 0.2228,
         "mh_gspspec": 0.33,
         "parallax": 0.2573906910210323,
         "parallax_error": 0.016432406,
         "phot_bp_mean_mag": 14.648459,
         "phot_g_mean_mag": 13.514496,
         "phot_rp_mean_mag": 12.470848,
         "source_id": 5835728784243670000,
         "teff_gspphot": 4505.3643,
         "teff_gspspec": 4233
        }
       ]
      },
      "text/html": [
       "<div>\n",
       "<style scoped>\n",
       "    .dataframe tbody tr th:only-of-type {\n",
       "        vertical-align: middle;\n",
       "    }\n",
       "\n",
       "    .dataframe tbody tr th {\n",
       "        vertical-align: top;\n",
       "    }\n",
       "\n",
       "    .dataframe thead th {\n",
       "        text-align: right;\n",
       "    }\n",
       "</style>\n",
       "<table border=\"1\" class=\"dataframe\">\n",
       "  <thead>\n",
       "    <tr style=\"text-align: right;\">\n",
       "      <th></th>\n",
       "      <th>source_id</th>\n",
       "      <th>l</th>\n",
       "      <th>b</th>\n",
       "      <th>parallax</th>\n",
       "      <th>parallax_error</th>\n",
       "      <th>phot_g_mean_mag</th>\n",
       "      <th>phot_bp_mean_mag</th>\n",
       "      <th>phot_rp_mean_mag</th>\n",
       "      <th>teff_gspspec</th>\n",
       "      <th>logg_gspspec</th>\n",
       "      <th>...</th>\n",
       "      <th>flags_gspspec</th>\n",
       "      <th>teff_gspphot</th>\n",
       "      <th>logg_gspphot</th>\n",
       "      <th>mh_gspphot</th>\n",
       "      <th>azero_gspphot</th>\n",
       "      <th>ag_gspphot</th>\n",
       "      <th>ebpminrp_gspphot</th>\n",
       "      <th>distance_gspphot</th>\n",
       "      <th>mg_gspphot</th>\n",
       "      <th>libname_gspphot</th>\n",
       "    </tr>\n",
       "  </thead>\n",
       "  <tbody>\n",
       "    <tr>\n",
       "      <th>0</th>\n",
       "      <td>5835725554428191104</td>\n",
       "      <td>326.634742</td>\n",
       "      <td>-3.749551</td>\n",
       "      <td>0.257299</td>\n",
       "      <td>0.015013</td>\n",
       "      <td>13.404951</td>\n",
       "      <td>14.487535</td>\n",
       "      <td>12.375557</td>\n",
       "      <td>4084.0</td>\n",
       "      <td>1.59</td>\n",
       "      <td>...</td>\n",
       "      <td>00000010000009999999999999999999999999999</td>\n",
       "      <td>5050.8380</td>\n",
       "      <td>2.5722</td>\n",
       "      <td>0.1408</td>\n",
       "      <td>2.6248</td>\n",
       "      <td>1.9191</td>\n",
       "      <td>1.0212</td>\n",
       "      <td>2400.7478</td>\n",
       "      <td>-0.4675</td>\n",
       "      <td>PHOENIX</td>\n",
       "    </tr>\n",
       "    <tr>\n",
       "      <th>1</th>\n",
       "      <td>5835725726226852480</td>\n",
       "      <td>326.666979</td>\n",
       "      <td>-3.789468</td>\n",
       "      <td>0.142775</td>\n",
       "      <td>0.014150</td>\n",
       "      <td>13.131085</td>\n",
       "      <td>14.374775</td>\n",
       "      <td>12.040055</td>\n",
       "      <td>4250.0</td>\n",
       "      <td>1.50</td>\n",
       "      <td>...</td>\n",
       "      <td>00000021000019999999999999999999999999999</td>\n",
       "      <td>4733.8633</td>\n",
       "      <td>2.0063</td>\n",
       "      <td>-0.2319</td>\n",
       "      <td>2.9756</td>\n",
       "      <td>2.1236</td>\n",
       "      <td>1.1413</td>\n",
       "      <td>3397.3354</td>\n",
       "      <td>-1.7435</td>\n",
       "      <td>PHOENIX</td>\n",
       "    </tr>\n",
       "    <tr>\n",
       "      <th>2</th>\n",
       "      <td>4658109465327385344</td>\n",
       "      <td>279.531278</td>\n",
       "      <td>-32.834735</td>\n",
       "      <td>2.373126</td>\n",
       "      <td>0.011887</td>\n",
       "      <td>11.898599</td>\n",
       "      <td>12.252738</td>\n",
       "      <td>11.380256</td>\n",
       "      <td>5712.0</td>\n",
       "      <td>3.68</td>\n",
       "      <td>...</td>\n",
       "      <td>00000010000009999999999999999999999999999</td>\n",
       "      <td>5780.7140</td>\n",
       "      <td>4.1391</td>\n",
       "      <td>0.3988</td>\n",
       "      <td>0.1639</td>\n",
       "      <td>0.1366</td>\n",
       "      <td>0.0724</td>\n",
       "      <td>415.3741</td>\n",
       "      <td>3.6750</td>\n",
       "      <td>MARCS</td>\n",
       "    </tr>\n",
       "    <tr>\n",
       "      <th>3</th>\n",
       "      <td>5835757577707659264</td>\n",
       "      <td>326.136689</td>\n",
       "      <td>-3.388114</td>\n",
       "      <td>0.216811</td>\n",
       "      <td>0.014882</td>\n",
       "      <td>12.342805</td>\n",
       "      <td>13.683682</td>\n",
       "      <td>11.215082</td>\n",
       "      <td>4007.0</td>\n",
       "      <td>1.09</td>\n",
       "      <td>...</td>\n",
       "      <td>00000000000009999999900999999999999999999</td>\n",
       "      <td>4587.9050</td>\n",
       "      <td>1.6570</td>\n",
       "      <td>-0.0356</td>\n",
       "      <td>3.2706</td>\n",
       "      <td>2.3009</td>\n",
       "      <td>1.2300</td>\n",
       "      <td>3731.9200</td>\n",
       "      <td>-2.8015</td>\n",
       "      <td>MARCS</td>\n",
       "    </tr>\n",
       "    <tr>\n",
       "      <th>4</th>\n",
       "      <td>5835725966745103232</td>\n",
       "      <td>326.658240</td>\n",
       "      <td>-3.739197</td>\n",
       "      <td>5.125078</td>\n",
       "      <td>0.017014</td>\n",
       "      <td>10.918342</td>\n",
       "      <td>11.265015</td>\n",
       "      <td>10.396759</td>\n",
       "      <td>6226.0</td>\n",
       "      <td>4.18</td>\n",
       "      <td>...</td>\n",
       "      <td>00000010000009999999900999901999999999999</td>\n",
       "      <td>6366.3037</td>\n",
       "      <td>4.3500</td>\n",
       "      <td>-0.3107</td>\n",
       "      <td>0.5201</td>\n",
       "      <td>0.4413</td>\n",
       "      <td>0.2381</td>\n",
       "      <td>196.9772</td>\n",
       "      <td>3.9724</td>\n",
       "      <td>PHOENIX</td>\n",
       "    </tr>\n",
       "    <tr>\n",
       "      <th>...</th>\n",
       "      <td>...</td>\n",
       "      <td>...</td>\n",
       "      <td>...</td>\n",
       "      <td>...</td>\n",
       "      <td>...</td>\n",
       "      <td>...</td>\n",
       "      <td>...</td>\n",
       "      <td>...</td>\n",
       "      <td>...</td>\n",
       "      <td>...</td>\n",
       "      <td>...</td>\n",
       "      <td>...</td>\n",
       "      <td>...</td>\n",
       "      <td>...</td>\n",
       "      <td>...</td>\n",
       "      <td>...</td>\n",
       "      <td>...</td>\n",
       "      <td>...</td>\n",
       "      <td>...</td>\n",
       "      <td>...</td>\n",
       "      <td>...</td>\n",
       "    </tr>\n",
       "    <tr>\n",
       "      <th>95</th>\n",
       "      <td>5917366526100736512</td>\n",
       "      <td>333.830817</td>\n",
       "      <td>-9.355939</td>\n",
       "      <td>0.910155</td>\n",
       "      <td>0.028003</td>\n",
       "      <td>11.400710</td>\n",
       "      <td>12.084267</td>\n",
       "      <td>10.601941</td>\n",
       "      <td>4557.0</td>\n",
       "      <td>1.99</td>\n",
       "      <td>...</td>\n",
       "      <td>00000000000009920019900009900999999999999</td>\n",
       "      <td>4731.8990</td>\n",
       "      <td>2.5729</td>\n",
       "      <td>0.1413</td>\n",
       "      <td>0.7525</td>\n",
       "      <td>0.5741</td>\n",
       "      <td>0.3000</td>\n",
       "      <td>1199.6442</td>\n",
       "      <td>0.4573</td>\n",
       "      <td>MARCS</td>\n",
       "    </tr>\n",
       "    <tr>\n",
       "      <th>96</th>\n",
       "      <td>5917121777358655872</td>\n",
       "      <td>332.231401</td>\n",
       "      <td>-8.348733</td>\n",
       "      <td>1.731636</td>\n",
       "      <td>0.012611</td>\n",
       "      <td>12.278474</td>\n",
       "      <td>12.560555</td>\n",
       "      <td>11.835876</td>\n",
       "      <td>6715.0</td>\n",
       "      <td>4.10</td>\n",
       "      <td>...</td>\n",
       "      <td>00000030000009999999999999999999999999999</td>\n",
       "      <td>6656.4570</td>\n",
       "      <td>4.1712</td>\n",
       "      <td>-0.4661</td>\n",
       "      <td>0.4192</td>\n",
       "      <td>0.3638</td>\n",
       "      <td>0.1968</td>\n",
       "      <td>560.2202</td>\n",
       "      <td>3.1889</td>\n",
       "      <td>A</td>\n",
       "    </tr>\n",
       "    <tr>\n",
       "      <th>97</th>\n",
       "      <td>5917201015234969472</td>\n",
       "      <td>333.046934</td>\n",
       "      <td>-9.722948</td>\n",
       "      <td>4.737724</td>\n",
       "      <td>0.016760</td>\n",
       "      <td>9.868277</td>\n",
       "      <td>10.159750</td>\n",
       "      <td>9.405288</td>\n",
       "      <td>6439.0</td>\n",
       "      <td>4.14</td>\n",
       "      <td>...</td>\n",
       "      <td>00000000000001299000000999900029999999999</td>\n",
       "      <td>6275.1190</td>\n",
       "      <td>4.0375</td>\n",
       "      <td>-0.6100</td>\n",
       "      <td>0.2787</td>\n",
       "      <td>0.2393</td>\n",
       "      <td>0.1297</td>\n",
       "      <td>209.5456</td>\n",
       "      <td>3.0274</td>\n",
       "      <td>A</td>\n",
       "    </tr>\n",
       "    <tr>\n",
       "      <th>98</th>\n",
       "      <td>5917366869698143360</td>\n",
       "      <td>333.830908</td>\n",
       "      <td>-9.314400</td>\n",
       "      <td>0.408543</td>\n",
       "      <td>0.021761</td>\n",
       "      <td>11.831022</td>\n",
       "      <td>12.569979</td>\n",
       "      <td>10.996258</td>\n",
       "      <td>4389.0</td>\n",
       "      <td>1.52</td>\n",
       "      <td>...</td>\n",
       "      <td>00000000000000012999900009900999999999909</td>\n",
       "      <td>4277.1460</td>\n",
       "      <td>1.3717</td>\n",
       "      <td>-0.5854</td>\n",
       "      <td>0.4209</td>\n",
       "      <td>0.3133</td>\n",
       "      <td>0.1652</td>\n",
       "      <td>4001.2747</td>\n",
       "      <td>-1.4408</td>\n",
       "      <td>MARCS</td>\n",
       "    </tr>\n",
       "    <tr>\n",
       "      <th>99</th>\n",
       "      <td>5835818493124710016</td>\n",
       "      <td>326.654748</td>\n",
       "      <td>-2.900888</td>\n",
       "      <td>0.495842</td>\n",
       "      <td>0.021377</td>\n",
       "      <td>11.502803</td>\n",
       "      <td>12.663205</td>\n",
       "      <td>10.441858</td>\n",
       "      <td>4250.0</td>\n",
       "      <td>1.50</td>\n",
       "      <td>...</td>\n",
       "      <td>00100031000029999999999999999999999999999</td>\n",
       "      <td>4308.0540</td>\n",
       "      <td>1.3461</td>\n",
       "      <td>-0.4526</td>\n",
       "      <td>2.1938</td>\n",
       "      <td>1.5554</td>\n",
       "      <td>0.8308</td>\n",
       "      <td>1578.2548</td>\n",
       "      <td>-0.9802</td>\n",
       "      <td>MARCS</td>\n",
       "    </tr>\n",
       "  </tbody>\n",
       "</table>\n",
       "<p>100 rows × 22 columns</p>\n",
       "</div>"
      ],
      "text/plain": [
       "              source_id           l          b  parallax  parallax_error  \\\n",
       "0   5835725554428191104  326.634742  -3.749551  0.257299        0.015013   \n",
       "1   5835725726226852480  326.666979  -3.789468  0.142775        0.014150   \n",
       "2   4658109465327385344  279.531278 -32.834735  2.373126        0.011887   \n",
       "3   5835757577707659264  326.136689  -3.388114  0.216811        0.014882   \n",
       "4   5835725966745103232  326.658240  -3.739197  5.125078        0.017014   \n",
       "..                  ...         ...        ...       ...             ...   \n",
       "95  5917366526100736512  333.830817  -9.355939  0.910155        0.028003   \n",
       "96  5917121777358655872  332.231401  -8.348733  1.731636        0.012611   \n",
       "97  5917201015234969472  333.046934  -9.722948  4.737724        0.016760   \n",
       "98  5917366869698143360  333.830908  -9.314400  0.408543        0.021761   \n",
       "99  5835818493124710016  326.654748  -2.900888  0.495842        0.021377   \n",
       "\n",
       "    phot_g_mean_mag  phot_bp_mean_mag  phot_rp_mean_mag  teff_gspspec  \\\n",
       "0         13.404951         14.487535         12.375557        4084.0   \n",
       "1         13.131085         14.374775         12.040055        4250.0   \n",
       "2         11.898599         12.252738         11.380256        5712.0   \n",
       "3         12.342805         13.683682         11.215082        4007.0   \n",
       "4         10.918342         11.265015         10.396759        6226.0   \n",
       "..              ...               ...               ...           ...   \n",
       "95        11.400710         12.084267         10.601941        4557.0   \n",
       "96        12.278474         12.560555         11.835876        6715.0   \n",
       "97         9.868277         10.159750          9.405288        6439.0   \n",
       "98        11.831022         12.569979         10.996258        4389.0   \n",
       "99        11.502803         12.663205         10.441858        4250.0   \n",
       "\n",
       "    logg_gspspec  ...                              flags_gspspec  \\\n",
       "0           1.59  ...  00000010000009999999999999999999999999999   \n",
       "1           1.50  ...  00000021000019999999999999999999999999999   \n",
       "2           3.68  ...  00000010000009999999999999999999999999999   \n",
       "3           1.09  ...  00000000000009999999900999999999999999999   \n",
       "4           4.18  ...  00000010000009999999900999901999999999999   \n",
       "..           ...  ...                                        ...   \n",
       "95          1.99  ...  00000000000009920019900009900999999999999   \n",
       "96          4.10  ...  00000030000009999999999999999999999999999   \n",
       "97          4.14  ...  00000000000001299000000999900029999999999   \n",
       "98          1.52  ...  00000000000000012999900009900999999999909   \n",
       "99          1.50  ...  00100031000029999999999999999999999999999   \n",
       "\n",
       "    teff_gspphot logg_gspphot  mh_gspphot  azero_gspphot  ag_gspphot  \\\n",
       "0      5050.8380       2.5722      0.1408         2.6248      1.9191   \n",
       "1      4733.8633       2.0063     -0.2319         2.9756      2.1236   \n",
       "2      5780.7140       4.1391      0.3988         0.1639      0.1366   \n",
       "3      4587.9050       1.6570     -0.0356         3.2706      2.3009   \n",
       "4      6366.3037       4.3500     -0.3107         0.5201      0.4413   \n",
       "..           ...          ...         ...            ...         ...   \n",
       "95     4731.8990       2.5729      0.1413         0.7525      0.5741   \n",
       "96     6656.4570       4.1712     -0.4661         0.4192      0.3638   \n",
       "97     6275.1190       4.0375     -0.6100         0.2787      0.2393   \n",
       "98     4277.1460       1.3717     -0.5854         0.4209      0.3133   \n",
       "99     4308.0540       1.3461     -0.4526         2.1938      1.5554   \n",
       "\n",
       "    ebpminrp_gspphot  distance_gspphot  mg_gspphot  libname_gspphot  \n",
       "0             1.0212         2400.7478     -0.4675          PHOENIX  \n",
       "1             1.1413         3397.3354     -1.7435          PHOENIX  \n",
       "2             0.0724          415.3741      3.6750            MARCS  \n",
       "3             1.2300         3731.9200     -2.8015            MARCS  \n",
       "4             0.2381          196.9772      3.9724          PHOENIX  \n",
       "..               ...               ...         ...              ...  \n",
       "95            0.3000         1199.6442      0.4573            MARCS  \n",
       "96            0.1968          560.2202      3.1889                A  \n",
       "97            0.1297          209.5456      3.0274                A  \n",
       "98            0.1652         4001.2747     -1.4408            MARCS  \n",
       "99            0.8308         1578.2548     -0.9802            MARCS  \n",
       "\n",
       "[100 rows x 22 columns]"
      ]
     },
     "execution_count": 15,
     "metadata": {},
     "output_type": "execute_result"
    }
   ],
   "source": [
    "import pandas as pd\n",
    "import numpy as np\n",
    "data = pd.read_csv(source)\n",
    "data"
   ]
  },
  {
   "cell_type": "code",
   "execution_count": null,
   "metadata": {
    "cell_id": "00022-d2f9ad02-bcd7-474b-be6f-2fe94d090da2",
    "deepnote_cell_type": "code",
    "deepnote_to_be_reexecuted": true,
    "execution_millis": 0,
    "execution_start": 1634208921938,
    "source_hash": "21646487",
    "tags": []
   },
   "outputs": [
    {
     "data": {
      "text/plain": [
       "Calibration Models\n",
       "    teff\n",
       "    mh"
      ]
     },
     "execution_count": 16,
     "metadata": {},
     "output_type": "execute_result"
    }
   ],
   "source": [
    "from gdr3apcal import GaiaDR3_GSPPhot_cal\n",
    "# calib = GaiaDR3_GSPPhot_cal()     # reusing the previous object for memory\n",
    "calib"
   ]
  },
  {
   "cell_type": "code",
   "execution_count": null,
   "metadata": {
    "cell_id": "00022-2d0c34b6-6f70-4cad-926c-a91c401c9269",
    "deepnote_cell_type": "code",
    "deepnote_to_be_reexecuted": true,
    "execution_millis": 6,
    "execution_start": 1634208921939,
    "source_hash": "2d319782",
    "tags": []
   },
   "outputs": [
    {
     "name": "stdout",
     "output_type": "stream",
     "text": [
      " Teff raw RMS difference: 669.3194 K\n",
      "[M/H] raw RMS difference: 0.7394 dex\n"
     ]
    }
   ],
   "source": [
    "teff_raw_r = np.sqrt(np.mean((data['teff_gspphot'] - data['teff_gspspec']) ** 2))\n",
    "mh_raw_r = np.sqrt(np.mean((data['mh_gspphot'] - data['mh_gspspec']) ** 2))\n",
    "print(f' Teff raw RMS difference: {teff_raw_r:3.4f} K')\n",
    "print(f'[M/H] raw RMS difference: {mh_raw_r:3.4f} dex')"
   ]
  },
  {
   "cell_type": "code",
   "execution_count": null,
   "metadata": {
    "cell_id": "00023-66884b77-d387-4a2f-867d-330e69d21207",
    "deepnote_cell_type": "code",
    "deepnote_to_be_reexecuted": true,
    "execution_millis": 190,
    "execution_start": 1634208921940,
    "source_hash": "1aaade02",
    "tags": []
   },
   "outputs": [
    {
     "name": "stdout",
     "output_type": "stream",
     "text": [
      "Automatically adding \"cos(b)\" from \"b\" [assuming degrees].\n",
      " Teff calibrated RMS difference: 334.4451 K (previously 669.3194)\n",
      "[M/H] calibrated RMS difference: 0.5270 dex (previously 0.7394)\n"
     ]
    }
   ],
   "source": [
    "with warnings.catch_warnings():\n",
    "    # Catching the sklearn version warning\n",
    "    warnings.simplefilter('ignore')\n",
    "    cal_teff = calib.calibrateTeff(data)\n",
    "    cal_mh = calib.calibrateMetallicity(data)\n",
    "teff_cal_r = np.sqrt(np.mean((cal_teff - data['teff_gspspec']) ** 2))\n",
    "mh_cal_r = np.sqrt(np.mean((cal_mh - data['mh_gspspec']) ** 2))\n",
    "print(f' Teff calibrated RMS difference: {teff_cal_r:3.4f} K (previously {teff_raw_r:3.4f})')\n",
    "print(f'[M/H] calibrated RMS difference: {mh_cal_r:3.4f} dex (previously {mh_raw_r:3.4f})')"
   ]
  }
 ],
 "metadata": {
  "deepnote": {
   "is_reactive": false
  },
  "deepnote_execution_queue": [],
  "deepnote_notebook_id": "9645800a-694b-4ad8-bf54-775ed653624a",
  "kernelspec": {
   "display_name": "Python 3",
   "language": "python",
   "name": "python3"
  },
  "language_info": {
   "codemirror_mode": {
    "name": "ipython",
    "version": 3
   },
   "file_extension": ".py",
   "mimetype": "text/x-python",
   "name": "python",
   "nbconvert_exporter": "python",
   "pygments_lexer": "ipython3",
   "version": "3.10.4"
  },
  "orig_nbformat": 2
 },
 "nbformat": 4,
 "nbformat_minor": 2
}
